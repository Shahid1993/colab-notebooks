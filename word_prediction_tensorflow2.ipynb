{
  "nbformat": 4,
  "nbformat_minor": 0,
  "metadata": {
    "colab": {
      "name": "word_prediction_tensorflow2.ipynb",
      "provenance": [],
      "toc_visible": true,
      "machine_shape": "hm",
      "include_colab_link": true
    },
    "kernelspec": {
      "name": "python3",
      "display_name": "Python 3"
    },
    "accelerator": "GPU"
  },
  "cells": [
    {
      "cell_type": "markdown",
      "metadata": {
        "id": "view-in-github",
        "colab_type": "text"
      },
      "source": [
        "<a href=\"https://colab.research.google.com/github/Shahid1993/colab-notebooks/blob/master/word_prediction_tensorflow2.ipynb\" target=\"_parent\"><img src=\"https://colab.research.google.com/assets/colab-badge.svg\" alt=\"Open In Colab\"/></a>"
      ]
    },
    {
      "cell_type": "markdown",
      "metadata": {
        "id": "B0IFebImyZbQ",
        "colab_type": "text"
      },
      "source": [
        "# Mounting Google Drive\n"
      ]
    },
    {
      "cell_type": "code",
      "metadata": {
        "id": "uG_WAn6yxxQ_",
        "colab_type": "code",
        "colab": {
          "base_uri": "https://localhost:8080/",
          "height": 35
        },
        "outputId": "c496eb37-d0f3-45e5-e0f1-20dc5276c903"
      },
      "source": [
        "# Mounting Google Drive to Load Data\n",
        "from google.colab import drive\n",
        "drive.mount('/content/drive')"
      ],
      "execution_count": 71,
      "outputs": [
        {
          "output_type": "stream",
          "text": [
            "Mounted at /content/drive\n"
          ],
          "name": "stdout"
        }
      ]
    },
    {
      "cell_type": "code",
      "metadata": {
        "id": "XgOQVKDuye4E",
        "colab_type": "code",
        "colab": {}
      },
      "source": [
        "try:\n",
        "  %tensorflow_version 2.x\n",
        "except Exception:\n",
        "  !pip install -q -U \"tensorflow-gpu==2.0.0rc0\""
      ],
      "execution_count": 0,
      "outputs": []
    },
    {
      "cell_type": "code",
      "metadata": {
        "id": "twCYwSReyuEC",
        "colab_type": "code",
        "colab": {}
      },
      "source": [
        "import numpy as np\n",
        "np.random.seed(42)\n",
        "import tensorflow as tf\n",
        "#tf.set_random_seed(42)\n",
        "from tensorflow.keras.models import Sequential, load_model\n",
        "from tensorflow.keras.layers import Dense, Activation\n",
        "from tensorflow.keras.layers import LSTM, Dropout#, CuDNNLSTM\n",
        "from tensorflow.keras.layers import TimeDistributed\n",
        "#from tensorflow.keras.layers.core import Dense, Activation, Dropout, RepeatVector\n",
        "from tensorflow.keras.optimizers import RMSprop\n",
        "import matplotlib.pyplot as plt\n",
        "import pickle\n",
        "import sys\n",
        "import heapq\n",
        "import seaborn as sns\n",
        "from pylab import rcParams\n",
        "import re\n",
        "\n",
        "%matplotlib inline\n",
        "\n",
        "sns.set(style='whitegrid', palette='muted', font_scale=1.5)\n",
        "\n",
        "rcParams['figure.figsize'] = 12, 5"
      ],
      "execution_count": 0,
      "outputs": []
    },
    {
      "cell_type": "markdown",
      "metadata": {
        "id": "pAManKQ4y7XQ",
        "colab_type": "text"
      },
      "source": [
        "# Loading Data"
      ]
    },
    {
      "cell_type": "code",
      "metadata": {
        "id": "YAVEBMP4yx4H",
        "colab_type": "code",
        "colab": {
          "base_uri": "https://localhost:8080/",
          "height": 35
        },
        "outputId": "2574affc-b5ce-4f7d-935b-65cb0a748998"
      },
      "source": [
        "path = \"./drive/My Drive/ML/data/1-billion-word-language-modeling-benchmark-r13output/training-monolingual.tokenized.shuffled/news.en-00001-of-00100\"\n",
        "\n",
        "training_corpus = open(path).read().lower()\n",
        "print('corpus length:', len(training_corpus))"
      ],
      "execution_count": 74,
      "outputs": [
        {
          "output_type": "stream",
          "text": [
            "corpus length: 41915785\n"
          ],
          "name": "stdout"
        }
      ]
    },
    {
      "cell_type": "markdown",
      "metadata": {
        "id": "JyRgqfFTzC8S",
        "colab_type": "text"
      },
      "source": [
        "# Preprocessing"
      ]
    },
    {
      "cell_type": "code",
      "metadata": {
        "id": "F0u1e-avzA4_",
        "colab_type": "code",
        "colab": {
          "base_uri": "https://localhost:8080/",
          "height": 70
        },
        "outputId": "3aa53104-3c03-48bc-f876-b32daf57cb6f"
      },
      "source": [
        "chars = sorted(list(set(training_corpus)))\n",
        "\n",
        "print('Unique Character count before preprocessing:', len(chars))\n",
        "\n",
        "#training_corpus = re.sub(r'[^abcdefghijklmnopqrstuvwxyz0123456789 !\"&\\',-.:;?_]', '', training_corpus)\n",
        "training_corpus = re.sub(r'[^abcdefghijklmnopqrstuvwxyz0123456789 !&\\',-.]', '', training_corpus)\n",
        "\n",
        "print('corpus length after preprocessing:', len(training_corpus))\n",
        "\n",
        "#chars = sorted(list(set(training_corpus)))\n",
        "chars = 'abcdefghijklmnopqrstuvwxyz0123456789 !&\\',-.'\n",
        "char_indices = dict((c, i) for i, c in enumerate(chars))\n",
        "indices_char = dict((i, c) for i, c in enumerate(chars))\n",
        "\n",
        "print('Unique Character count after preprocessing:', len(chars))"
      ],
      "execution_count": 75,
      "outputs": [
        {
          "output_type": "stream",
          "text": [
            "Unique Character count before preprocessing: 149\n",
            "corpus length after preprocessing: 41412210\n",
            "Unique Character count after preprocessing: 43\n"
          ],
          "name": "stdout"
        }
      ]
    },
    {
      "cell_type": "code",
      "metadata": {
        "id": "_NO0x6E6zNDm",
        "colab_type": "code",
        "colab": {
          "base_uri": "https://localhost:8080/",
          "height": 35
        },
        "outputId": "ccc41c2c-6226-4f36-b7aa-dc81c362d3f2"
      },
      "source": [
        "SENTENCE_LENGTH = 40\n",
        "STRIDE = 40\n",
        "sentences = []\n",
        "next_chars = []\n",
        "for i in range(0, len(training_corpus) - SENTENCE_LENGTH, STRIDE):\n",
        "    sentences.append(training_corpus[i: i + SENTENCE_LENGTH])\n",
        "    next_chars.append(training_corpus[i + SENTENCE_LENGTH])\n",
        "print(f'num training examples: {len(sentences)}')"
      ],
      "execution_count": 76,
      "outputs": [
        {
          "output_type": "stream",
          "text": [
            "num training examples: 1035305\n"
          ],
          "name": "stdout"
        }
      ]
    },
    {
      "cell_type": "markdown",
      "metadata": {
        "id": "KPqA7xT_zb9V",
        "colab_type": "text"
      },
      "source": [
        "# Word Vectorization"
      ]
    },
    {
      "cell_type": "code",
      "metadata": {
        "id": "XTP8msTizXw7",
        "colab_type": "code",
        "colab": {}
      },
      "source": [
        "X = np.zeros((len(sentences), SENTENCE_LENGTH, len(chars)), dtype=np.bool)\n",
        "y = np.zeros((len(sentences), len(chars)), dtype=np.bool)\n",
        "for i, sentence in enumerate(sentences):\n",
        "    for t, char in enumerate(sentence):\n",
        "        X[i, t, char_indices[char]] = 1\n",
        "    y[i, char_indices[next_chars[i]]] = 1"
      ],
      "execution_count": 0,
      "outputs": []
    },
    {
      "cell_type": "code",
      "metadata": {
        "id": "8grZLTBTzgBZ",
        "colab_type": "code",
        "colab": {
          "base_uri": "https://localhost:8080/",
          "height": 35
        },
        "outputId": "b93dc5d6-9eb9-4ce2-c675-829bd6540a9f"
      },
      "source": [
        "sentences[20200]"
      ],
      "execution_count": 78,
      "outputs": [
        {
          "output_type": "execute_result",
          "data": {
            "text/plain": [
              "'ld finishing second , well ahead of thir'"
            ]
          },
          "metadata": {
            "tags": []
          },
          "execution_count": 78
        }
      ]
    },
    {
      "cell_type": "code",
      "metadata": {
        "id": "rgEpp8s80Jkw",
        "colab_type": "code",
        "colab": {
          "base_uri": "https://localhost:8080/",
          "height": 35
        },
        "outputId": "008acc97-93ed-46ca-ac36-e922c0be8ebc"
      },
      "source": [
        "next_chars[20200]"
      ],
      "execution_count": 79,
      "outputs": [
        {
          "output_type": "execute_result",
          "data": {
            "text/plain": [
              "'d'"
            ]
          },
          "metadata": {
            "tags": []
          },
          "execution_count": 79
        }
      ]
    },
    {
      "cell_type": "code",
      "metadata": {
        "id": "p4rASPb40Lek",
        "colab_type": "code",
        "colab": {
          "base_uri": "https://localhost:8080/",
          "height": 140
        },
        "outputId": "e85dc204-4499-4d36-db06-1e99aa8bf791"
      },
      "source": [
        "X[0]"
      ],
      "execution_count": 80,
      "outputs": [
        {
          "output_type": "execute_result",
          "data": {
            "text/plain": [
              "array([[False, False, False, ..., False, False, False],\n",
              "       [False, False, False, ..., False, False, False],\n",
              "       [False, False, False, ..., False, False, False],\n",
              "       ...,\n",
              "       [ True, False, False, ..., False, False, False],\n",
              "       [False, False, False, ..., False, False, False],\n",
              "       [False, False, False, ..., False, False, False]])"
            ]
          },
          "metadata": {
            "tags": []
          },
          "execution_count": 80
        }
      ]
    },
    {
      "cell_type": "code",
      "metadata": {
        "id": "m9YWw5vF0Njo",
        "colab_type": "code",
        "colab": {
          "base_uri": "https://localhost:8080/",
          "height": 105
        },
        "outputId": "2ae57d18-251d-4826-8bc4-7df98094fa12"
      },
      "source": [
        "y[0]"
      ],
      "execution_count": 81,
      "outputs": [
        {
          "output_type": "execute_result",
          "data": {
            "text/plain": [
              "array([False, False, False, False, False, False, False, False, False,\n",
              "       False, False, False, False, False, False, False, False, False,\n",
              "       False, False, False, False, False, False, False, False, False,\n",
              "       False, False, False, False, False, False, False, False, False,\n",
              "        True, False, False, False, False, False, False])"
            ]
          },
          "metadata": {
            "tags": []
          },
          "execution_count": 81
        }
      ]
    },
    {
      "cell_type": "code",
      "metadata": {
        "id": "496_N4670PJA",
        "colab_type": "code",
        "colab": {
          "base_uri": "https://localhost:8080/",
          "height": 35
        },
        "outputId": "9af038f6-4c1b-412e-d844-ed4e6e281ad9"
      },
      "source": [
        "X.shape"
      ],
      "execution_count": 82,
      "outputs": [
        {
          "output_type": "execute_result",
          "data": {
            "text/plain": [
              "(1035305, 40, 43)"
            ]
          },
          "metadata": {
            "tags": []
          },
          "execution_count": 82
        }
      ]
    },
    {
      "cell_type": "code",
      "metadata": {
        "id": "OWcWJq_h0QzG",
        "colab_type": "code",
        "colab": {
          "base_uri": "https://localhost:8080/",
          "height": 35
        },
        "outputId": "7d4e9b62-c635-4d2e-fc22-03e2dd67eae3"
      },
      "source": [
        "y.shape"
      ],
      "execution_count": 83,
      "outputs": [
        {
          "output_type": "execute_result",
          "data": {
            "text/plain": [
              "(1035305, 43)"
            ]
          },
          "metadata": {
            "tags": []
          },
          "execution_count": 83
        }
      ]
    },
    {
      "cell_type": "markdown",
      "metadata": {
        "id": "07P5degS0VEm",
        "colab_type": "text"
      },
      "source": [
        "# Building the Model"
      ]
    },
    {
      "cell_type": "code",
      "metadata": {
        "id": "DIInE8c40SQl",
        "colab_type": "code",
        "colab": {}
      },
      "source": [
        "model = Sequential([\n",
        "                    # CuDNNLSTM(256, input_shape=(None, len(chars)), return_sequences=True),\n",
        "                    # CuDNNLSTM(128),\n",
        "                    LSTM(512, input_shape=(None, len(chars)), recurrent_dropout=0, use_bias=True, return_sequences=True),\n",
        "                    Dropout(0.2),\n",
        "                    LSTM(512, recurrent_dropout=0, use_bias=True ),\n",
        "                    Dropout(0.2),\n",
        "                    #Dense(512, activation='relu'),\n",
        "                    Dense(len(chars), activation='softmax')\n",
        "])\n",
        "\n",
        "optimizer = RMSprop(lr=0.001, rho=0.9, epsilon=1e-08, decay=0.0)"
      ],
      "execution_count": 0,
      "outputs": []
    },
    {
      "cell_type": "code",
      "metadata": {
        "id": "V0uQZiT30hBh",
        "colab_type": "code",
        "colab": {
          "base_uri": "https://localhost:8080/",
          "height": 334
        },
        "outputId": "66aec9df-0ffb-4fb3-d469-437ea5fcfdf5"
      },
      "source": [
        "model.summary()"
      ],
      "execution_count": 85,
      "outputs": [
        {
          "output_type": "stream",
          "text": [
            "Model: \"sequential_2\"\n",
            "_________________________________________________________________\n",
            "Layer (type)                 Output Shape              Param #   \n",
            "=================================================================\n",
            "lstm_4 (LSTM)                (None, None, 512)         1138688   \n",
            "_________________________________________________________________\n",
            "dropout_4 (Dropout)          (None, None, 512)         0         \n",
            "_________________________________________________________________\n",
            "lstm_5 (LSTM)                (None, 512)               2099200   \n",
            "_________________________________________________________________\n",
            "dropout_5 (Dropout)          (None, 512)               0         \n",
            "_________________________________________________________________\n",
            "dense_2 (Dense)              (None, 43)                22059     \n",
            "=================================================================\n",
            "Total params: 3,259,947\n",
            "Trainable params: 3,259,947\n",
            "Non-trainable params: 0\n",
            "_________________________________________________________________\n"
          ],
          "name": "stdout"
        }
      ]
    },
    {
      "cell_type": "code",
      "metadata": {
        "id": "hnSNKgtu0j2h",
        "colab_type": "code",
        "colab": {
          "base_uri": "https://localhost:8080/",
          "height": 72
        },
        "outputId": "0c2be1af-b19b-4e60-e648-6c9cd90d38e0"
      },
      "source": [
        "model.compile(loss='categorical_crossentropy', optimizer=optimizer, metrics=['accuracy'])\n",
        "history = model.fit(X, y, validation_split=0.05, batch_size=512, epochs=1, shuffle=True).history"
      ],
      "execution_count": 86,
      "outputs": [
        {
          "output_type": "stream",
          "text": [
            "Train on 983539 samples, validate on 51766 samples\n",
            "983539/983539 [==============================] - 495s 503us/sample - loss: 2.2057 - accuracy: 0.3556 - val_loss: 1.8055 - val_accuracy: 0.4615\n"
          ],
          "name": "stdout"
        }
      ]
    },
    {
      "cell_type": "markdown",
      "metadata": {
        "id": "9_dhJEPv1dJS",
        "colab_type": "text"
      },
      "source": [
        "# Save as Keras .h5 model"
      ]
    },
    {
      "cell_type": "code",
      "metadata": {
        "id": "dbFt0hBy0ouE",
        "colab_type": "code",
        "colab": {}
      },
      "source": [
        "model.save('./drive/My Drive/ML/Models/word_completion_prediction_2/t2/1_1.h5')\n",
        "pickle.dump(history, open('./drive/My Drive/ML/Models/word_completion_prediction_2/t2/1_1_history.p', \"wb\"))"
      ],
      "execution_count": 0,
      "outputs": []
    },
    {
      "cell_type": "markdown",
      "metadata": {
        "id": "WcpGqBVR1pay",
        "colab_type": "text"
      },
      "source": [
        "#Loading the Keras .h5 Model"
      ]
    },
    {
      "cell_type": "code",
      "metadata": {
        "id": "P-3rfJ6j1ql9",
        "colab_type": "code",
        "colab": {
          "base_uri": "https://localhost:8080/",
          "height": 334
        },
        "outputId": "85a145cb-9ee8-4bc6-b23f-8ee298043c23"
      },
      "source": [
        "reloaded = tf.keras.models.load_model('./drive/My Drive/ML/Models/word_completion_prediction_2/t2/1_1.h5')\n",
        "history = pickle.load(open('./drive/My Drive/ML/Models/word_completion_prediction_2/t2/1_1_history.p', \"rb\"))\n",
        "\n",
        "\n",
        "reloaded.summary()"
      ],
      "execution_count": 54,
      "outputs": [
        {
          "output_type": "stream",
          "text": [
            "Model: \"sequential_1\"\n",
            "_________________________________________________________________\n",
            "Layer (type)                 Output Shape              Param #   \n",
            "=================================================================\n",
            "lstm_2 (LSTM)                (None, None, 512)         1138688   \n",
            "_________________________________________________________________\n",
            "dropout_2 (Dropout)          (None, None, 512)         0         \n",
            "_________________________________________________________________\n",
            "lstm_3 (LSTM)                (None, 512)               2099200   \n",
            "_________________________________________________________________\n",
            "dropout_3 (Dropout)          (None, 512)               0         \n",
            "_________________________________________________________________\n",
            "dense_1 (Dense)              (None, 43)                22059     \n",
            "=================================================================\n",
            "Total params: 3,259,947\n",
            "Trainable params: 3,259,947\n",
            "Non-trainable params: 0\n",
            "_________________________________________________________________\n"
          ],
          "name": "stdout"
        }
      ]
    },
    {
      "cell_type": "code",
      "metadata": {
        "id": "0nlPEPth4tFU",
        "colab_type": "code",
        "colab": {
          "base_uri": "https://localhost:8080/",
          "height": 87
        },
        "outputId": "c9d09e7f-cf20-4cf8-ef80-653973d5b4ed"
      },
      "source": [
        "history"
      ],
      "execution_count": 55,
      "outputs": [
        {
          "output_type": "execute_result",
          "data": {
            "text/plain": [
              "{'accuracy': [0.38651034],\n",
              " 'loss': [2.0856837101533925],\n",
              " 'val_accuracy': [0.4871151],\n",
              " 'val_loss': [1.7130006977539363]}"
            ]
          },
          "metadata": {
            "tags": []
          },
          "execution_count": 55
        }
      ]
    },
    {
      "cell_type": "markdown",
      "metadata": {
        "id": "U9qOakQJ11cl",
        "colab_type": "text"
      },
      "source": [
        "#Retraining the Existing Model"
      ]
    },
    {
      "cell_type": "code",
      "metadata": {
        "id": "eIafJR2912Ih",
        "colab_type": "code",
        "colab": {}
      },
      "source": [
        "history = reloaded.fit(X, y, validation_split=0.05, batch_size=512, epochs=1, shuffle=True).history"
      ],
      "execution_count": 0,
      "outputs": []
    },
    {
      "cell_type": "markdown",
      "metadata": {
        "id": "yRolQHVn14SY",
        "colab_type": "text"
      },
      "source": [
        "#Saving Retrained model as a new Keras .h5 Model"
      ]
    },
    {
      "cell_type": "code",
      "metadata": {
        "id": "ZFY3iLiB16no",
        "colab_type": "code",
        "colab": {}
      },
      "source": [
        "reloaded.save('./drive/My Drive/ML/Models/word_completion_prediction_2/t2/1_2.h5')\n",
        "pickle.dump(history, open('./drive/My Drive/ML/Models/word_completion_prediction_2/t2/1_2_history.p', \"wb\"))"
      ],
      "execution_count": 0,
      "outputs": []
    },
    {
      "cell_type": "markdown",
      "metadata": {
        "id": "gOYicMXZ2MBz",
        "colab_type": "text"
      },
      "source": [
        "# Export as SavedModel"
      ]
    },
    {
      "cell_type": "code",
      "metadata": {
        "id": "nqcgE_Yz2M1V",
        "colab_type": "code",
        "colab": {
          "base_uri": "https://localhost:8080/",
          "height": 35
        },
        "outputId": "713e9b67-4776-40b9-cfcb-5829f12c1b2d"
      },
      "source": [
        "#cloned_model = tf.keras.models.clone_model(model)\n",
        "tf.saved_model.save(model, './drive/My Drive/ML/Models/word_completion_prediction_2/t2/1_1_K')"
      ],
      "execution_count": 87,
      "outputs": [
        {
          "output_type": "stream",
          "text": [
            "INFO:tensorflow:Assets written to: ./drive/My Drive/ML/Models/word_completion_prediction_2/t2/1_1_K/assets\n"
          ],
          "name": "stdout"
        }
      ]
    },
    {
      "cell_type": "markdown",
      "metadata": {
        "id": "p2DUssAR3Ssh",
        "colab_type": "text"
      },
      "source": [
        "# Loading the SavedModel as a Keras Model"
      ]
    },
    {
      "cell_type": "code",
      "metadata": {
        "id": "k2aEzGIq3TdN",
        "colab_type": "code",
        "colab": {
          "base_uri": "https://localhost:8080/",
          "height": 334
        },
        "outputId": "5b318de8-cca4-4c78-c8ed-24ceaf2faf17"
      },
      "source": [
        "reloaded_sm_keras = tf.keras.models.load_model('./drive/My Drive/ML/Models/word_completion_prediction_2/t2/1_1_K')\n",
        "reloaded_sm_keras.summary()"
      ],
      "execution_count": 88,
      "outputs": [
        {
          "output_type": "stream",
          "text": [
            "Model: \"sequential_2\"\n",
            "_________________________________________________________________\n",
            "Layer (type)                 Output Shape              Param #   \n",
            "=================================================================\n",
            "lstm_4 (LSTM)                (None, None, 512)         1138688   \n",
            "_________________________________________________________________\n",
            "dropout_4 (Dropout)          (None, None, 512)         0         \n",
            "_________________________________________________________________\n",
            "lstm_5 (LSTM)                (None, 512)               2099200   \n",
            "_________________________________________________________________\n",
            "dropout_5 (Dropout)          (None, 512)               0         \n",
            "_________________________________________________________________\n",
            "dense_2 (Dense)              (None, 43)                22059     \n",
            "=================================================================\n",
            "Total params: 3,259,947\n",
            "Trainable params: 3,259,947\n",
            "Non-trainable params: 0\n",
            "_________________________________________________________________\n"
          ],
          "name": "stdout"
        }
      ]
    },
    {
      "cell_type": "markdown",
      "metadata": {
        "id": "0p7ayRJS3gnb",
        "colab_type": "text"
      },
      "source": [
        "#Evaluation - Model Metrics"
      ]
    },
    {
      "cell_type": "code",
      "metadata": {
        "id": "gh4iIg853hSl",
        "colab_type": "code",
        "colab": {
          "base_uri": "https://localhost:8080/",
          "height": 372
        },
        "outputId": "4c5a65fc-17f3-4f58-9a76-9a0a17d05e4f"
      },
      "source": [
        "plt.plot(history['accuracy'])\n",
        "plt.plot(history['val_accuracy'])\n",
        "plt.title('model accuracy')\n",
        "plt.ylabel('accuracy')\n",
        "plt.xlabel('epoch')\n",
        "plt.legend(['train', 'test'], loc='upper left');"
      ],
      "execution_count": 34,
      "outputs": [
        {
          "output_type": "display_data",
          "data": {
            "image/png": "[encoded data removed]",
            "text/plain": [
              "<Figure size 864x360 with 1 Axes>"
            ]
          },
          "metadata": {
            "tags": []
          }
        }
      ]
    },
    {
      "cell_type": "code",
      "metadata": {
        "id": "tFeCNBGu3lvb",
        "colab_type": "code",
        "colab": {
          "base_uri": "https://localhost:8080/",
          "height": 372
        },
        "outputId": "f29f2ff4-0f9d-48b3-b4e0-dfc0f410c6b7"
      },
      "source": [
        "plt.plot(history['loss'])\n",
        "plt.plot(history['val_loss'])\n",
        "plt.title('model loss')\n",
        "plt.ylabel('loss')\n",
        "plt.xlabel('epoch')\n",
        "plt.legend(['train', 'test'], loc='upper left');"
      ],
      "execution_count": 35,
      "outputs": [
        {
          "output_type": "display_data",
          "data": {
            "image/png": "[encoded data removed]",
            "text/plain": [
              "<Figure size 864x360 with 1 Axes>"
            ]
          },
          "metadata": {
            "tags": []
          }
        }
      ]
    },
    {
      "cell_type": "code",
      "metadata": {
        "id": "d-ybaBJO3o2b",
        "colab_type": "code",
        "colab": {}
      },
      "source": [
        "def prepare_input(text):\n",
        "    x = np.zeros((1, len(text), len(chars)))\n",
        "    for t, char in enumerate(text):\n",
        "        x[0, t, char_indices[char]] = 1.\n",
        "        \n",
        "    return x"
      ],
      "execution_count": 0,
      "outputs": []
    },
    {
      "cell_type": "code",
      "metadata": {
        "id": "y0R2TksD3rZV",
        "colab_type": "code",
        "colab": {}
      },
      "source": [
        "def sample(preds, top_n=3):\n",
        "    preds = np.asarray(preds).astype('float64')\n",
        "    preds = np.log(preds)\n",
        "    exp_preds = np.exp(preds)\n",
        "    preds = exp_preds / np.sum(exp_preds)\n",
        "    \n",
        "    return heapq.nlargest(top_n, range(len(preds)), preds.take)"
      ],
      "execution_count": 0,
      "outputs": []
    },
    {
      "cell_type": "code",
      "metadata": {
        "id": "3cswgDxN3thA",
        "colab_type": "code",
        "colab": {}
      },
      "source": [
        "def predict_completion(text):\n",
        "    original_text = text\n",
        "    generated = text\n",
        "    completion = ''\n",
        "    while True:\n",
        "        x = prepare_input(text)\n",
        "        preds = reloaded_sm_keras.predict(x, verbose=0)[0]\n",
        "        next_index = sample(preds, top_n=1)[0]\n",
        "        next_char = indices_char[next_index]\n",
        "        text = text[1:] + next_char\n",
        "        completion += next_char\n",
        "        \n",
        "        if len(original_text + completion) + 2 > len(original_text) and next_char == ' ':\n",
        "            return completion"
      ],
      "execution_count": 0,
      "outputs": []
    },
    {
      "cell_type": "code",
      "metadata": {
        "id": "D8T1j_PJ3wei",
        "colab_type": "code",
        "colab": {}
      },
      "source": [
        "def predict_completions(text, n=3):\n",
        "    x = prepare_input(text)\n",
        "    preds = reloaded_sm_keras.predict(x, verbose=0)[0]\n",
        "    next_indices = sample(preds, n)\n",
        "    return [indices_char[idx] + predict_completion(text[1:] + indices_char[idx]) for idx in next_indices]"
      ],
      "execution_count": 0,
      "outputs": []
    },
    {
      "cell_type": "code",
      "metadata": {
        "id": "oAhtpmsj30do",
        "colab_type": "code",
        "colab": {}
      },
      "source": [
        "\n",
        "\n",
        "# \"A flowchart represents the phases of managing travel for planned special events. The phases are as follows (in the respective order): Initial planning activities, feasibility study, traffic management plan, implementation activities, day-of-event activities, and post-event activities.\"\n",
        "\n",
        "input = [\n",
        "    \"A flowchart repr\", # 'esents '\n",
        "    \"A flowchart represents \", # 'the '\n",
        "    \"A flowchart represents the \", # 'company '\n",
        "    \"A flowchart represents the p\", # 'roduct '\n",
        "    \"A flowchart represents the ph\", # 'one '\n",
        "    \"A flowchart represents the pha\", # 'rmaceutical '\n",
        "    \"A flowchart represents the phas\", # 'e '\n",
        "    \"A flowchart represents the phases\", # ' of ' \n",
        "    \"A flowchart represents the phases of \", # 'the ' \n",
        "    \"A flowchart represents the phases of m\", # 'ore '\n",
        "    \"A flowchart represents the phases of ma\", # 'rkets '\n",
        "    \"A flowchart represents the phases of man\", # 'y '    \n",
        "    \"A flowchart represents the phases of mana\", # 'gement '\n",
        "    \"A flowchart represents the phases of managi\", # 'ng '\n",
        "    \"A flowchart represents the phases of managing tr\", # 'aditional'\n",
        "    \"A flowchart represents the phases of managing trav\", # 'el '\n",
        "    \"A flowchart represents the phases of managing travel f\", # 'or '\n",
        "    \"A flowchart represents the phases of managing travel for pl\", # 'ans '\n",
        "    \"A flowchart represents the phases of managing travel for plann\", # ['ed ', 'ing ', 's ', ' to ', 't ']    \n",
        "    \"A flowchart represents the phases of managing travel for planned sp\", #['ecial ', 'ace ', 'otling ', 'iriting ', 'rings ']\n",
        "    \"A flowchart represents the phases of managing travel for planned special \", #['community ', 'products ', 'state ', 'and ', 'report ']\n",
        "    \"A flowchart represents the phases of managing travel for planned special ev\", #['ent ', 'idence ', 'olution ', 'acuation ', 'y ']\n",
        "    \"A flowchart represents the phases of managing travel for planned special events. T\", #['he ', 'o ', 'rading ', 'ake ', 'ime ']\n",
        "    \"A flowchart represents the phases of managing travel for planned special events. The phas\", #['e ', 'i ', 'a ', ' service ', 'os ']\n",
        "    \"A flowchart represents the phases of managing travel for planned special events. The phases are as fol\",     \n",
        "]\n",
        "\n",
        "# A sketch shows different aged people standing on a line holding their hands.\n",
        "\n",
        "input2 = [\n",
        "    \"A sketc\", #['h ', ' , ', 'o ', 'tic ', 'call, ']\n",
        "    \"A sketch shows dif\", #['ferent ', ' .the ', 't ', 'pers ', 'atar ']\n",
        "    \"A sketch shows different aged peo\", #['ple ', 'ris ', 'lise ', 'sition ', 'bles ']\n",
        "    \"A sketch shows different aged people standi\", #['ng ', 'de ', 'stan ', 'er ', 'an ']\n",
        "    \"A sketch shows different aged people standing on a lin\", #['e ', 'k ', 'd ', 'ting ', 'col ']\n",
        "    \"A sketch shows different aged people standing on a line hol\", #['ding ', 'iday ', 'e ', 'ly ', 'ored ']\n",
        "    \"A sketch shows different aged people standing on a line holding \", #['the ', 'and ', 'of ', 'in ', '.the ']\n",
        "    \"A sketch shows different aged people standing on a line holding thei\", #['r ', 'n ', 'e ', 'm ', 'g ']\n",
        "    \"A sketch shows different aged people standing on a line holding their \", #['company ', 'second ', 'product ', 'first ', 'last ']\n",
        "    \"A sketch shows different aged people standing on a line holding their h\", #['ome ', 'ealth ', 'ands ', 'igh ', 'uman ']\n",
        "    \"A sketch shows different aged people standing on a line holding their ha\", #['nds ', 'rd ', 'lf ', 'mmer ', 've ']\n",
        "\n",
        "]"
      ],
      "execution_count": 0,
      "outputs": []
    },
    {
      "cell_type": "code",
      "metadata": {
        "id": "ZHbB1AT133Ay",
        "colab_type": "code",
        "colab": {
          "base_uri": "https://localhost:8080/",
          "height": 1000
        },
        "outputId": "ec1569a8-b286-4d69-9844-4a89d4b953e6"
      },
      "source": [
        "for i in input:\n",
        "    seq = i.lower()\n",
        "    print(seq)\n",
        "    print(predict_completions(seq, 5))\n",
        "    print()"
      ],
      "execution_count": 94,
      "outputs": [
        {
          "output_type": "stream",
          "text": [
            "a flowchart repr\n",
            "['ess ', 'oved ', 'ised ', 'aced ', 'ys ']\n",
            "\n",
            "a flowchart represents \n",
            "['and ', 'to ', '.the ', 'of ', ', ']\n",
            "\n",
            "a flowchart represents the \n",
            "WARNING:tensorflow:5 out of the last 5 calls to <function recreate_function.<locals>.restored_function_body at 0x7fcbd3ed89d8> triggered tf.function retracing. Tracing is expensive and the excessive number of tracings is likely due to passing python objects instead of tensors. Also, tf.function has experimental_relax_shapes=True option that relaxes argument shapes that can avoid unnecessary retracing. Please refer to https://www.tensorflow.org/beta/tutorials/eager/tf_function#python_or_tensor_args and https://www.tensorflow.org/api_docs/python/tf/function for more details.\n",
            "['security ', 'many ', 'companies ', 'resurted ', 'the ']\n",
            "\n",
            "a flowchart represents the p\n",
            "WARNING:tensorflow:6 out of the last 6 calls to <function recreate_function.<locals>.restored_function_body at 0x7fcbd3ed89d8> triggered tf.function retracing. Tracing is expensive and the excessive number of tracings is likely due to passing python objects instead of tensors. Also, tf.function has experimental_relax_shapes=True option that relaxes argument shapes that can avoid unnecessary retracing. Please refer to https://www.tensorflow.org/beta/tutorials/eager/tf_function#python_or_tensor_args and https://www.tensorflow.org/api_docs/python/tf/function for more details.\n",
            "['rosection ', 'olition ', 'art ', 'ersing ', 'lay ']\n",
            "\n",
            "a flowchart represents the ph\n",
            "WARNING:tensorflow:7 out of the last 7 calls to <function recreate_function.<locals>.restored_function_body at 0x7fcbd3ed89d8> triggered tf.function retracing. Tracing is expensive and the excessive number of tracings is likely due to passing python objects instead of tensors. Also, tf.function has experimental_relax_shapes=True option that relaxes argument shapes that can avoid unnecessary retracing. Please refer to https://www.tensorflow.org/beta/tutorials/eager/tf_function#python_or_tensor_args and https://www.tensorflow.org/api_docs/python/tf/function for more details.\n",
            "['ones ', 'an ', 'ing ', 'en ', 'riss ']\n",
            "\n",
            "a flowchart represents the pha\n",
            "WARNING:tensorflow:8 out of the last 8 calls to <function recreate_function.<locals>.restored_function_body at 0x7fcbd3ed89d8> triggered tf.function retracing. Tracing is expensive and the excessive number of tracings is likely due to passing python objects instead of tensors. Also, tf.function has experimental_relax_shapes=True option that relaxes argument shapes that can avoid unnecessary retracing. Please refer to https://www.tensorflow.org/beta/tutorials/eager/tf_function#python_or_tensor_args and https://www.tensorflow.org/api_docs/python/tf/function for more details.\n",
            "['n ', 'rs ', 'ct ', 'ss ', 'lled ']\n",
            "\n",
            "a flowchart represents the phas\n",
            "WARNING:tensorflow:9 out of the last 9 calls to <function recreate_function.<locals>.restored_function_body at 0x7fcbd3ed89d8> triggered tf.function retracing. Tracing is expensive and the excessive number of tracings is likely due to passing python objects instead of tensors. Also, tf.function has experimental_relax_shapes=True option that relaxes argument shapes that can avoid unnecessary retracing. Please refer to https://www.tensorflow.org/beta/tutorials/eager/tf_function#python_or_tensor_args and https://www.tensorflow.org/api_docs/python/tf/function for more details.\n",
            "['s ', 'e ', 'ing ', 't ', ' and ']\n",
            "\n",
            "a flowchart represents the phases\n",
            "WARNING:tensorflow:10 out of the last 10 calls to <function recreate_function.<locals>.restored_function_body at 0x7fcbd3ed89d8> triggered tf.function retracing. Tracing is expensive and the excessive number of tracings is likely due to passing python objects instead of tensors. Also, tf.function has experimental_relax_shapes=True option that relaxes argument shapes that can avoid unnecessary retracing. Please refer to https://www.tensorflow.org/beta/tutorials/eager/tf_function#python_or_tensor_args and https://www.tensorflow.org/api_docs/python/tf/function for more details.\n",
            "[' and ', 's ', 't ', 'ing ', 'e ']\n",
            "\n",
            "a flowchart represents the phases of \n",
            "WARNING:tensorflow:11 out of the last 11 calls to <function recreate_function.<locals>.restored_function_body at 0x7fcbd3ed89d8> triggered tf.function retracing. Tracing is expensive and the excessive number of tracings is likely due to passing python objects instead of tensors. Also, tf.function has experimental_relax_shapes=True option that relaxes argument shapes that can avoid unnecessary retracing. Please refer to https://www.tensorflow.org/beta/tutorials/eager/tf_function#python_or_tensor_args and https://www.tensorflow.org/api_docs/python/tf/function for more details.\n",
            "['the ', 'a ', 'many ', 'service ', 'her ']\n",
            "\n",
            "a flowchart represents the phases of m\n",
            "WARNING:tensorflow:11 out of the last 11 calls to <function recreate_function.<locals>.restored_function_body at 0x7fcbd3ed89d8> triggered tf.function retracing. Tracing is expensive and the excessive number of tracings is likely due to passing python objects instead of tensors. Also, tf.function has experimental_relax_shapes=True option that relaxes argument shapes that can avoid unnecessary retracing. Please refer to https://www.tensorflow.org/beta/tutorials/eager/tf_function#python_or_tensor_args and https://www.tensorflow.org/api_docs/python/tf/function for more details.\n",
            "['any ', 'ore ', 'ission ', 'erican ', 'ust ']\n",
            "\n",
            "a flowchart represents the phases of ma\n",
            "WARNING:tensorflow:11 out of the last 11 calls to <function recreate_function.<locals>.restored_function_body at 0x7fcbd3ed89d8> triggered tf.function retracing. Tracing is expensive and the excessive number of tracings is likely due to passing python objects instead of tensors. Also, tf.function has experimental_relax_shapes=True option that relaxes argument shapes that can avoid unnecessary retracing. Please refer to https://www.tensorflow.org/beta/tutorials/eager/tf_function#python_or_tensor_args and https://www.tensorflow.org/api_docs/python/tf/function for more details.\n",
            "['ny ', 'rke ', 'ster ', 'de ', 'lled ']\n",
            "\n",
            "a flowchart represents the phases of man\n",
            "WARNING:tensorflow:11 out of the last 11 calls to <function recreate_function.<locals>.restored_function_body at 0x7fcbd3ed89d8> triggered tf.function retracing. Tracing is expensive and the excessive number of tracings is likely due to passing python objects instead of tensors. Also, tf.function has experimental_relax_shapes=True option that relaxes argument shapes that can avoid unnecessary retracing. Please refer to https://www.tensorflow.org/beta/tutorials/eager/tf_function#python_or_tensor_args and https://www.tensorflow.org/api_docs/python/tf/function for more details.\n",
            "['y ', ' and ', 'ks ', 'ce ', 'd ']\n",
            "\n",
            "a flowchart represents the phases of mana\n",
            "WARNING:tensorflow:11 out of the last 11 calls to <function recreate_function.<locals>.restored_function_body at 0x7fcbd3ed89d8> triggered tf.function retracing. Tracing is expensive and the excessive number of tracings is likely due to passing python objects instead of tensors. Also, tf.function has experimental_relax_shapes=True option that relaxes argument shapes that can avoid unnecessary retracing. Please refer to https://www.tensorflow.org/beta/tutorials/eager/tf_function#python_or_tensor_args and https://www.tensorflow.org/api_docs/python/tf/function for more details.\n",
            "['ge ', 'st ', 're ', 'ling ', ' and ']\n",
            "\n",
            "a flowchart represents the phases of managi\n",
            "WARNING:tensorflow:11 out of the last 11 calls to <function recreate_function.<locals>.restored_function_body at 0x7fcbd3ed89d8> triggered tf.function retracing. Tracing is expensive and the excessive number of tracings is likely due to passing python objects instead of tensors. Also, tf.function has experimental_relax_shapes=True option that relaxes argument shapes that can avoid unnecessary retracing. Please refer to https://www.tensorflow.org/beta/tutorials/eager/tf_function#python_or_tensor_args and https://www.tensorflow.org/api_docs/python/tf/function for more details.\n",
            "['ng ', 'an ', 'es ', 'on ', 'st ']\n",
            "\n",
            "a flowchart represents the phases of managing tr\n",
            "WARNING:tensorflow:11 out of the last 11 calls to <function recreate_function.<locals>.restored_function_body at 0x7fcbd3ed89d8> triggered tf.function retracing. Tracing is expensive and the excessive number of tracings is likely due to passing python objects instead of tensors. Also, tf.function has experimental_relax_shapes=True option that relaxes argument shapes that can avoid unnecessary retracing. Please refer to https://www.tensorflow.org/beta/tutorials/eager/tf_function#python_or_tensor_args and https://www.tensorflow.org/api_docs/python/tf/function for more details.\n",
            "['anse ', 'ing ', 'oss ', 'ees ', 'ust ']\n",
            "\n",
            "a flowchart represents the phases of managing trav\n",
            "WARNING:tensorflow:11 out of the last 11 calls to <function recreate_function.<locals>.restored_function_body at 0x7fcbd3ed89d8> triggered tf.function retracing. Tracing is expensive and the excessive number of tracings is likely due to passing python objects instead of tensors. Also, tf.function has experimental_relax_shapes=True option that relaxes argument shapes that can avoid unnecessary retracing. Please refer to https://www.tensorflow.org/beta/tutorials/eager/tf_function#python_or_tensor_args and https://www.tensorflow.org/api_docs/python/tf/function for more details.\n",
            "['e ', 'ing ', 'al ', 'or ', 'ulity ']\n",
            "\n",
            "a flowchart represents the phases of managing travel f\n",
            "WARNING:tensorflow:11 out of the last 11 calls to <function recreate_function.<locals>.restored_function_body at 0x7fcbd3ed89d8> triggered tf.function retracing. Tracing is expensive and the excessive number of tracings is likely due to passing python objects instead of tensors. Also, tf.function has experimental_relax_shapes=True option that relaxes argument shapes that can avoid unnecessary retracing. Please refer to https://www.tensorflow.org/beta/tutorials/eager/tf_function#python_or_tensor_args and https://www.tensorflow.org/api_docs/python/tf/function for more details.\n",
            "['or ', 'irst ', 'rom ', 'ere ', 'arther ']\n",
            "\n",
            "a flowchart represents the phases of managing travel for pl\n",
            "WARNING:tensorflow:11 out of the last 11 calls to <function recreate_function.<locals>.restored_function_body at 0x7fcbd3ed89d8> triggered tf.function retracing. Tracing is expensive and the excessive number of tracings is likely due to passing python objects instead of tensors. Also, tf.function has experimental_relax_shapes=True option that relaxes argument shapes that can avoid unnecessary retracing. Please refer to https://www.tensorflow.org/beta/tutorials/eager/tf_function#python_or_tensor_args and https://www.tensorflow.org/api_docs/python/tf/function for more details.\n",
            "['ans ', 'ine ', 'ose ', 'ess ', 'y ']\n",
            "\n",
            "a flowchart represents the phases of managing travel for plann\n",
            "WARNING:tensorflow:11 out of the last 11 calls to <function recreate_function.<locals>.restored_function_body at 0x7fcbd3ed89d8> triggered tf.function retracing. Tracing is expensive and the excessive number of tracings is likely due to passing python objects instead of tensors. Also, tf.function has experimental_relax_shapes=True option that relaxes argument shapes that can avoid unnecessary retracing. Please refer to https://www.tensorflow.org/beta/tutorials/eager/tf_function#python_or_tensor_args and https://www.tensorflow.org/api_docs/python/tf/function for more details.\n",
            "['ed ', 'ing ', ' , ', 'on ', 's ']\n",
            "\n",
            "a flowchart represents the phases of managing travel for planned sp\n",
            "WARNING:tensorflow:11 out of the last 11 calls to <function recreate_function.<locals>.restored_function_body at 0x7fcbd3ed89d8> triggered tf.function retracing. Tracing is expensive and the excessive number of tracings is likely due to passing python objects instead of tensors. Also, tf.function has experimental_relax_shapes=True option that relaxes argument shapes that can avoid unnecessary retracing. Please refer to https://www.tensorflow.org/beta/tutorials/eager/tf_function#python_or_tensor_args and https://www.tensorflow.org/api_docs/python/tf/function for more details.\n",
            "['end ', 'art ', 'ort ', 'ress ', 'ick ']\n",
            "\n",
            "a flowchart represents the phases of managing travel for planned special \n",
            "WARNING:tensorflow:11 out of the last 11 calls to <function recreate_function.<locals>.restored_function_body at 0x7fcbd3ed89d8> triggered tf.function retracing. Tracing is expensive and the excessive number of tracings is likely due to passing python objects instead of tensors. Also, tf.function has experimental_relax_shapes=True option that relaxes argument shapes that can avoid unnecessary retracing. Please refer to https://www.tensorflow.org/beta/tutorials/eager/tf_function#python_or_tensor_args and https://www.tensorflow.org/api_docs/python/tf/function for more details.\n",
            "['security ', 'and ', 'to ', 'conserve ', 'prosed ']\n",
            "\n",
            "a flowchart represents the phases of managing travel for planned special ev\n",
            "WARNING:tensorflow:11 out of the last 11 calls to <function recreate_function.<locals>.restored_function_body at 0x7fcbd3ed89d8> triggered tf.function retracing. Tracing is expensive and the excessive number of tracings is likely due to passing python objects instead of tensors. Also, tf.function has experimental_relax_shapes=True option that relaxes argument shapes that can avoid unnecessary retracing. Please refer to https://www.tensorflow.org/beta/tutorials/eager/tf_function#python_or_tensor_args and https://www.tensorflow.org/api_docs/python/tf/function for more details.\n",
            "['en ', 'icis ', 'onity ', 'an ', 'urity ']\n",
            "\n",
            "a flowchart represents the phases of managing travel for planned special events. t\n",
            "WARNING:tensorflow:11 out of the last 11 calls to <function recreate_function.<locals>.restored_function_body at 0x7fcbd3ed89d8> triggered tf.function retracing. Tracing is expensive and the excessive number of tracings is likely due to passing python objects instead of tensors. Also, tf.function has experimental_relax_shapes=True option that relaxes argument shapes that can avoid unnecessary retracing. Please refer to https://www.tensorflow.org/beta/tutorials/eager/tf_function#python_or_tensor_args and https://www.tensorflow.org/api_docs/python/tf/function for more details.\n",
            "['hat ', 'o ', 'ake ', 'ranse ', 'ears ']\n",
            "\n",
            "a flowchart represents the phases of managing travel for planned special events. the phas\n",
            "WARNING:tensorflow:11 out of the last 11 calls to <function recreate_function.<locals>.restored_function_body at 0x7fcbd3ed89d8> triggered tf.function retracing. Tracing is expensive and the excessive number of tracings is likely due to passing python objects instead of tensors. Also, tf.function has experimental_relax_shapes=True option that relaxes argument shapes that can avoid unnecessary retracing. Please refer to https://www.tensorflow.org/beta/tutorials/eager/tf_function#python_or_tensor_args and https://www.tensorflow.org/api_docs/python/tf/function for more details.\n",
            "['s ', 'e ', 'ing ', 't ', ' and ']\n",
            "\n",
            "a flowchart represents the phases of managing travel for planned special events. the phases are as fol\n",
            "WARNING:tensorflow:11 out of the last 11 calls to <function recreate_function.<locals>.restored_function_body at 0x7fcbd3ed89d8> triggered tf.function retracing. Tracing is expensive and the excessive number of tracings is likely due to passing python objects instead of tensors. Also, tf.function has experimental_relax_shapes=True option that relaxes argument shapes that can avoid unnecessary retracing. Please refer to https://www.tensorflow.org/beta/tutorials/eager/tf_function#python_or_tensor_args and https://www.tensorflow.org/api_docs/python/tf/function for more details.\n",
            "['l ', 'd ', 'ther ', ' and ', 'med ']\n",
            "\n"
          ],
          "name": "stdout"
        }
      ]
    },
    {
      "cell_type": "code",
      "metadata": {
        "id": "LZQ3hjgJ5Bnr",
        "colab_type": "code",
        "colab": {
          "base_uri": "https://localhost:8080/",
          "height": 87
        },
        "outputId": "e11cfc02-9553-4059-a273-e49f9f29c2c6"
      },
      "source": [
        "!zip -r model.zip {'./drive/My Drive/ML/Models/word_completion_prediction_2/t2/1_1_K'}"
      ],
      "execution_count": 95,
      "outputs": [
        {
          "output_type": "stream",
          "text": [
            "\tzip warning: name not matched: ./drive/My\n",
            "\tzip warning: name not matched: Drive/ML/Models/word_completion_prediction_2/t2/1_1_K\n",
            "\n",
            "zip error: Nothing to do! (try: zip -r model.zip . -i ./drive/My Drive/ML/Models/word_completion_prediction_2/t2/1_1_K)\n"
          ],
          "name": "stdout"
        }
      ]
    },
    {
      "cell_type": "code",
      "metadata": {
        "id": "t_fJAZPUHqYe",
        "colab_type": "code",
        "colab": {}
      },
      "source": [
        ""
      ],
      "execution_count": 0,
      "outputs": []
    }
  ]
}