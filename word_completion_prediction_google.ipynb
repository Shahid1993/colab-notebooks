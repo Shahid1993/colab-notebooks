{
  "nbformat": 4,
  "nbformat_minor": 0,
  "metadata": {
    "colab": {
      "name": "05_THS_Predictive_Keyboard_Using_RNN.ipynb",
      "version": "0.3.2",
      "provenance": [],
      "collapsed_sections": [],
      "toc_visible": true,
      "machine_shape": "hm",
      "include_colab_link": true
    },
    "kernelspec": {
      "name": "python3",
      "display_name": "Python 3"
    },
    "accelerator": "GPU"
  },
  "cells": [
    {
      "cell_type": "markdown",
      "metadata": {
        "id": "view-in-github",
        "colab_type": "text"
      },
      "source": [
        "<a href=\"https://colab.research.google.com/github/Shahid1993/colab-notebooks/blob/master/word_completion_prediction_google.ipynb\" target=\"_parent\"><img src=\"https://colab.research.google.com/assets/colab-badge.svg\" alt=\"Open In Colab\"/></a>"
      ]
    },
    {
      "cell_type": "markdown",
      "metadata": {
        "id": "SYqcrM9LFnEg",
        "colab_type": "text"
      },
      "source": [
        "# [Making a Predictive Keyboard using Recurrent Neural Networks](https://medium.com/@curiousily/making-a-predictive-keyboard-using-recurrent-neural-networks-tensorflow-for-hackers-part-v-3f238d824218)\n",
        "\n",
        "# Recurrent Neural Networks\n",
        "\n",
        "In short, `RNN` models provide a way to not only examine the current input but the one that was provided one step back, as well. If we turn that around, we can say that the decision reached at time step t-1 directly affects the future at step t.\n",
        "\n",
        "![](https://miro.medium.com/max/947/1*K6s4Li0fTl1pSX4-WPBMMA.jpeg)\n",
        "\n",
        "## Definition\n",
        "RNNs define a recurrence relation over time steps which is given by:\n",
        "\n",
        "![](https://miro.medium.com/max/555/1*3giig0Hb58gDrl1dBdAWSw.png)\n",
        "\n",
        "Where St is the state at time step t, Xt an exogenous input at time t, Wrec and Wx are weights parameters. The feedback loops gives memory to the model because it can remember information between time steps.\n",
        "\n",
        "`RNNs` can compute the current state St from the current input Xt and previous state St−1 or predict the next state from St+1 from the current St and current input Xt. Concretely, we will pass a sequence of 40 characters and ask the model to predict the next one. We will append the new character and drop the first one and predict again. This will continue until we complete a whole word.\n",
        "\n",
        "# LSTMs\n",
        "Two major problems torment the `RNNs` — **vanishing** and **exploding gradients**. In traditional `RNNs` the gradient signal can be multiplied a large number of times by the weight matrix. Thus, the magnitude of the weights of the transition matrix can play an important role.\n",
        "\n",
        "If the weights in the matrix are small, the gradient signal becomes smaller at every training step, thus making learning very slow or completely stops it. This is called vanishing gradient. Let’s have a look at applying the sigmoid function multiple times, thus simulating the effect of vanishing gradient:\n",
        "\n",
        "![](https://miro.medium.com/max/552/1*XbVjM9cPb-BkLrWGNujEQg.png)\n",
        "\n",
        "Conversely, the exploding gradient refers to the weights in this matrix being so large that it can cause learning to diverge.\n",
        "\n",
        "\n",
        "`LSTM` model is a special kind of `RNN` that learns long-term dependencies. It introduces new structure — the memory cell that is composed of four elements: input, forget and output gates and a neuron that connects to itself:\n",
        "\n",
        "![](https://miro.medium.com/max/606/1*ZskkUQCNT0i_00shHYSj1A.png)\n",
        "\n",
        "`LSTMs` *fight the gradient vanishing problem by preserving the error that can be backpropagated through time and layers*. By maintaining a more constant error, they allow for learning long-term dependencies. On another hand, *exploding is controlled with **gradient clipping***, that is the gradient is not allowed to go above some predefined value.\n",
        "\n",
        "\n",
        "# Setup\n",
        "Let’s properly seed our random number generator and import all required modules:"
      ]
    },
    {
      "cell_type": "code",
      "metadata": {
        "id": "4E9hBlVg8XVc",
        "colab_type": "code",
        "outputId": "6473b849-39bb-4b4d-8f91-30feb92dc523",
        "colab": {
          "base_uri": "https://localhost:8080/",
          "height": 120
        }
      },
      "source": [
        "# Mounting Google Drive to Load Data\n",
        "from google.colab import drive\n",
        "drive.mount('/content/drive')"
      ],
      "execution_count": 1,
      "outputs": [
        {
          "output_type": "stream",
          "text": [
            "Go to this URL in a browser: https://accounts.google.com/o/oauth2/auth?client_id=947318989803-6bn6qk8qdgf4n4g3pfee6491hc0brc4i.apps.googleusercontent.com&redirect_uri=urn%3Aietf%3Awg%3Aoauth%3A2.0%3Aoob&scope=email%20https%3A%2F%2Fwww.googleapis.com%2Fauth%2Fdocs.test%20https%3A%2F%2Fwww.googleapis.com%2Fauth%2Fdrive%20https%3A%2F%2Fwww.googleapis.com%2Fauth%2Fdrive.photos.readonly%20https%3A%2F%2Fwww.googleapis.com%2Fauth%2Fpeopleapi.readonly&response_type=code\n",
            "\n",
            "Enter your authorization code:\n",
            "··········\n",
            "Mounted at /content/drive\n"
          ],
          "name": "stdout"
        }
      ]
    },
    {
      "cell_type": "code",
      "metadata": {
        "id": "C4SB6_MxELfi",
        "colab_type": "code",
        "colab": {
          "base_uri": "https://localhost:8080/",
          "height": 33
        },
        "outputId": "dd7a6a33-b58d-485f-e369-72ec00f0878e"
      },
      "source": [
        "import numpy as np\n",
        "np.random.seed(42)\n",
        "import tensorflow as tf\n",
        "tf.set_random_seed(42)\n",
        "from keras.models import Sequential, load_model\n",
        "from keras.layers import Dense, Activation\n",
        "from keras.layers import LSTM, Dropout, CuDNNLSTM\n",
        "from keras.layers import TimeDistributed\n",
        "from keras.layers.core import Dense, Activation, Dropout, RepeatVector\n",
        "from keras.optimizers import RMSprop\n",
        "import matplotlib.pyplot as plt\n",
        "import pickle\n",
        "import sys\n",
        "import heapq\n",
        "import seaborn as sns\n",
        "from pylab import rcParams\n",
        "\n",
        "%matplotlib inline\n",
        "\n",
        "sns.set(style='whitegrid', palette='muted', font_scale=1.5)\n",
        "\n",
        "rcParams['figure.figsize'] = 12, 5"
      ],
      "execution_count": 2,
      "outputs": [
        {
          "output_type": "stream",
          "text": [
            "Using TensorFlow backend.\n"
          ],
          "name": "stderr"
        }
      ]
    },
    {
      "cell_type": "markdown",
      "metadata": {
        "id": "F94LTUFTJHLr",
        "colab_type": "text"
      },
      "source": [
        "# Loading the data"
      ]
    },
    {
      "cell_type": "code",
      "metadata": {
        "id": "Thi3UxyFI2q2",
        "colab_type": "code",
        "outputId": "a3616b37-d62b-4847-ac52-3798ecf1b22e",
        "colab": {
          "base_uri": "https://localhost:8080/",
          "height": 33
        }
      },
      "source": [
        "#path = 'nietzsche.txt'\n",
        "\n",
        "#path = \"./drive/My Drive/ML/data/nietzsche.txt\"\n",
        "\n",
        "path = \"./drive/My Drive/ML/data/1-billion-word-language-modeling-benchmark-r13output/training-monolingual.tokenized.shuffled/news.en-00001-of-00100\"\n",
        "\n",
        "text = open(path).read().lower()\n",
        "print('corpus length:', len(text))"
      ],
      "execution_count": 4,
      "outputs": [
        {
          "output_type": "stream",
          "text": [
            "corpus length: 41915785\n"
          ],
          "name": "stdout"
        }
      ]
    },
    {
      "cell_type": "markdown",
      "metadata": {
        "id": "wnUkGlwGJcCU",
        "colab_type": "text"
      },
      "source": [
        "# Preprocessing\n",
        "\n",
        "Let’s find all unique chars in the corpus and create char to index and index to char maps:"
      ]
    },
    {
      "cell_type": "code",
      "metadata": {
        "id": "W_QQg92UJQ28",
        "colab_type": "code",
        "outputId": "19ac130f-626c-415a-e250-304ffe37efb0",
        "colab": {
          "base_uri": "https://localhost:8080/",
          "height": 103
        }
      },
      "source": [
        "chars = sorted(list(set(text)))\n",
        "char_indices = dict((c, i) for i, c in enumerate(chars))\n",
        "indices_char = dict((i, c) for i, c in enumerate(chars))\n",
        "\n",
        "print(f'unique chars: {len(chars)}')\n",
        "\n",
        "print(chars)\n",
        "\n",
        "print(''.join(map(str, chars)))"
      ],
      "execution_count": 5,
      "outputs": [
        {
          "output_type": "stream",
          "text": [
            "unique chars: 149\n",
            "['\\n', ' ', '!', '\"', '#', '$', '%', '&', \"'\", '(', ')', '*', '+', ',', '-', '.', '/', '0', '1', '2', '3', '4', '5', '6', '7', '8', '9', ':', ';', '<', '=', '>', '?', '@', '[', '\\\\', ']', '^', '_', 'a', 'b', 'c', 'd', 'e', 'f', 'g', 'h', 'i', 'j', 'k', 'l', 'm', 'n', 'o', 'p', 'q', 'r', 's', 't', 'u', 'v', 'w', 'x', 'y', 'z', '{', '|', '}', '~', '\\x95', '¡', '¢', '£', '¤', '¥', '©', '«', '¬', '®', '°', '²', '´', 'µ', '¶', '·', 'º', '»', '¼', '½', '¾', '¿', '×', 'à', 'á', 'â', 'ã', 'ä', 'å', 'æ', 'ç', 'è', 'é', 'ê', 'ë', 'í', 'î', 'ï', 'ñ', 'ó', 'ô', 'õ', 'ö', 'ø', 'ù', 'ú', 'ü', 'þ', 'ą', 'ć', 'ĕ', 'ě', 'œ', 'š', 'ŵ', 'ž', 'ʼ', '˚', 'а', '\\u200e', '‐', '‑', '‚', '‟', '†', '•', '′', '₤', '€', '∆', '④', '●', '♥', '\\ue00d', '\\uf06e', 'ﬁ', '（', '）', '￡', '�']\n",
            "\n",
            " !\"#$%&'()*+,-./0123456789:;<=>?@[\\]^_abcdefghijklmnopqrstuvwxyz{|}~¡¢£¤¥©«¬®°²´µ¶·º»¼½¾¿×àáâãäåæçèéêëíîïñóôõöøùúüþąćĕěœšŵžʼ˚а‎‐‑‚‟†•′₤€∆④●♥ﬁ（）￡�\n"
          ],
          "name": "stdout"
        }
      ]
    },
    {
      "cell_type": "code",
      "metadata": {
        "id": "hjQbkPYgGIOy",
        "colab_type": "code",
        "colab": {}
      },
      "source": [
        "# def clean_special_chars(text, punct):\n",
        "#     for p in punct:\n",
        "#         text = text.replace(p, '')\n",
        "#     return text\n",
        "\n",
        "      \n",
        "# def preprocess(data):\n",
        "#     output = []\n",
        "#     punct = '\\n#$<=>[\\\\]@^{|}~¡¢£¤¥©«¬®°²´µ¶·º»¼½¾¿×àáâãäåæçèéêëíîïñóôõöøùúüþąćĕěœšŵžʼ˚а‎‐‑‚‟†•′₤€∆④●♥ﬁ（）￡�'\n",
        "#     for line in data:\n",
        "#          pline= clean_special_chars(line.lower(), punct)\n",
        "#          output.append(pline)\n",
        "#     return output  \n",
        "  \n",
        "# text = preprocess(text) \n",
        "\n",
        "      \n",
        "def preprocess(data):\n",
        "    punct = '\\n#$<=>[\\\\]@^{|}~¡¢£¤¥©«¬®°²´µ¶·º»¼½¾¿×àáâãäåæçèéêëíîïñóôõöøùúüþąćĕěœšŵžʼ˚а‎‐‑‚‟†•′₤€∆④●♥ﬁ（）￡�'\n",
        "    \n",
        "    for p in punct:\n",
        "        data = data.replace(p, '')\n",
        "        \n",
        "    return data\n",
        "  \n",
        "text = preprocess(text)"
      ],
      "execution_count": 0,
      "outputs": []
    },
    {
      "cell_type": "code",
      "metadata": {
        "id": "ij10pwArHZ93",
        "colab_type": "code",
        "outputId": "173a0942-effb-498a-b6dd-6728abdfbb55",
        "colab": {
          "base_uri": "https://localhost:8080/",
          "height": 103
        }
      },
      "source": [
        "chars = sorted(list(set(text)))\n",
        "char_indices = dict((c, i) for i, c in enumerate(chars))\n",
        "indices_char = dict((i, c) for i, c in enumerate(chars))\n",
        "\n",
        "print(f'unique chars: {len(chars)}')\n",
        "\n",
        "print(chars)\n",
        "\n",
        "print(''.join(map(str, chars)))\n",
        "\n",
        "print('corpus length:', len(text))"
      ],
      "execution_count": 7,
      "outputs": [
        {
          "output_type": "stream",
          "text": [
            "unique chars: 54\n",
            "[' ', '!', '\"', '%', '&', \"'\", '(', ')', '*', '+', ',', '-', '.', '/', '0', '1', '2', '3', '4', '5', '6', '7', '8', '9', ':', ';', '?', '_', 'a', 'b', 'c', 'd', 'e', 'f', 'g', 'h', 'i', 'j', 'k', 'l', 'm', 'n', 'o', 'p', 'q', 'r', 's', 't', 'u', 'v', 'w', 'x', 'y', 'z']\n",
            " !\"%&'()*+,-./0123456789:;?_abcdefghijklmnopqrstuvwxyz\n",
            "corpus length: 41585520\n"
          ],
          "name": "stdout"
        }
      ]
    },
    {
      "cell_type": "markdown",
      "metadata": {
        "id": "0sTHGCQEJubo",
        "colab_type": "text"
      },
      "source": [
        "Next, let’s cut the corpus into chunks of `40` characters, spacing the sequences by `3` characters. Additionally, we will store the next character (the one we need to predict) for every sequence: "
      ]
    },
    {
      "cell_type": "code",
      "metadata": {
        "id": "4IYnDRuGJgBW",
        "colab_type": "code",
        "outputId": "5a57f017-5aaa-44ea-9480-b21662c85f31",
        "colab": {
          "base_uri": "https://localhost:8080/",
          "height": 33
        }
      },
      "source": [
        "SEQUENCE_LENGTH = 40\n",
        "step = 10\n",
        "sentences = []\n",
        "next_chars = []\n",
        "for i in range(0, len(text) - SEQUENCE_LENGTH, step):\n",
        "    sentences.append(text[i: i + SEQUENCE_LENGTH])\n",
        "    next_chars.append(text[i + SEQUENCE_LENGTH])\n",
        "print(f'num training examples: {len(sentences)}')"
      ],
      "execution_count": 8,
      "outputs": [
        {
          "output_type": "stream",
          "text": [
            "num training examples: 4158548\n"
          ],
          "name": "stdout"
        }
      ]
    },
    {
      "cell_type": "markdown",
      "metadata": {
        "id": "Z5i__Sj2KHT_",
        "colab_type": "text"
      },
      "source": [
        "It is time for generating our features and labels. We will use the previously generated sequences and characters that need to be predicted to create one-hot encoded vectors using the `char_indices` map:"
      ]
    },
    {
      "cell_type": "code",
      "metadata": {
        "id": "TgmXRdsyK4ao",
        "colab_type": "code",
        "colab": {}
      },
      "source": [
        "X = np.zeros((len(sentences), SEQUENCE_LENGTH, len(chars)), dtype=np.bool)\n",
        "y = np.zeros((len(sentences), len(chars)), dtype=np.bool)\n",
        "for i, sentence in enumerate(sentences):\n",
        "    for t, char in enumerate(sentence):\n",
        "        X[i, t, char_indices[char]] = 1\n",
        "    y[i, char_indices[next_chars[i]]] = 1"
      ],
      "execution_count": 0,
      "outputs": []
    },
    {
      "cell_type": "markdown",
      "metadata": {
        "id": "F3ttQt5EK91p",
        "colab_type": "text"
      },
      "source": [
        "Let’s have a look at a single training sequence:"
      ]
    },
    {
      "cell_type": "code",
      "metadata": {
        "id": "2U19YVLEJ1ti",
        "colab_type": "code",
        "outputId": "456fe014-62bb-4fd6-c22e-b2c01eb3c927",
        "colab": {
          "base_uri": "https://localhost:8080/",
          "height": 33
        }
      },
      "source": [
        "sentences[1091]"
      ],
      "execution_count": 10,
      "outputs": [
        {
          "output_type": "execute_result",
          "data": {
            "text/plain": [
              "'e posted on the internet by a volunteer '"
            ]
          },
          "metadata": {
            "tags": []
          },
          "execution_count": 10
        }
      ]
    },
    {
      "cell_type": "markdown",
      "metadata": {
        "id": "qM2c6xgVKa9u",
        "colab_type": "text"
      },
      "source": [
        "The character that needs to be predicted for it is:"
      ]
    },
    {
      "cell_type": "code",
      "metadata": {
        "id": "xtLc4jlAKSqJ",
        "colab_type": "code",
        "outputId": "f8894046-4569-47b2-e21e-2f1026975914",
        "colab": {
          "base_uri": "https://localhost:8080/",
          "height": 33
        }
      },
      "source": [
        "next_chars[1091]"
      ],
      "execution_count": 11,
      "outputs": [
        {
          "output_type": "execute_result",
          "data": {
            "text/plain": [
              "','"
            ]
          },
          "metadata": {
            "tags": []
          },
          "execution_count": 11
        }
      ]
    },
    {
      "cell_type": "markdown",
      "metadata": {
        "id": "MQVj3KPiKuDJ",
        "colab_type": "text"
      },
      "source": [
        "The encoded (one-hot) data looks like this:"
      ]
    },
    {
      "cell_type": "code",
      "metadata": {
        "id": "vlPN9eddKdzd",
        "colab_type": "code",
        "outputId": "ab5e557f-e6cd-40ac-99d5-f6a321df3b07",
        "colab": {
          "base_uri": "https://localhost:8080/",
          "height": 133
        }
      },
      "source": [
        "X[0]"
      ],
      "execution_count": 12,
      "outputs": [
        {
          "output_type": "execute_result",
          "data": {
            "text/plain": [
              "array([[False, False, False, ..., False, False, False],\n",
              "       [False, False, False, ..., False, False, False],\n",
              "       [False, False, False, ..., False, False, False],\n",
              "       ...,\n",
              "       [False, False, False, ..., False, False, False],\n",
              "       [False, False, False, ..., False, False, False],\n",
              "       [False, False, False, ..., False, False, False]])"
            ]
          },
          "metadata": {
            "tags": []
          },
          "execution_count": 12
        }
      ]
    },
    {
      "cell_type": "code",
      "metadata": {
        "id": "cRzau2Y8Kwce",
        "colab_type": "code",
        "outputId": "7d8f9bdc-dfc0-4047-98f2-560e6fef9894",
        "colab": {
          "base_uri": "https://localhost:8080/",
          "height": 116
        }
      },
      "source": [
        "y[0]"
      ],
      "execution_count": 13,
      "outputs": [
        {
          "output_type": "execute_result",
          "data": {
            "text/plain": [
              "array([ True, False, False, False, False, False, False, False, False,\n",
              "       False, False, False, False, False, False, False, False, False,\n",
              "       False, False, False, False, False, False, False, False, False,\n",
              "       False, False, False, False, False, False, False, False, False,\n",
              "       False, False, False, False, False, False, False, False, False,\n",
              "       False, False, False, False, False, False, False, False, False])"
            ]
          },
          "metadata": {
            "tags": []
          },
          "execution_count": 13
        }
      ]
    },
    {
      "cell_type": "markdown",
      "metadata": {
        "id": "5OeaK7vKLTPK",
        "colab_type": "text"
      },
      "source": [
        "And for the dimensions:"
      ]
    },
    {
      "cell_type": "code",
      "metadata": {
        "id": "b7Xy5aXdLKSK",
        "colab_type": "code",
        "outputId": "2aa90f27-3606-4e45-c75d-5240648acd28",
        "colab": {
          "base_uri": "https://localhost:8080/",
          "height": 33
        }
      },
      "source": [
        "X.shape"
      ],
      "execution_count": 14,
      "outputs": [
        {
          "output_type": "execute_result",
          "data": {
            "text/plain": [
              "(4158548, 40, 54)"
            ]
          },
          "metadata": {
            "tags": []
          },
          "execution_count": 14
        }
      ]
    },
    {
      "cell_type": "code",
      "metadata": {
        "id": "ddGXaBPXLU6r",
        "colab_type": "code",
        "outputId": "39fd4ce0-30de-45c3-e4e6-7e69042addab",
        "colab": {
          "base_uri": "https://localhost:8080/",
          "height": 33
        }
      },
      "source": [
        "y.shape"
      ],
      "execution_count": 15,
      "outputs": [
        {
          "output_type": "execute_result",
          "data": {
            "text/plain": [
              "(4158548, 54)"
            ]
          },
          "metadata": {
            "tags": []
          },
          "execution_count": 15
        }
      ]
    },
    {
      "cell_type": "markdown",
      "metadata": {
        "id": "SHyGIHhQLb0V",
        "colab_type": "text"
      },
      "source": [
        "We have `200285` training examples, each sequence has length of `40` with `57` unique chars.\n",
        "\n",
        "# Building the model\n",
        "\n",
        "The model we’re going to train is pretty straight forward. Single `LSTM` layer with `128` neurons which accepts input of shape (`40` — the length of a sequence, `57` — the number of unique characters in our dataset). A fully connected layer (for our output) is added after that. It has `57` neurons and softmax for activation function:"
      ]
    },
    {
      "cell_type": "code",
      "metadata": {
        "id": "pLOtj1QiLXzM",
        "colab_type": "code",
        "colab": {
          "base_uri": "https://localhost:8080/",
          "height": 220
        },
        "outputId": "65a74610-4296-4bf5-da65-24f37b32a80a"
      },
      "source": [
        "model = Sequential()\n",
        "#model.add(LSTM(128, input_shape=(SEQUENCE_LENGTH, len(chars))))\n",
        "\n",
        "#model.add(CuDNNLSTM(128, input_shape=(None, len(chars))))\n",
        "\n",
        "model.add(CuDNNLSTM(128, input_shape=(None, len(chars)), return_sequences=True))\n",
        "model.add(CuDNNLSTM(128, return_sequences=True))\n",
        "model.add(CuDNNLSTM(128))\n",
        "\n",
        "#Dropout added to avoid overfitting\n",
        "model.add(Dropout(rate = 0.2))\n",
        "\n",
        "# build model using keras documentation recommended optimizer initialization\n",
        "optimizer = RMSprop(lr=0.001, rho=0.9, epsilon=1e-08, decay=0.0)\n",
        "\n",
        "model.add(Dense(len(chars)))\n",
        "model.add(Activation('softmax'))"
      ],
      "execution_count": 16,
      "outputs": [
        {
          "output_type": "stream",
          "text": [
            "WARNING:tensorflow:From /usr/local/lib/python3.6/dist-packages/keras/backend/tensorflow_backend.py:66: The name tf.get_default_graph is deprecated. Please use tf.compat.v1.get_default_graph instead.\n",
            "\n",
            "WARNING:tensorflow:From /usr/local/lib/python3.6/dist-packages/keras/backend/tensorflow_backend.py:541: The name tf.placeholder is deprecated. Please use tf.compat.v1.placeholder instead.\n",
            "\n",
            "WARNING:tensorflow:From /usr/local/lib/python3.6/dist-packages/keras/backend/tensorflow_backend.py:4432: The name tf.random_uniform is deprecated. Please use tf.random.uniform instead.\n",
            "\n",
            "WARNING:tensorflow:From /usr/local/lib/python3.6/dist-packages/keras/backend/tensorflow_backend.py:148: The name tf.placeholder_with_default is deprecated. Please use tf.compat.v1.placeholder_with_default instead.\n",
            "\n",
            "WARNING:tensorflow:From /usr/local/lib/python3.6/dist-packages/keras/backend/tensorflow_backend.py:3733: calling dropout (from tensorflow.python.ops.nn_ops) with keep_prob is deprecated and will be removed in a future version.\n",
            "Instructions for updating:\n",
            "Please use `rate` instead of `keep_prob`. Rate should be set to `rate = 1 - keep_prob`.\n"
          ],
          "name": "stdout"
        }
      ]
    },
    {
      "cell_type": "code",
      "metadata": {
        "id": "smm5LmvsOLiT",
        "colab_type": "code",
        "outputId": "3434cc28-9e8b-4490-e8f5-81798f650dc1",
        "colab": {
          "base_uri": "https://localhost:8080/",
          "height": 350
        }
      },
      "source": [
        "model.summary()"
      ],
      "execution_count": 17,
      "outputs": [
        {
          "output_type": "stream",
          "text": [
            "Model: \"sequential_1\"\n",
            "_________________________________________________________________\n",
            "Layer (type)                 Output Shape              Param #   \n",
            "=================================================================\n",
            "cu_dnnlstm_1 (CuDNNLSTM)     (None, None, 128)         94208     \n",
            "_________________________________________________________________\n",
            "cu_dnnlstm_2 (CuDNNLSTM)     (None, None, 128)         132096    \n",
            "_________________________________________________________________\n",
            "cu_dnnlstm_3 (CuDNNLSTM)     (None, 128)               132096    \n",
            "_________________________________________________________________\n",
            "dropout_1 (Dropout)          (None, 128)               0         \n",
            "_________________________________________________________________\n",
            "dense_1 (Dense)              (None, 54)                6966      \n",
            "_________________________________________________________________\n",
            "activation_1 (Activation)    (None, 54)                0         \n",
            "=================================================================\n",
            "Total params: 365,366\n",
            "Trainable params: 365,366\n",
            "Non-trainable params: 0\n",
            "_________________________________________________________________\n"
          ],
          "name": "stdout"
        }
      ]
    },
    {
      "cell_type": "markdown",
      "metadata": {
        "id": "eg3LQ-cCMOLS",
        "colab_type": "text"
      },
      "source": [
        "# Training\n",
        "\n",
        "Our model is trained for `20` epochs using `RMSProp` optimizer and uses `5%` of the data for validation:"
      ]
    },
    {
      "cell_type": "code",
      "metadata": {
        "id": "g0tbA0Z8MFeR",
        "colab_type": "code",
        "outputId": "e917949d-4683-4548-9d6a-226eb8fa0881",
        "colab": {
          "base_uri": "https://localhost:8080/",
          "height": 503
        }
      },
      "source": [
        "#optimizer = RMSprop(lr=0.01)\n",
        "model.compile(loss='categorical_crossentropy', optimizer=optimizer, metrics=['accuracy'])\n",
        "history = model.fit(X, y, validation_split=0.05, batch_size=256, epochs=10, shuffle=True).history"
      ],
      "execution_count": 18,
      "outputs": [
        {
          "output_type": "stream",
          "text": [
            "WARNING:tensorflow:From /usr/local/lib/python3.6/dist-packages/keras/optimizers.py:793: The name tf.train.Optimizer is deprecated. Please use tf.compat.v1.train.Optimizer instead.\n",
            "\n",
            "WARNING:tensorflow:From /usr/local/lib/python3.6/dist-packages/keras/backend/tensorflow_backend.py:3576: The name tf.log is deprecated. Please use tf.math.log instead.\n",
            "\n",
            "WARNING:tensorflow:From /usr/local/lib/python3.6/dist-packages/tensorflow/python/ops/math_grad.py:1250: add_dispatch_support.<locals>.wrapper (from tensorflow.python.ops.array_ops) is deprecated and will be removed in a future version.\n",
            "Instructions for updating:\n",
            "Use tf.where in 2.0, which has the same broadcast rule as np.where\n",
            "Train on 3950620 samples, validate on 207928 samples\n",
            "Epoch 1/10\n",
            "3950620/3950620 [==============================] - 1471s 372us/step - loss: 1.8127 - acc: 0.4661 - val_loss: 1.5381 - val_acc: 0.5431\n",
            "Epoch 2/10\n",
            "3950620/3950620 [==============================] - 1362s 345us/step - loss: 1.5257 - acc: 0.5465 - val_loss: 1.4414 - val_acc: 0.5672\n",
            "Epoch 3/10\n",
            "3950620/3950620 [==============================] - 1376s 348us/step - loss: 1.4655 - acc: 0.5625 - val_loss: 1.4100 - val_acc: 0.5761\n",
            "Epoch 4/10\n",
            "3950620/3950620 [==============================] - 1386s 351us/step - loss: 1.4361 - acc: 0.5703 - val_loss: 1.3967 - val_acc: 0.5802\n",
            "Epoch 5/10\n",
            "3950620/3950620 [==============================] - 1394s 353us/step - loss: 1.4179 - acc: 0.5754 - val_loss: 1.3801 - val_acc: 0.5857\n",
            "Epoch 6/10\n",
            "3950620/3950620 [==============================] - 1337s 339us/step - loss: 1.4070 - acc: 0.5788 - val_loss: 1.3714 - val_acc: 0.5872\n",
            "Epoch 7/10\n",
            "3950620/3950620 [==============================] - 1309s 331us/step - loss: 1.4030 - acc: 0.5805 - val_loss: 1.3768 - val_acc: 0.5874\n",
            "Epoch 8/10\n",
            "3950620/3950620 [==============================] - 1294s 328us/step - loss: 1.4137 - acc: 0.5816 - val_loss: 1.3658 - val_acc: 0.5896\n",
            "Epoch 9/10\n",
            "3950620/3950620 [==============================] - 1385s 351us/step - loss: 1.3956 - acc: 0.5831 - val_loss: 1.3623 - val_acc: 0.5912\n",
            "Epoch 10/10\n",
            "3950620/3950620 [==============================] - 1361s 345us/step - loss: 1.3936 - acc: 0.5838 - val_loss: 1.3890 - val_acc: 0.5901\n"
          ],
          "name": "stdout"
        }
      ]
    },
    {
      "cell_type": "markdown",
      "metadata": {
        "id": "Ac2c5RFFWRu-",
        "colab_type": "text"
      },
      "source": [
        "# Saving"
      ]
    },
    {
      "cell_type": "code",
      "metadata": {
        "id": "FZPaw3KcMZCc",
        "colab_type": "code",
        "colab": {}
      },
      "source": [
        "model.save('./drive/My Drive/ML/Models/word_completion_prediction/R2_Google_1/word_completion_prediction_keras_model.h5')\n",
        "pickle.dump(history, open(\"./drive/My Drive/ML/Models/word_completion_prediction/R2_Google_1/word_completion_prediction_history.p\", \"wb\"))"
      ],
      "execution_count": 0,
      "outputs": []
    },
    {
      "cell_type": "markdown",
      "metadata": {
        "id": "BNfAucCFXRU5",
        "colab_type": "text"
      },
      "source": [
        "And load it back, just to make sure it works:"
      ]
    },
    {
      "cell_type": "code",
      "metadata": {
        "id": "Hvqx5bJAWV7X",
        "colab_type": "code",
        "colab": {}
      },
      "source": [
        "model = load_model('./drive/My Drive/ML/Models/word_completion_prediction/R2_Google_1/word_completion_prediction_keras_model.h5')\n",
        "history = pickle.load(open(\"./drive/My Drive/ML/Models/word_completion_prediction/R2_Google_1/word_completion_prediction_history.p\", \"rb\"))"
      ],
      "execution_count": 0,
      "outputs": []
    },
    {
      "cell_type": "markdown",
      "metadata": {
        "id": "v2Wz70QJXfi3",
        "colab_type": "text"
      },
      "source": [
        "# Evaluation\n",
        "\n",
        "Let’s have a look at how our accuracy and loss change over training epochs:"
      ]
    },
    {
      "cell_type": "code",
      "metadata": {
        "id": "zUKBad_OXbrP",
        "colab_type": "code",
        "outputId": "7a37d19f-4e70-41ca-b504-bf563e43db78",
        "colab": {
          "base_uri": "https://localhost:8080/",
          "height": 372
        }
      },
      "source": [
        "plt.plot(history['acc'])\n",
        "plt.plot(history['val_acc'])\n",
        "plt.title('model accuracy')\n",
        "plt.ylabel('accuracy')\n",
        "plt.xlabel('epoch')\n",
        "plt.legend(['train', 'test'], loc='upper left');"
      ],
      "execution_count": 21,
      "outputs": [
        {
          "output_type": "display_data",
          "data": {
            "image/png": "[encoded data removed]",
            "text/plain": [
              "<Figure size 864x360 with 1 Axes>"
            ]
          },
          "metadata": {
            "tags": []
          }
        }
      ]
    },
    {
      "cell_type": "code",
      "metadata": {
        "id": "6w00E0MZX6Yf",
        "colab_type": "code",
        "outputId": "ee1d7cbd-4efa-4b40-e631-5f8025b116da",
        "colab": {
          "base_uri": "https://localhost:8080/",
          "height": 372
        }
      },
      "source": [
        "plt.plot(history['loss'])\n",
        "plt.plot(history['val_loss'])\n",
        "plt.title('model loss')\n",
        "plt.ylabel('loss')\n",
        "plt.xlabel('epoch')\n",
        "plt.legend(['train', 'test'], loc='upper left');"
      ],
      "execution_count": 22,
      "outputs": [
        {
          "output_type": "display_data",
          "data": {
            "image/png": "[encoded data removed]",
            "text/plain": [
              "<Figure size 864x360 with 1 Axes>"
            ]
          },
          "metadata": {
            "tags": []
          }
        }
      ]
    },
    {
      "cell_type": "markdown",
      "metadata": {
        "id": "1d-bs7HpYG02",
        "colab_type": "text"
      },
      "source": [
        "# Let’s put our model to the test"
      ]
    },
    {
      "cell_type": "code",
      "metadata": {
        "id": "zkdIoEh7YACD",
        "colab_type": "code",
        "colab": {}
      },
      "source": [
        "# def prepare_input(text):\n",
        "#     x = np.zeros((1, SEQUENCE_LENGTH, len(chars)))\n",
        "#     for t, char in enumerate(text):\n",
        "#         x[0, t, char_indices[char]] = 1.\n",
        "        \n",
        "#     return x\n",
        "  \n",
        "def prepare_input(text):\n",
        "    x = np.zeros((1, len(text), len(chars)))\n",
        "    for t, char in enumerate(text):\n",
        "        x[0, t, char_indices[char]] = 1.\n",
        "        \n",
        "    return x"
      ],
      "execution_count": 0,
      "outputs": []
    },
    {
      "cell_type": "markdown",
      "metadata": {
        "id": "-DxkTnofYfLE",
        "colab_type": "text"
      },
      "source": [
        "Remember that our sequences must be `40` characters long. So we make a tensor with shape `(1, 40, 59)`, initialized with zeros. Then, a value of 1 is placed for each character in the passed text. We must not forget to use the lowercase version of the text:"
      ]
    },
    {
      "cell_type": "code",
      "metadata": {
        "id": "qsGnD5L_YLDt",
        "colab_type": "code",
        "outputId": "51499980-8f10-4601-e2bc-3fb220c3ea56",
        "colab": {
          "base_uri": "https://localhost:8080/",
          "height": 133
        }
      },
      "source": [
        "prepare_input(\"This is an example of input for our LSTM\".lower())\n",
        "#prepare_input(\"Tests\".lower())"
      ],
      "execution_count": 24,
      "outputs": [
        {
          "output_type": "execute_result",
          "data": {
            "text/plain": [
              "array([[[0., 0., 0., ..., 0., 0., 0.],\n",
              "        [0., 0., 0., ..., 0., 0., 0.],\n",
              "        [0., 0., 0., ..., 0., 0., 0.],\n",
              "        ...,\n",
              "        [0., 0., 0., ..., 0., 0., 0.],\n",
              "        [0., 0., 0., ..., 0., 0., 0.],\n",
              "        [0., 0., 0., ..., 0., 0., 0.]]])"
            ]
          },
          "metadata": {
            "tags": []
          },
          "execution_count": 24
        }
      ]
    },
    {
      "cell_type": "markdown",
      "metadata": {
        "id": "KpCVMdbPY0c1",
        "colab_type": "text"
      },
      "source": [
        "#### Next up, the sample function:\n",
        "\n",
        "This function allows us to ask our model what are the next `n` most probable characters."
      ]
    },
    {
      "cell_type": "code",
      "metadata": {
        "id": "3q8iomTuYqC2",
        "colab_type": "code",
        "colab": {}
      },
      "source": [
        "def sample(preds, top_n=3):\n",
        "    preds = np.asarray(preds).astype('float64')\n",
        "    preds = np.log(preds)\n",
        "    exp_preds = np.exp(preds)\n",
        "    preds = exp_preds / np.sum(exp_preds)\n",
        "    \n",
        "    return heapq.nlargest(top_n, range(len(preds)), preds.take)"
      ],
      "execution_count": 0,
      "outputs": []
    },
    {
      "cell_type": "markdown",
      "metadata": {
        "id": "oM-cfTlcZBbp",
        "colab_type": "text"
      },
      "source": [
        "Now for the **prediction functions** themselves:\n",
        "\n",
        "This function predicts next character until space is predicted (you can extend that to punctuation symbols, right?). It does so by repeatedly preparing input, asking our model for predictions and sampling from them."
      ]
    },
    {
      "cell_type": "code",
      "metadata": {
        "id": "DxYlmesxY5lt",
        "colab_type": "code",
        "colab": {}
      },
      "source": [
        "def predict_completion(text):\n",
        "    original_text = text\n",
        "    generated = text\n",
        "    completion = ''\n",
        "    while True:\n",
        "        x = prepare_input(text)\n",
        "        preds = model.predict(x, verbose=0)[0]\n",
        "        next_index = sample(preds, top_n=1)[0]\n",
        "        next_char = indices_char[next_index]\n",
        "        text = text[1:] + next_char\n",
        "        completion += next_char\n",
        "        \n",
        "        if len(original_text + completion) + 2 > len(original_text) and next_char == ' ':\n",
        "            return completion"
      ],
      "execution_count": 0,
      "outputs": []
    },
    {
      "cell_type": "markdown",
      "metadata": {
        "id": "XuGg-5ctZfvo",
        "colab_type": "text"
      },
      "source": [
        "The final piece of the puzzle — `predict_completions` wraps everything and allow us to predict multiple completions:"
      ]
    },
    {
      "cell_type": "code",
      "metadata": {
        "id": "CaZRQz3NZLzm",
        "colab_type": "code",
        "colab": {}
      },
      "source": [
        "def predict_completions(text, n=3):\n",
        "    x = prepare_input(text)\n",
        "    preds = model.predict(x, verbose=0)[0]\n",
        "    next_indices = sample(preds, n)\n",
        "    return [indices_char[idx] + predict_completion(text[1:] + indices_char[idx]) for idx in next_indices]"
      ],
      "execution_count": 0,
      "outputs": []
    },
    {
      "cell_type": "markdown",
      "metadata": {
        "id": "Ueztu070ZuvY",
        "colab_type": "text"
      },
      "source": [
        "Let’s use sequences of 40 characters that we will use as seed for our completions. All of these are quotes from Friedrich Nietzsche himself:"
      ]
    },
    {
      "cell_type": "code",
      "metadata": {
        "id": "JkucGZ1IZpbh",
        "colab_type": "code",
        "colab": {}
      },
      "source": [
        "# actual_text = [\n",
        "#     \"It is not a lack of love, but a lack of friendship that makes unhappy marriages.\",\n",
        "#     \"That which does not kill us makes us stronger.\",\n",
        "#     \"I'm not upset that you lied to me, I'm upset that from now on I can't believe you.\",\n",
        "#     \"And those who were seen dancing were thought to be insane by those who could not hear the music.\",\n",
        "#     \"It is hard enough to remember my opinions, without also remembering my reasons for them!\",\n",
        "#     \"A man lying on a comfortable sofa is listening to his wi\",\n",
        "#     \"Assuming the predictions are probabilistic, novel sequences can be generated from a trai\",\n",
        "#     \"The networks performance is competitive with state-of-the-art language models, and it works almost\",\n",
        "#     \"This document is the initial part of a study to predict next words from a text dataset\"\n",
        "# ]\n",
        "\n",
        "# input = [\n",
        "#     \"It is not a lack of lov\",\n",
        "#     \"That which does not kill us makes us stro\",\n",
        "#     \"I'm not upset that you lied to me, I'm upset that from now on I can't bel\",\n",
        "#     \"And those who were seen dan\",\n",
        "#     \"It is hard enough to remember my opini\",\n",
        "#     \"A man lying on a comfortable ch\",\n",
        "#     \"Assuming the pre\",\n",
        "#     \"The networks performance is competi\",\n",
        "#     \"The networks performance is competitive with state-of-the-art lan\",\n",
        "#     \"This document is the initial part of a study to pre\",\n",
        "#     \"This document is the initial part of a study to pred\",\n",
        "#     \"Assumi\",\n",
        "#     \"Assuming the prediction\",\n",
        "#     \"Assuming the predictions are probabilistic, novel sequences can be gene\",\n",
        "#     \"Assuming the predictions are probabilistic, novel sequences can be gener\",\n",
        "#     \"Assuming the predictions are probabilistic, novel sequences can be generat\",\n",
        "#     \"A man loo\", \n",
        "#     \"A man looking \",\n",
        "#     \"A man looking a\",\n",
        "#     \"A man looking at \",\n",
        "#     \"A man looking at h\",\n",
        "#     \"A man looking at his b\",\n",
        "#     \"A man looking at his bab\",\n",
        "#     \"A man looking at his baby \",    \n",
        "#     \"A man looking at his baby thr\",\n",
        "#     \"A man looking at his baby through \",\n",
        "#     \"A man looking at his baby through the \",\n",
        "#     \"A man looking at his baby through the wi\",    \n",
        "#     \"A man looking at his baby through the windo\"\n",
        "    \n",
        "# ]\n",
        "\n",
        "# \"A flowchart represents the phases of managing travel for planned special events. The phases are as follows (in the respective order): Initial planning activities, feasibility study, traffic management plan, implementation activities, day-of-event activities, and post-event activities.\"\n",
        "\n",
        "# input = [\n",
        "#     \"A flowchart repr\", # 'esents '\n",
        "#     \"A flowchart represents \", # 'the '\n",
        "#     \"A flowchart represents the \", # 'company '\n",
        "#     \"A flowchart represents the p\", # 'roduct '\n",
        "#     \"A flowchart represents the ph\", # 'one '\n",
        "#     \"A flowchart represents the pha\", # 'rmaceutical '\n",
        "#     \"A flowchart represents the phas\", # 'e '\n",
        "#     \"A flowchart represents the phases\", # ' of ' \n",
        "#     \"A flowchart represents the phases of \", # 'the ' \n",
        "#     \"A flowchart represents the phases of m\", # 'ore '\n",
        "#     \"A flowchart represents the phases of ma\", # 'rkets '\n",
        "#     \"A flowchart represents the phases of man\", # 'y '    \n",
        "#     \"A flowchart represents the phases of mana\", # 'gement '\n",
        "#     \"A flowchart represents the phases of managi\", # 'ng '\n",
        "#     \"A flowchart represents the phases of managing tr\", # 'aditional'\n",
        "#     \"A flowchart represents the phases of managing trav\", # 'el '\n",
        "#     \"A flowchart represents the phases of managing travel f\", # 'or '\n",
        "#     \"A flowchart represents the phases of managing travel for pl\", # 'ans '\n",
        "#     \"A flowchart represents the phases of managing travel for plann\", # ['ed ', 'ing ', 's ', ' to ', 't ']    \n",
        "#     \"A flowchart represents the phases of managing travel for planned sp\", #['ecial ', 'ace ', 'otling ', 'iriting ', 'rings ']\n",
        "#     \"A flowchart represents the phases of managing travel for planned special \", #['community ', 'products ', 'state ', 'and ', 'report ']\n",
        "#     \"A flowchart represents the phases of managing travel for planned special ev\", #['ent ', 'idence ', 'olution ', 'acuation ', 'y ']\n",
        "#     \"A flowchart represents the phases of managing travel for planned special events. T\", #['he ', 'o ', 'rading ', 'ake ', 'ime ']\n",
        "#     \"A flowchart represents the phases of managing travel for planned special events. The phas\", #['e ', 'i ', 'a ', ' service ', 'os ']\n",
        "#     \"A flowchart represents the phases of managing travel for planned special events. The phases are as fol\",     \n",
        "# ]\n",
        "\n",
        "# A sketch shows different aged people standing on a line holding their hands.\n",
        "\n",
        "input = [\n",
        "    \"A sketc\", #['h ', ' , ', 'o ', 'tic ', 'call, ']\n",
        "    \"A sketch shows dif\", #['ferent ', ' .the ', 't ', 'pers ', 'atar ']\n",
        "    \"A sketch shows different aged peo\", #['ple ', 'ris ', 'lise ', 'sition ', 'bles ']\n",
        "    \"A sketch shows different aged people standi\", #['ng ', 'de ', 'stan ', 'er ', 'an ']\n",
        "    \"A sketch shows different aged people standing on a lin\", #['e ', 'k ', 'd ', 'ting ', 'col ']\n",
        "]\n",
        "\n",
        "# A diagram depicts the four key stages of life cycle assessment. They are: goal definition and scope, life cycle inventory assessment, impact assessment, and interpretation."
      ],
      "execution_count": 0,
      "outputs": []
    },
    {
      "cell_type": "code",
      "metadata": {
        "id": "721JtJkzZxuL",
        "colab_type": "code",
        "outputId": "0c6a1bdc-0ea1-410e-9dda-087f8b6d85c6",
        "colab": {
          "base_uri": "https://localhost:8080/",
          "height": 300
        }
      },
      "source": [
        "for i in input:\n",
        "    seq = i.lower()\n",
        "    print(seq)\n",
        "    print(predict_completions(seq, 5))\n",
        "    print()"
      ],
      "execution_count": 379,
      "outputs": [
        {
          "output_type": "stream",
          "text": [
            "a sketc\n",
            "['h ', ' , ', 'o ', 'tic ', 'call, ']\n",
            "\n",
            "a sketch shows dif\n"
          ],
          "name": "stdout"
        },
        {
          "output_type": "stream",
          "text": [
            "/usr/local/lib/python3.6/dist-packages/ipykernel_launcher.py:3: RuntimeWarning: divide by zero encountered in log\n",
            "  This is separate from the ipykernel package so we can avoid doing imports until\n"
          ],
          "name": "stderr"
        },
        {
          "output_type": "stream",
          "text": [
            "['ferent ', ' .the ', 't ', 'pers ', 'atar ']\n",
            "\n",
            "a sketch shows different aged peo\n",
            "['ple ', 'ris ', 'lise ', 'sition ', 'bles ']\n",
            "\n",
            "a sketch shows different aged people standi\n",
            "['ng ', 'de ', 'stan ', 'er ', 'an ']\n",
            "\n",
            "a sketch shows different aged people standing on a lin\n",
            "['e ', 'k ', 'd ', 'ting ', 'col ']\n",
            "\n"
          ],
          "name": "stdout"
        }
      ]
    },
    {
      "cell_type": "markdown",
      "metadata": {
        "id": "nXJ5TiR1aJs-",
        "colab_type": "text"
      },
      "source": [
        "Apart from the fact that the completions look like proper words (remember, we are training our model on characters, not words), they look pretty reasonable as well! Perhaps better model and/or more training will provide even better results?"
      ]
    },
    {
      "cell_type": "markdown",
      "metadata": {
        "id": "l2uOFqWSaOdZ",
        "colab_type": "text"
      },
      "source": [
        "# Conclusion\n",
        "\n",
        "We’ve built a model using just a few lines of code in `Keras` that performs reasonably well after just 20 training epochs. Can you try it with your own text? Why not predict whole sentences? Will it work that well in other languages?"
      ]
    },
    {
      "cell_type": "markdown",
      "metadata": {
        "id": "oU5MHFuEiKSJ",
        "colab_type": "text"
      },
      "source": [
        "# Testing Already Created Models"
      ]
    },
    {
      "cell_type": "markdown",
      "metadata": {
        "id": "TKXljvAujD7y",
        "colab_type": "text"
      },
      "source": [
        "### Load Model from Google Drive"
      ]
    },
    {
      "cell_type": "code",
      "metadata": {
        "id": "bycjqNRjiIid",
        "colab_type": "code",
        "outputId": "9042cba4-3c05-48ce-ea08-315200d335d2",
        "colab": {
          "base_uri": "https://localhost:8080/",
          "height": 53
        }
      },
      "source": [
        "# Mounting Google Drive to Load Data\n",
        "from google.colab import drive\n",
        "drive.mount('/content/drive')"
      ],
      "execution_count": 0,
      "outputs": [
        {
          "output_type": "stream",
          "text": [
            "Drive already mounted at /content/drive; to attempt to forcibly remount, call drive.mount(\"/content/drive\", force_remount=True).\n"
          ],
          "name": "stdout"
        }
      ]
    },
    {
      "cell_type": "code",
      "metadata": {
        "id": "7DDUxE02jHaQ",
        "colab_type": "code",
        "colab": {}
      },
      "source": [
        "model = load_model('./drive/My Drive/ML/Models/word_completion_prediction/word_completion_prediction_keras_model.h5')\n",
        "history = pickle.load(open(\"./drive/My Drive/ML/Models/word_completion_prediction/word_completion_prediction_history.p\", \"rb\"))"
      ],
      "execution_count": 0,
      "outputs": []
    },
    {
      "cell_type": "code",
      "metadata": {
        "id": "tc2bqryXZzyg",
        "colab_type": "code",
        "colab": {}
      },
      "source": [
        "def prepare_input(text):\n",
        "    x = np.zeros((1, len(text), len(chars)))\n",
        "    for t, char in enumerate(text):\n",
        "        x[0, t, char_indices[char]] = 1.\n",
        "        \n",
        "    return x"
      ],
      "execution_count": 0,
      "outputs": []
    },
    {
      "cell_type": "code",
      "metadata": {
        "id": "bFSJJODFihiE",
        "colab_type": "code",
        "colab": {}
      },
      "source": [
        "def sample(preds, top_n=3):\n",
        "    preds = np.asarray(preds).astype('float64')\n",
        "    preds = np.log(preds)\n",
        "    exp_preds = np.exp(preds)\n",
        "    preds = exp_preds / np.sum(exp_preds)\n",
        "    \n",
        "    return heapq.nlargest(top_n, range(len(preds)), preds.take)"
      ],
      "execution_count": 0,
      "outputs": []
    },
    {
      "cell_type": "code",
      "metadata": {
        "id": "3uQTCh9nioeZ",
        "colab_type": "code",
        "colab": {}
      },
      "source": [
        "def predict_completion(text):\n",
        "    original_text = text\n",
        "    generated = text\n",
        "    completion = ''\n",
        "    while True:\n",
        "        x = prepare_input(text)\n",
        "        preds = model.predict(x, verbose=0)[0]\n",
        "        next_index = sample(preds, top_n=1)[0]\n",
        "        next_char = indices_char[next_index]\n",
        "        text = text[1:] + next_char\n",
        "        completion += next_char\n",
        "        \n",
        "        if len(original_text + completion) + 2 > len(original_text) and next_char == ' ':\n",
        "            return completion"
      ],
      "execution_count": 0,
      "outputs": []
    },
    {
      "cell_type": "code",
      "metadata": {
        "id": "oC4jLUdsitKW",
        "colab_type": "code",
        "colab": {}
      },
      "source": [
        "def predict_completions(text, n=3):\n",
        "    x = prepare_input(text)\n",
        "    preds = model.predict(x, verbose=0)[0]\n",
        "    next_indices = sample(preds, n)\n",
        "    return [indices_char[idx] + predict_completion(text[1:] + indices_char[idx]) for idx in next_indices]"
      ],
      "execution_count": 0,
      "outputs": []
    },
    {
      "cell_type": "code",
      "metadata": {
        "id": "MzxwwuRNixKF",
        "colab_type": "code",
        "colab": {}
      },
      "source": [
        "# actual_text = [\n",
        "#     \"It is not a lack of love, but a lack of friendship that makes unhappy marriages.\",\n",
        "#     \"That which does not kill us makes us stronger.\",\n",
        "#     \"I'm not upset that you lied to me, I'm upset that from now on I can't believe you.\",\n",
        "#     \"And those who were seen dancing were thought to be insane by those who could not hear the music.\",\n",
        "#     \"It is hard enough to remember my opinions, without also remembering my reasons for them!\",\n",
        "#     \"A man lying on a comfortable sofa is listening to his wi\",\n",
        "#     \"Assuming the predictions are probabilistic, novel sequences can be generated from a trai\",\n",
        "#     \"The networks performance is competitive with state-of-the-art language models, and it works almost\",\n",
        "#     \"This document is the initial part of a study to predict next words from a text dataset\"\n",
        "# ]\n",
        "\n",
        "input = [\n",
        "    \"It is not a lack of lov\",\n",
        "    \"That which does not kill us makes us stro\",\n",
        "    \"I'm not upset that you lied to me, I'm upset that from now on I can't bel\",\n",
        "    \"And those who were seen dan\",\n",
        "    \"It is hard enough to remember my opini\",\n",
        "    \"A man lying on a comfortable ch\",\n",
        "    \"The networks perf\",\n",
        "    \"The networks performance is competi\",\n",
        "    \"The networks performance is competitive with state-of-the-art lan\",\n",
        "    \"This document is the initial part of a study to pre\",\n",
        "    \"This document is the initial part of a study to pred\",\n",
        "    \"Assuming the prediction\",\n",
        "    \"Assuming the predictions are probabilistic, novel sequences can be gene\",\n",
        "    \"Assuming the predictions are probabilistic, novel sequences can be generat\"\n",
        "]"
      ],
      "execution_count": 0,
      "outputs": []
    },
    {
      "cell_type": "code",
      "metadata": {
        "id": "_sNhloMoi3nl",
        "colab_type": "code",
        "outputId": "5d6cb288-6a48-4085-d10c-6b86b5d299ab",
        "colab": {
          "base_uri": "https://localhost:8080/",
          "height": 716
        }
      },
      "source": [
        "for i in input:\n",
        "    seq = i.lower()\n",
        "    print(seq)\n",
        "    print(predict_completions(seq, 5))\n",
        "    print()"
      ],
      "execution_count": 0,
      "outputs": [
        {
          "output_type": "stream",
          "text": [
            "it is not a lack of lov\n",
            "['e ', 'ical ', 'ality ', 'oure ', 'uling ']\n",
            "\n",
            "that which does not kill us makes us stro\n",
            "['ng ', 'dger ', 've ', 'gget ', 'w ']\n",
            "\n",
            "i'm not upset that you lied to me, i'm upset that from now on i can't bel\n",
            "['ieve ', 'ong ', 'aes ', 'ess ', 'low ']\n",
            "\n",
            "and those who were seen dan\n",
            "['gerous ', 'king ', 'ders ', 'y ', 'ce ']\n",
            "\n",
            "it is hard enough to remember my opini\n",
            "['on ', 'an ', 'ty ', 'fic ', 's ']\n",
            "\n",
            "a man lying on a comfortable ch\n",
            "['ild ', 'aracteristic ', 'ristian ', 'erristic ', 'omes ']\n",
            "\n",
            "the networks perf\n",
            "['ectly ', 'ord ', 'aind, ', 'iced ', 'uch ']\n",
            "\n",
            "the networks performance is competi\n",
            "['tion ', 'ce, ', 'ences ', 'sion ', 'ons ']\n",
            "\n",
            "the networks performance is competitive with state-of-the-art lan\n",
            "['ger ', 'ds ', 'k ', 'ce ', 'ture ']\n",
            "\n",
            "this document is the initial part of a study to pre\n",
            "['sent ', 'dicate ', 'cisely ', 'vail ', 'juce ']\n",
            "\n",
            "this document is the initial part of a study to pred\n",
            "['icate ', 'ention ', 'ucate ', 'action ', 'ocation ']\n",
            "\n",
            "assuming the prediction\n",
            "[' of ', ', ', 's ', '. ', 'al ']\n",
            "\n",
            "assuming the predictions are probabilistic, novel sequences can be gene\n",
            "['rally ', 'ution ', 'man ', 'st ', 'dations, ']\n",
            "\n",
            "assuming the predictions are probabilistic, novel sequences can be generat\n",
            "['ions, ', 'ed ', 'on, ', 'y ', 'ure ']\n",
            "\n"
          ],
          "name": "stdout"
        }
      ]
    },
    {
      "cell_type": "code",
      "metadata": {
        "id": "rKk-brP3i9i0",
        "colab_type": "code",
        "colab": {}
      },
      "source": [
        ""
      ],
      "execution_count": 0,
      "outputs": []
    }
  ]
}