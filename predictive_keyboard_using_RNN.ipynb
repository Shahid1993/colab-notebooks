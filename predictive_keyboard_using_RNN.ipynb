{
  "nbformat": 4,
  "nbformat_minor": 0,
  "metadata": {
    "colab": {
      "name": "predictive_keyboard_using_RNN.ipynb",
      "version": "0.3.2",
      "provenance": [],
      "include_colab_link": true
    },
    "kernelspec": {
      "name": "python3",
      "display_name": "Python 3"
    },
    "accelerator": "GPU"
  },
  "cells": [
    {
      "cell_type": "markdown",
      "metadata": {
        "id": "view-in-github",
        "colab_type": "text"
      },
      "source": [
        "<a href=\"https://colab.research.google.com/github/Shahid1993/colab-notebooks/blob/master/predictive_keyboard_using_RNN.ipynb\" target=\"_parent\"><img src=\"https://colab.research.google.com/assets/colab-badge.svg\" alt=\"Open In Colab\"/></a>"
      ]
    },
    {
      "cell_type": "markdown",
      "metadata": {
        "id": "-XyxJMP9j4Bb",
        "colab_type": "text"
      },
      "source": [
        "# [Making a Predictive Keyboard using Recurrent Neural Networks — TensorFlow for Hackers (Part V)](https://medium.com/@curiousily/making-a-predictive-keyboard-using-recurrent-neural-networks-tensorflow-for-hackers-part-v-3f238d824218)"
      ]
    },
    {
      "cell_type": "markdown",
      "metadata": {
        "id": "43qiGz1ikK4t",
        "colab_type": "text"
      },
      "source": [
        "This time we will build a model that predicts the next word (a character actually) based on a few of the previous. We will extend it a bit by asking it for 5 suggestions instead of only 1.\n",
        "\n",
        "# Recurrent Neural Networks\n",
        "\n",
        "Our weapon of choice for this task will be Recurrent Neural Networks (RNNs). But why? What’s wrong with the type of networks we’ve used so far? Nothing! Yet, they lack something that proves to be quite useful in practice — `memory`!\n",
        "\n",
        "In short, `RNN` models provide a way to not only examine the current input but the one that was provided one step back, as well. If we turn that around, we can say that the decision reached at time step t-1 directly affects the future at step t.\n",
        "\n",
        "![](https://miro.medium.com/max/947/1*K6s4Li0fTl1pSX4-WPBMMA.jpeg)\n",
        "\n",
        "It seems like a waste to throw out the memory of what you’ve seen so far and start from scratch every time. That’s what other types of Neural Networks do.\n",
        "\n",
        "# Definition\n",
        "\n",
        "`RNNs` define a recurrence relation over time steps which is given by:\n",
        "\n",
        "![](https://miro.medium.com/max/555/1*3giig0Hb58gDrl1dBdAWSw.png)\n",
        "\n",
        "Where St is the state at time step t, Xt an exogenous input at time t, Wrec and Wx are weights parameters. The feedback loops gives memory to the model because it can remember information between time steps.\n",
        "\n",
        "`RNNs` can compute the current state St from the current input Xt and previous state St−1 or predict the next state from St+1 from the current St and current input Xt. Concretely, we will pass a sequence of 40 characters and ask the model to predict the next one. We will append the new character and drop the first one and predict again. This will continue until we complete a whole word.\n",
        "\n",
        "# LSTMs\n",
        "\n",
        "Two major problems torment the `RNNs` — vanishing and exploding gradients. In traditional `RNNs` the gradient signal can be multiplied a large number of times by the weight matrix. Thus, the magnitude of the weights of the transition matrix can play an important role.\n",
        "\n",
        "If the weights in the matrix are small, the gradient signal becomes smaller at every training step, thus making learning very slow or completely stops it. This is called vanishing gradient. Let’s have a look at applying the sigmoid function multiple times, thus simulating the effect of vanishing gradient:\n",
        "\n",
        "![](https://miro.medium.com/max/552/1*XbVjM9cPb-BkLrWGNujEQg.png)\n",
        "\n",
        "Conversely, the exploding gradient refers to the weights in this matrix being so large that it can cause learning to diverge.\n",
        "\n",
        "`LSTM` model is a special kind of `RNN` that learns long-term dependencies. It introduces new structure — the memory cell that is composed of four elements: input, forget and output gates and a neuron that connects to itself:\n",
        "\n",
        "![](https://miro.medium.com/max/606/1*ZskkUQCNT0i_00shHYSj1A.png)\n",
        "\n",
        "`LSTMs` fight the gradient vanishing problem by preserving the error that can be backpropagated through time and layers. By maintaining a more constant error, they allow for learning long-term dependencies. On another hand, exploding is controlled with gradient clipping, that is the gradient is not allowed to go above some predefined value.\n"
      ]
    },
    {
      "cell_type": "markdown",
      "metadata": {
        "id": "86dHl5yOlPvC",
        "colab_type": "text"
      },
      "source": [
        "# Setup\n",
        "\n",
        "Let’s properly seed our random number generator and import all required modules:"
      ]
    },
    {
      "cell_type": "code",
      "metadata": {
        "id": "FyG245CbEyOj",
        "colab_type": "code",
        "colab": {
          "base_uri": "https://localhost:8080/",
          "height": 35
        },
        "outputId": "2f2187df-c688-45e5-fe69-4e65b91ca69d"
      },
      "source": [
        "import numpy as np\n",
        "np.random.seed(42)\n",
        "import tensorflow as tf\n",
        "tf.set_random_seed(42)\n",
        "from keras.models import Sequential, load_model\n",
        "from keras.layers import Dense, Activation\n",
        "from keras.layers import LSTM, Dropout\n",
        "from keras.layers import TimeDistributed\n",
        "from keras.layers.core import Dense, Activation, Dropout, RepeatVector\n",
        "from keras.optimizers import RMSprop\n",
        "import matplotlib.pyplot as plt\n",
        "import pickle\n",
        "import sys\n",
        "import heapq\n",
        "import seaborn as sns\n",
        "from pylab import rcParams\n",
        "\n",
        "%matplotlib inline\n",
        "\n",
        "sns.set(style='whitegrid', palette='muted', font_scale=1.5)\n",
        "\n",
        "rcParams['figure.figsize'] = 12, 5"
      ],
      "execution_count": 1,
      "outputs": [
        {
          "output_type": "stream",
          "text": [
            "Using TensorFlow backend.\n"
          ],
          "name": "stderr"
        }
      ]
    },
    {
      "cell_type": "markdown",
      "metadata": {
        "id": "q7WepqMeP8Im",
        "colab_type": "text"
      },
      "source": [
        "# Loading the data\n",
        "\n",
        "We will use Friedrich Nietzsche’s Beyond Good and Evil as a training corpus for our model. The text is not that large and our model can be trained relatively fast using a modest GPU."
      ]
    },
    {
      "cell_type": "code",
      "metadata": {
        "id": "i6uTIz7yIdqP",
        "colab_type": "code",
        "colab": {
          "base_uri": "https://localhost:8080/",
          "height": 35
        },
        "outputId": "3cd5e35e-2bd6-45f0-9da8-a82ac3bd6c23"
      },
      "source": [
        "path = './sample_data/nietzsche.txt'\n",
        "text = open(path).read().lower()\n",
        "print('corpus length:', len(text))"
      ],
      "execution_count": 2,
      "outputs": [
        {
          "output_type": "stream",
          "text": [
            "corpus length: 600902\n"
          ],
          "name": "stdout"
        }
      ]
    },
    {
      "cell_type": "markdown",
      "metadata": {
        "id": "K2mMQUz6QIMW",
        "colab_type": "text"
      },
      "source": [
        "# Preprocessing\n",
        "\n",
        "Let’s find all unique chars in the corpus and create char to index and index to char maps:"
      ]
    },
    {
      "cell_type": "code",
      "metadata": {
        "id": "o7MXMyBPPbcu",
        "colab_type": "code",
        "colab": {
          "base_uri": "https://localhost:8080/",
          "height": 35
        },
        "outputId": "f1887907-0abc-42ac-b78a-6931c1e312c2"
      },
      "source": [
        "chars = sorted(list(set(text)))\n",
        "char_indices = dict((c, i) for i, c in enumerate(chars))\n",
        "indices_char = dict((i, c) for i, c in enumerate(chars))\n",
        "\n",
        "print(f'unique chars: {len(chars)}')"
      ],
      "execution_count": 3,
      "outputs": [
        {
          "output_type": "stream",
          "text": [
            "unique chars: 59\n"
          ],
          "name": "stdout"
        }
      ]
    },
    {
      "cell_type": "markdown",
      "metadata": {
        "id": "5FwDdojDQglR",
        "colab_type": "text"
      },
      "source": [
        "Next, let’s cut the corpus into chunks of 40 characters, spacing the sequences by 3 characters. Additionally, we will store the next character (the one we need to predict) for every sequence:"
      ]
    },
    {
      "cell_type": "code",
      "metadata": {
        "id": "17sfI9SJQL_n",
        "colab_type": "code",
        "colab": {
          "base_uri": "https://localhost:8080/",
          "height": 35
        },
        "outputId": "cc834ee8-d955-4692-b6c2-92a2a6ffe178"
      },
      "source": [
        "SEQUENCE_LENGTH = 40\n",
        "step = 3\n",
        "sentences = []\n",
        "next_chars = []\n",
        "for i in range(0, len(text) - SEQUENCE_LENGTH, step):\n",
        "    sentences.append(text[i: i + SEQUENCE_LENGTH])\n",
        "    next_chars.append(text[i + SEQUENCE_LENGTH])\n",
        "print(f'num training examples: {len(sentences)}')"
      ],
      "execution_count": 4,
      "outputs": [
        {
          "output_type": "stream",
          "text": [
            "num training examples: 200288\n"
          ],
          "name": "stdout"
        }
      ]
    },
    {
      "cell_type": "markdown",
      "metadata": {
        "id": "ZEVtGZfEQwmq",
        "colab_type": "text"
      },
      "source": [
        "It is time for generating our features and labels. We will use the previously generated sequences and characters that need to be predicted to create one-hot encoded vectors using the `char_indices` map:"
      ]
    },
    {
      "cell_type": "code",
      "metadata": {
        "id": "bpGyjuN_Q2sr",
        "colab_type": "code",
        "colab": {}
      },
      "source": [
        "X = np.zeros((len(sentences), SEQUENCE_LENGTH, len(chars)), dtype=np.bool)\n",
        "y = np.zeros((len(sentences), len(chars)), dtype=np.bool)\n",
        "for i, sentence in enumerate(sentences):\n",
        "    for t, char in enumerate(sentence):\n",
        "        X[i, t, char_indices[char]] = 1\n",
        "    y[i, char_indices[next_chars[i]]] = 1"
      ],
      "execution_count": 0,
      "outputs": []
    },
    {
      "cell_type": "markdown",
      "metadata": {
        "id": "0wFNfNWiQ-kg",
        "colab_type": "text"
      },
      "source": [
        "Let’s have a look at a single training sequence:"
      ]
    },
    {
      "cell_type": "code",
      "metadata": {
        "id": "u5v7uuslQ59c",
        "colab_type": "code",
        "colab": {
          "base_uri": "https://localhost:8080/",
          "height": 35
        },
        "outputId": "6eaabbe5-2ada-43d6-eed9-70d4e9b74d40"
      },
      "source": [
        "sentences[100]"
      ],
      "execution_count": 6,
      "outputs": [
        {
          "output_type": "execute_result",
          "data": {
            "text/plain": [
              "'ve been unskilled and unseemly methods f'"
            ]
          },
          "metadata": {
            "tags": []
          },
          "execution_count": 6
        }
      ]
    },
    {
      "cell_type": "markdown",
      "metadata": {
        "id": "x2SJ9Ko-RFL0",
        "colab_type": "text"
      },
      "source": [
        "The character that needs to be predicted for it is:"
      ]
    },
    {
      "cell_type": "code",
      "metadata": {
        "id": "ho9TltNFRBCe",
        "colab_type": "code",
        "colab": {
          "base_uri": "https://localhost:8080/",
          "height": 35
        },
        "outputId": "bee61a74-0536-4941-bcdd-03f5616d5e19"
      },
      "source": [
        "next_chars[100]"
      ],
      "execution_count": 7,
      "outputs": [
        {
          "output_type": "execute_result",
          "data": {
            "text/plain": [
              "'o'"
            ]
          },
          "metadata": {
            "tags": []
          },
          "execution_count": 7
        }
      ]
    },
    {
      "cell_type": "markdown",
      "metadata": {
        "id": "aydxJMHjRKog",
        "colab_type": "text"
      },
      "source": [
        "The encoded (one-hot) data looks like this:"
      ]
    },
    {
      "cell_type": "code",
      "metadata": {
        "id": "9GWKVSnYRHI4",
        "colab_type": "code",
        "colab": {
          "base_uri": "https://localhost:8080/",
          "height": 143
        },
        "outputId": "999f66ee-73bd-4ec3-d483-400c02f4338c"
      },
      "source": [
        "X[0][0]"
      ],
      "execution_count": 8,
      "outputs": [
        {
          "output_type": "execute_result",
          "data": {
            "text/plain": [
              "array([False, False, False, False, False, False, False, False, False,\n",
              "       False, False, False, False, False, False, False, False, False,\n",
              "       False, False, False, False, False, False, False, False, False,\n",
              "       False, False, False, False, False, False, False, False, False,\n",
              "       False, False, False, False, False, False,  True, False, False,\n",
              "       False, False, False, False, False, False, False, False, False,\n",
              "       False, False, False, False, False])"
            ]
          },
          "metadata": {
            "tags": []
          },
          "execution_count": 8
        }
      ]
    },
    {
      "cell_type": "code",
      "metadata": {
        "id": "GJX3M2C0RNXk",
        "colab_type": "code",
        "colab": {
          "base_uri": "https://localhost:8080/",
          "height": 143
        },
        "outputId": "b3b0a701-3c39-4ec8-9ce2-b2159c590619"
      },
      "source": [
        "y[0]"
      ],
      "execution_count": 9,
      "outputs": [
        {
          "output_type": "execute_result",
          "data": {
            "text/plain": [
              "array([False, False, False, False, False, False, False, False, False,\n",
              "       False, False, False, False, False, False, False, False, False,\n",
              "       False, False, False, False, False, False, False, False, False,\n",
              "       False, False, False, False, False, False, False, False, False,\n",
              "       False, False, False, False,  True, False, False, False, False,\n",
              "       False, False, False, False, False, False, False, False, False,\n",
              "       False, False, False, False, False])"
            ]
          },
          "metadata": {
            "tags": []
          },
          "execution_count": 9
        }
      ]
    },
    {
      "cell_type": "markdown",
      "metadata": {
        "id": "WR5slh2cRSdU",
        "colab_type": "text"
      },
      "source": [
        "And for the dimensions:"
      ]
    },
    {
      "cell_type": "code",
      "metadata": {
        "id": "3Bq2v41uRPt9",
        "colab_type": "code",
        "colab": {
          "base_uri": "https://localhost:8080/",
          "height": 35
        },
        "outputId": "57a1d723-5526-4b77-9cf2-a39eb59347a2"
      },
      "source": [
        "X.shape"
      ],
      "execution_count": 10,
      "outputs": [
        {
          "output_type": "execute_result",
          "data": {
            "text/plain": [
              "(200288, 40, 59)"
            ]
          },
          "metadata": {
            "tags": []
          },
          "execution_count": 10
        }
      ]
    },
    {
      "cell_type": "code",
      "metadata": {
        "id": "evOzqrpKRUOE",
        "colab_type": "code",
        "colab": {
          "base_uri": "https://localhost:8080/",
          "height": 35
        },
        "outputId": "f7f8bf3d-107d-4825-9070-a77acd6cdfb4"
      },
      "source": [
        "y.shape"
      ],
      "execution_count": 11,
      "outputs": [
        {
          "output_type": "execute_result",
          "data": {
            "text/plain": [
              "(200288, 59)"
            ]
          },
          "metadata": {
            "tags": []
          },
          "execution_count": 11
        }
      ]
    },
    {
      "cell_type": "markdown",
      "metadata": {
        "id": "ylvSVPOBRbxR",
        "colab_type": "text"
      },
      "source": [
        "We have 200288 training examples, each sequence has length of 40 with 59 unique chars."
      ]
    },
    {
      "cell_type": "markdown",
      "metadata": {
        "id": "8nhrR1xnRuTU",
        "colab_type": "text"
      },
      "source": [
        "# Building the model\n",
        "\n",
        "The model we’re going to train is pretty straight forward. Single `LSTM` layer with `128` neurons which accepts input of shape (`40` — the length of a sequence, `57` — the number of unique characters in our dataset). A fully connected layer (for our output) is added after that. It has `57` neurons and softmax for activation function:"
      ]
    },
    {
      "cell_type": "code",
      "metadata": {
        "id": "lSdgR19fRXt0",
        "colab_type": "code",
        "colab": {
          "base_uri": "https://localhost:8080/",
          "height": 163
        },
        "outputId": "cccd17f0-121a-4d21-d5ac-bcfaa1ad4a59"
      },
      "source": [
        "model = Sequential()\n",
        "model.add(LSTM(128, input_shape=(SEQUENCE_LENGTH, len(chars))))\n",
        "model.add(Dense(len(chars)))\n",
        "model.add(Activation('softmax'))"
      ],
      "execution_count": 12,
      "outputs": [
        {
          "output_type": "stream",
          "text": [
            "WARNING: Logging before flag parsing goes to stderr.\n",
            "W0903 13:23:56.031320 139727685396352 deprecation_wrapper.py:119] From /usr/local/lib/python3.6/dist-packages/keras/backend/tensorflow_backend.py:66: The name tf.get_default_graph is deprecated. Please use tf.compat.v1.get_default_graph instead.\n",
            "\n",
            "W0903 13:23:56.033964 139727685396352 deprecation_wrapper.py:119] From /usr/local/lib/python3.6/dist-packages/keras/backend/tensorflow_backend.py:541: The name tf.placeholder is deprecated. Please use tf.compat.v1.placeholder instead.\n",
            "\n",
            "W0903 13:23:56.040713 139727685396352 deprecation_wrapper.py:119] From /usr/local/lib/python3.6/dist-packages/keras/backend/tensorflow_backend.py:4432: The name tf.random_uniform is deprecated. Please use tf.random.uniform instead.\n",
            "\n"
          ],
          "name": "stderr"
        }
      ]
    },
    {
      "cell_type": "markdown",
      "metadata": {
        "id": "BXtC_FywSSMw",
        "colab_type": "text"
      },
      "source": [
        "# Training\n",
        "\n",
        "Our model is trained for `20` epochs using `RMSProp` optimizer and uses `5%`` of the data for validation:"
      ]
    },
    {
      "cell_type": "code",
      "metadata": {
        "id": "APLCGJaCSFlr",
        "colab_type": "code",
        "colab": {
          "base_uri": "https://localhost:8080/",
          "height": 937
        },
        "outputId": "dfa84c72-7b5a-426e-ca2c-ec82b5abef3b"
      },
      "source": [
        "optimizer = RMSprop(lr=0.01)\n",
        "model.compile(loss='categorical_crossentropy', optimizer=optimizer, metrics=['accuracy'])\n",
        "\n",
        "history = model.fit(X, y, validation_split=0.05, batch_size=128, epochs=20, shuffle=True).history"
      ],
      "execution_count": 13,
      "outputs": [
        {
          "output_type": "stream",
          "text": [
            "W0903 13:24:02.945518 139727685396352 deprecation_wrapper.py:119] From /usr/local/lib/python3.6/dist-packages/keras/optimizers.py:793: The name tf.train.Optimizer is deprecated. Please use tf.compat.v1.train.Optimizer instead.\n",
            "\n",
            "W0903 13:24:02.954427 139727685396352 deprecation_wrapper.py:119] From /usr/local/lib/python3.6/dist-packages/keras/backend/tensorflow_backend.py:3576: The name tf.log is deprecated. Please use tf.math.log instead.\n",
            "\n",
            "W0903 13:24:03.060693 139727685396352 deprecation.py:323] From /usr/local/lib/python3.6/dist-packages/tensorflow/python/ops/math_grad.py:1250: add_dispatch_support.<locals>.wrapper (from tensorflow.python.ops.array_ops) is deprecated and will be removed in a future version.\n",
            "Instructions for updating:\n",
            "Use tf.where in 2.0, which has the same broadcast rule as np.where\n",
            "W0903 13:24:03.556850 139727685396352 deprecation_wrapper.py:119] From /usr/local/lib/python3.6/dist-packages/keras/backend/tensorflow_backend.py:1033: The name tf.assign_add is deprecated. Please use tf.compat.v1.assign_add instead.\n",
            "\n"
          ],
          "name": "stderr"
        },
        {
          "output_type": "stream",
          "text": [
            "Train on 190273 samples, validate on 10015 samples\n",
            "Epoch 1/20\n",
            "190273/190273 [==============================] - 100s 524us/step - loss: 2.0022 - acc: 0.4163 - val_loss: 1.6814 - val_acc: 0.4987\n",
            "Epoch 2/20\n",
            "190273/190273 [==============================] - 97s 509us/step - loss: 1.6419 - acc: 0.5144 - val_loss: 1.5634 - val_acc: 0.5324\n",
            "Epoch 3/20\n",
            "190273/190273 [==============================] - 97s 511us/step - loss: 1.5500 - acc: 0.5380 - val_loss: 1.5135 - val_acc: 0.5457\n",
            "Epoch 4/20\n",
            "190273/190273 [==============================] - 97s 512us/step - loss: 1.5012 - acc: 0.5499 - val_loss: 1.5171 - val_acc: 0.5466\n",
            "Epoch 5/20\n",
            "190273/190273 [==============================] - 96s 507us/step - loss: 1.4692 - acc: 0.5597 - val_loss: 1.4989 - val_acc: 0.5517\n",
            "Epoch 6/20\n",
            "190273/190273 [==============================] - 96s 503us/step - loss: 1.4453 - acc: 0.5649 - val_loss: 1.4801 - val_acc: 0.5559\n",
            "Epoch 7/20\n",
            "190273/190273 [==============================] - 95s 500us/step - loss: 1.4263 - acc: 0.5697 - val_loss: 1.4811 - val_acc: 0.5565\n",
            "Epoch 8/20\n",
            "190273/190273 [==============================] - 94s 493us/step - loss: 1.4126 - acc: 0.5741 - val_loss: 1.4805 - val_acc: 0.5571\n",
            "Epoch 9/20\n",
            "190273/190273 [==============================] - 94s 494us/step - loss: 1.4021 - acc: 0.5762 - val_loss: 1.4604 - val_acc: 0.5628\n",
            "Epoch 10/20\n",
            "190273/190273 [==============================] - 94s 494us/step - loss: 1.3909 - acc: 0.5784 - val_loss: 1.4648 - val_acc: 0.5624\n",
            "Epoch 11/20\n",
            "190273/190273 [==============================] - 94s 494us/step - loss: 1.3841 - acc: 0.5819 - val_loss: 1.4753 - val_acc: 0.5634\n",
            "Epoch 12/20\n",
            "190273/190273 [==============================] - 93s 491us/step - loss: 1.3759 - acc: 0.5833 - val_loss: 1.4621 - val_acc: 0.5606\n",
            "Epoch 13/20\n",
            "190273/190273 [==============================] - 93s 491us/step - loss: 1.3683 - acc: 0.5856 - val_loss: 1.4645 - val_acc: 0.5674\n",
            "Epoch 14/20\n",
            "190273/190273 [==============================] - 94s 493us/step - loss: 1.3629 - acc: 0.5870 - val_loss: 1.4629 - val_acc: 0.5664\n",
            "Epoch 15/20\n",
            "190273/190273 [==============================] - 93s 490us/step - loss: 1.3565 - acc: 0.5883 - val_loss: 1.4598 - val_acc: 0.5695\n",
            "Epoch 16/20\n",
            "190273/190273 [==============================] - 94s 491us/step - loss: 1.3521 - acc: 0.5894 - val_loss: 1.4687 - val_acc: 0.5684\n",
            "Epoch 17/20\n",
            "190273/190273 [==============================] - 93s 490us/step - loss: 1.3471 - acc: 0.5912 - val_loss: 1.4597 - val_acc: 0.5643\n",
            "Epoch 18/20\n",
            "190273/190273 [==============================] - 92s 484us/step - loss: 1.3435 - acc: 0.5921 - val_loss: 1.4705 - val_acc: 0.5608\n",
            "Epoch 19/20\n",
            "190273/190273 [==============================] - 93s 487us/step - loss: 1.3387 - acc: 0.5927 - val_loss: 1.4713 - val_acc: 0.5635\n",
            "Epoch 20/20\n",
            "190273/190273 [==============================] - 93s 488us/step - loss: 1.3349 - acc: 0.5933 - val_loss: 1.4742 - val_acc: 0.5668\n"
          ],
          "name": "stdout"
        }
      ]
    },
    {
      "cell_type": "markdown",
      "metadata": {
        "id": "TiFOP3MaapiA",
        "colab_type": "text"
      },
      "source": [
        "# Saving\n",
        "\n",
        "It took a lot of time to train our model. Let’s save our progress:"
      ]
    },
    {
      "cell_type": "code",
      "metadata": {
        "id": "fU1E-_JmSZdm",
        "colab_type": "code",
        "colab": {}
      },
      "source": [
        "model.save('keras_model.h5')\n",
        "pickle.dump(history, open(\"history.p\", \"wb\"))"
      ],
      "execution_count": 0,
      "outputs": []
    },
    {
      "cell_type": "markdown",
      "metadata": {
        "id": "OE3KSLw9azAg",
        "colab_type": "text"
      },
      "source": [
        "And load it back, just to make sure it works:"
      ]
    },
    {
      "cell_type": "code",
      "metadata": {
        "id": "S1r_uhXtatai",
        "colab_type": "code",
        "colab": {}
      },
      "source": [
        "model = load_model('keras_model.h5')\n",
        "history = pickle.load(open(\"history.p\", \"rb\"))"
      ],
      "execution_count": 0,
      "outputs": []
    },
    {
      "cell_type": "markdown",
      "metadata": {
        "id": "DSaKat0sa5f0",
        "colab_type": "text"
      },
      "source": [
        "# Evaluation\n",
        "\n",
        "Let’s have a look at how our accuracy and loss change over training epochs:"
      ]
    },
    {
      "cell_type": "code",
      "metadata": {
        "id": "WucBUr4Ta1Mm",
        "colab_type": "code",
        "colab": {
          "base_uri": "https://localhost:8080/",
          "height": 372
        },
        "outputId": "6a518c95-66bb-4526-d34d-6beb3d80dd3f"
      },
      "source": [
        "plt.plot(history['acc'])\n",
        "plt.plot(history['val_acc'])\n",
        "plt.title('model accuracy')\n",
        "plt.ylabel('accuracy')\n",
        "plt.xlabel('epoch')\n",
        "plt.legend(['train', 'test'], loc='upper left');"
      ],
      "execution_count": 16,
      "outputs": [
        {
          "output_type": "display_data",
          "data": {
            "image/png": "[encoded data removed]",
            "text/plain": [
              "<Figure size 864x360 with 1 Axes>"
            ]
          },
          "metadata": {
            "tags": []
          }
        }
      ]
    },
    {
      "cell_type": "code",
      "metadata": {
        "id": "cmmS8HPqa8vB",
        "colab_type": "code",
        "colab": {
          "base_uri": "https://localhost:8080/",
          "height": 372
        },
        "outputId": "2f72ac26-3ced-457b-aa9c-a9fb31aea2f5"
      },
      "source": [
        "plt.plot(history['loss'])\n",
        "plt.plot(history['val_loss'])\n",
        "plt.title('model loss')\n",
        "plt.ylabel('loss')\n",
        "plt.xlabel('epoch')\n",
        "plt.legend(['train', 'test'], loc='upper left');"
      ],
      "execution_count": 17,
      "outputs": [
        {
          "output_type": "display_data",
          "data": {
            "image/png": "[encoded data removed]",
            "text/plain": [
              "<Figure size 864x360 with 1 Axes>"
            ]
          },
          "metadata": {
            "tags": []
          }
        }
      ]
    },
    {
      "cell_type": "markdown",
      "metadata": {
        "id": "BjfU6rn5bIFX",
        "colab_type": "text"
      },
      "source": [
        "# Let’s put our model to the test\n",
        "\n",
        "Finally, it is time to predict some word completions using our model! First, we need some helper functions. Let’s start by preparing our input text:"
      ]
    },
    {
      "cell_type": "code",
      "metadata": {
        "id": "kzx509pvbA-5",
        "colab_type": "code",
        "colab": {}
      },
      "source": [
        "def prepare_input(text):\n",
        "    x = np.zeros((1, SEQUENCE_LENGTH, len(chars)))    \n",
        "    \n",
        "    for t, char in enumerate(text):\n",
        "        x[0, t, char_indices[char]] = 1.\n",
        "        \n",
        "    return x"
      ],
      "execution_count": 0,
      "outputs": []
    },
    {
      "cell_type": "markdown",
      "metadata": {
        "id": "Sg28ULFIbbj8",
        "colab_type": "text"
      },
      "source": [
        "Remember that our sequences must be `40` characters long. So we make a tensor with shape `(1, 40, 57)`, initialized with zeros. Then, a value of `1` is placed for each character in the passed text. We must not forget to use the lowercase version of the text:"
      ]
    },
    {
      "cell_type": "code",
      "metadata": {
        "id": "D_AZTnbKbMS7",
        "colab_type": "code",
        "colab": {
          "base_uri": "https://localhost:8080/",
          "height": 143
        },
        "outputId": "0ad67771-7367-4014-8d01-a9486a7c7a17"
      },
      "source": [
        "prepare_input(\"This is an example of input for our LSTM\".lower())"
      ],
      "execution_count": 20,
      "outputs": [
        {
          "output_type": "execute_result",
          "data": {
            "text/plain": [
              "array([[[0., 0., 0., ..., 0., 0., 0.],\n",
              "        [0., 0., 0., ..., 0., 0., 0.],\n",
              "        [0., 0., 0., ..., 0., 0., 0.],\n",
              "        ...,\n",
              "        [0., 0., 0., ..., 0., 0., 0.],\n",
              "        [0., 0., 0., ..., 0., 0., 0.],\n",
              "        [0., 0., 0., ..., 0., 0., 0.]]])"
            ]
          },
          "metadata": {
            "tags": []
          },
          "execution_count": 20
        }
      ]
    },
    {
      "cell_type": "markdown",
      "metadata": {
        "id": "mLRi77rXgLY0",
        "colab_type": "text"
      },
      "source": [
        "Next up, the sample function:"
      ]
    },
    {
      "cell_type": "code",
      "metadata": {
        "id": "ObRnqsZVgIiD",
        "colab_type": "code",
        "colab": {}
      },
      "source": [
        "def sample(preds, top_n=3):\n",
        "    preds = np.asarray(preds).astype('float64')\n",
        "    preds = np.log(preds)\n",
        "    exp_preds = np.exp(preds)\n",
        "    preds = exp_preds / np.sum(exp_preds)\n",
        "    \n",
        "    return heapq.nlargest(top_n, range(len(preds)), preds.take)"
      ],
      "execution_count": 0,
      "outputs": []
    },
    {
      "cell_type": "markdown",
      "metadata": {
        "id": "7wJfgdm7gTZk",
        "colab_type": "text"
      },
      "source": [
        "This function allows us to ask our model what are the next n most probable characters. Isn’t that heap just cool?\n",
        "\n",
        "\n",
        "Now for the prediction functions themselves:"
      ]
    },
    {
      "cell_type": "code",
      "metadata": {
        "id": "fb2Dfh2rgOwK",
        "colab_type": "code",
        "colab": {}
      },
      "source": [
        "def predict_completion(text):\n",
        "    original_text = text\n",
        "    generated = text\n",
        "    completion = ''\n",
        "    while True:\n",
        "        x = prepare_input(text)\n",
        "        preds = model.predict(x, verbose=0)[0]\n",
        "        next_index = sample(preds, top_n=1)[0]\n",
        "        next_char = indices_char[next_index]        \n",
        "        \n",
        "        text = text[1:] + next_char\n",
        "        completion += next_char\n",
        "        \n",
        "        if len(original_text + completion) + 2 > len(original_text) and next_char == ' ':\n",
        "            return completion"
      ],
      "execution_count": 0,
      "outputs": []
    },
    {
      "cell_type": "markdown",
      "metadata": {
        "id": "H4mVUqJkgj6s",
        "colab_type": "text"
      },
      "source": [
        "This function predicts next character until space is predicted (you can extend that to punctuation symbols, right?). It does so by repeatedly preparing input, asking our model for predictions and sampling from them.\n",
        "\n",
        "\n",
        "  \n",
        "<br>\n",
        "\n",
        "The final piece of the puzzle — `predict_completions` wraps everything and allow us to predict multiple completions:"
      ]
    },
    {
      "cell_type": "code",
      "metadata": {
        "id": "jf3XSX_wgYdq",
        "colab_type": "code",
        "colab": {}
      },
      "source": [
        "def predict_completions(text, n=3):\n",
        "    x = prepare_input(text)\n",
        "    preds = model.predict(x, verbose=0)[0]\n",
        "    next_indices = sample(preds, n)\n",
        "    return [indices_char[idx] + predict_completion(text[1:] + indices_char[idx]) for idx in next_indices]"
      ],
      "execution_count": 0,
      "outputs": []
    },
    {
      "cell_type": "markdown",
      "metadata": {
        "id": "t0wTfqxHhSe8",
        "colab_type": "text"
      },
      "source": [
        "Let’s use sequences of `40` characters that we will use as seed for our completions. All of these are quotes from Friedrich Nietzsche himself:"
      ]
    },
    {
      "cell_type": "code",
      "metadata": {
        "id": "p-7Qt-ycgx_F",
        "colab_type": "code",
        "colab": {}
      },
      "source": [
        "quotes = [\n",
        "    \"It is not a lack of love, but a lack of friendship that makes unhappy marriages.\",\n",
        "    \"That which does not kill us makes us stronger.\",\n",
        "    \"I'm not upset that you lied to me, I'm upset that from now on I can't believe you.\",\n",
        "    \"And those who were seen dancing were thought to be insane by those who could not hear the music.\",\n",
        "    \"It is hard enough to remember my opinions, without also remembering my reasons for them!\"\n",
        "]"
      ],
      "execution_count": 0,
      "outputs": []
    },
    {
      "cell_type": "code",
      "metadata": {
        "id": "6Hejr06lhXhq",
        "colab_type": "code",
        "colab": {
          "base_uri": "https://localhost:8080/",
          "height": 287
        },
        "outputId": "447a3cd0-8816-41a7-82f5-3285c1f60bdc"
      },
      "source": [
        "for q in quotes:\n",
        "    seq = q[:40].lower()\n",
        "    print(seq)\n",
        "    print(predict_completions(seq, 5))\n",
        "    print()"
      ],
      "execution_count": 26,
      "outputs": [
        {
          "output_type": "stream",
          "text": [
            "it is not a lack of love, but a lack of \n",
            "['the ', 'an ', 'contrary ', 'its ', 'supposing ']\n",
            "\n",
            "that which does not kill us makes us str\n",
            "['ange, ', 'ong ', 'ive ', 'ength ', 'uctifice ']\n",
            "\n",
            "i'm not upset that you lied to me, i'm u\n",
            "['nder ', 's ', 'pon ', 'ttively ', 'mperatility ']\n",
            "\n",
            "and those who were seen dancing were tho\n",
            "['ught ', 'se ', 'r ', 'n ', 'm ']\n",
            "\n",
            "it is hard enough to remember my opinion\n",
            "[' of ', ', ', '\\nof ', 's ', '. ']\n",
            "\n"
          ],
          "name": "stdout"
        }
      ]
    },
    {
      "cell_type": "markdown",
      "metadata": {
        "id": "lwwedD_Hhrzk",
        "colab_type": "text"
      },
      "source": [
        "Apart from the fact that the completions look like proper words (remember, we are training our model on characters, not words), they look pretty reasonable as well! Perhaps better model and/or more training will provide even better results?\n",
        "\n",
        "<br>\n",
        "\n",
        "# Conclusion\n",
        "\n",
        "We’ve built a model using just a few lines of code in Keras that performs reasonably well after just 20 training epochs. Can you try it with your own text? Why not predict whole sentences? Will it work that well in other languages?"
      ]
    },
    {
      "cell_type": "markdown",
      "metadata": {
        "id": "mTb2Rh2IjMlv",
        "colab_type": "text"
      },
      "source": [
        "# References\n",
        "\n",
        " - [Recurrent Nets in TensorFlow](https://danijar.com/introduction-to-recurrent-networks-in-tensorflow/)\n",
        " - [The Unreasonable Effectiveness of Recurrent Neural Networks](https://karpathy.github.io/2015/05/21/rnn-effectiveness/)\n",
        " - [Understanding LSTM Networks](https://colah.github.io/posts/2015-08-Understanding-LSTMs/)\n",
        " - [How to implement RNN in Python](https://peterroelants.github.io/posts/rnn_implementation_part01/)\n",
        " - [LSTM Networks for Sentiment Analysis](http://deeplearning.net/tutorial/lstm.html)\n",
        " - [cs231n — Recurrent Neural Networks](http://cs231n.stanford.edu/slides/2016/winter1516_lecture10.pdf)"
      ]
    },
    {
      "cell_type": "code",
      "metadata": {
        "id": "zEcCG4g2hcQF",
        "colab_type": "code",
        "colab": {}
      },
      "source": [
        ""
      ],
      "execution_count": 0,
      "outputs": []
    }
  ]
}