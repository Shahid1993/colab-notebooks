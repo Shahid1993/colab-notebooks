{
  "nbformat": 4,
  "nbformat_minor": 0,
  "metadata": {
    "colab": {
      "name": "Image_Resize.ipynb",
      "version": "0.3.2",
      "provenance": [],
      "include_colab_link": true
    },
    "kernelspec": {
      "name": "python3",
      "display_name": "Python 3"
    },
    "accelerator": "GPU"
  },
  "cells": [
    {
      "cell_type": "markdown",
      "metadata": {
        "id": "view-in-github",
        "colab_type": "text"
      },
      "source": [
        "<a href=\"https://colab.research.google.com/github/Shahid1993/colab-notebooks/blob/master/Image_Resize.ipynb\" target=\"_parent\"><img src=\"https://colab.research.google.com/assets/colab-badge.svg\" alt=\"Open In Colab\"/></a>"
      ]
    },
    {
      "cell_type": "code",
      "metadata": {
        "id": "vnBBOhyInAcD",
        "colab_type": "code",
        "colab": {}
      },
      "source": [
        "from PIL import Image"
      ],
      "execution_count": 0,
      "outputs": []
    },
    {
      "cell_type": "code",
      "metadata": {
        "id": "2g0PEojmnhzE",
        "colab_type": "code",
        "colab": {}
      },
      "source": [
        "img = Image.open('./sample_data/11_2.jpg')"
      ],
      "execution_count": 0,
      "outputs": []
    },
    {
      "cell_type": "code",
      "metadata": {
        "id": "qbY7Qh_KnrC2",
        "colab_type": "code",
        "colab": {
          "base_uri": "https://localhost:8080/",
          "height": 35
        },
        "outputId": "a3a1f522-cb7a-45ec-9810-5693226fda8c"
      },
      "source": [
        "img.size"
      ],
      "execution_count": 4,
      "outputs": [
        {
          "output_type": "execute_result",
          "data": {
            "text/plain": [
              "(5100, 6600)"
            ]
          },
          "metadata": {
            "tags": []
          },
          "execution_count": 4
        }
      ]
    },
    {
      "cell_type": "code",
      "metadata": {
        "id": "HTPdoSp2oRQz",
        "colab_type": "code",
        "colab": {
          "base_uri": "https://localhost:8080/",
          "height": 35
        },
        "outputId": "67cfa4fb-0b87-4e85-9453-8eecf92a8656"
      },
      "source": [
        "img.info"
      ],
      "execution_count": 7,
      "outputs": [
        {
          "output_type": "execute_result",
          "data": {
            "text/plain": [
              "{'jfif': 258, 'jfif_density': (1, 1), 'jfif_unit': 0, 'jfif_version': (1, 2)}"
            ]
          },
          "metadata": {
            "tags": []
          },
          "execution_count": 7
        }
      ]
    },
    {
      "cell_type": "code",
      "metadata": {
        "id": "6S_xGkG_ov8U",
        "colab_type": "code",
        "colab": {}
      },
      "source": [
        "img.save('./sample_data/11_2_1.jpg',dpi=[72,72])"
      ],
      "execution_count": 0,
      "outputs": []
    },
    {
      "cell_type": "code",
      "metadata": {
        "id": "38ut5XN0pFK1",
        "colab_type": "code",
        "colab": {}
      },
      "source": [
        "img = Image.open('./sample_data/11_2_1.jpg')"
      ],
      "execution_count": 0,
      "outputs": []
    },
    {
      "cell_type": "code",
      "metadata": {
        "id": "2ayBt6jCpFbB",
        "colab_type": "code",
        "colab": {
          "base_uri": "https://localhost:8080/",
          "height": 107
        },
        "outputId": "9ec456b3-23b3-4fb0-fdf0-328eb41bb5fd"
      },
      "source": [
        "img.info"
      ],
      "execution_count": 13,
      "outputs": [
        {
          "output_type": "execute_result",
          "data": {
            "text/plain": [
              "{'dpi': (72, 72),\n",
              " 'jfif': 257,\n",
              " 'jfif_density': (72, 72),\n",
              " 'jfif_unit': 1,\n",
              " 'jfif_version': (1, 1)}"
            ]
          },
          "metadata": {
            "tags": []
          },
          "execution_count": 13
        }
      ]
    },
    {
      "cell_type": "markdown",
      "metadata": {
        "id": "XOY7dr9JZA5M",
        "colab_type": "text"
      },
      "source": [
        "# Final Solution for resizing an Image while retaining maximum quality"
      ]
    },
    {
      "cell_type": "code",
      "metadata": {
        "id": "i--7PcxHnsp2",
        "colab_type": "code",
        "colab": {}
      },
      "source": [
        "img = Image.open('./sample_data/11_2.jpg')\n",
        "img = img.resize((612,792),Image.ANTIALIAS)\n",
        "img.save(\"./sample_data/11_2_2.jpg\",optimize=True,quality=95)"
      ],
      "execution_count": 0,
      "outputs": []
    },
    {
      "cell_type": "code",
      "metadata": {
        "id": "eousCXYYp-Zn",
        "colab_type": "code",
        "colab": {
          "base_uri": "https://localhost:8080/",
          "height": 35
        },
        "outputId": "84ca9efc-e446-48cb-ba7e-13a347a033e4"
      },
      "source": [
        "img = Image.open('./sample_data/11_2_2.jpg')\n",
        "img.size"
      ],
      "execution_count": 16,
      "outputs": [
        {
          "output_type": "execute_result",
          "data": {
            "text/plain": [
              "(612, 792)"
            ]
          },
          "metadata": {
            "tags": []
          },
          "execution_count": 16
        }
      ]
    },
    {
      "cell_type": "code",
      "metadata": {
        "id": "8hV4xc_SqFa0",
        "colab_type": "code",
        "colab": {
          "base_uri": "https://localhost:8080/",
          "height": 35
        },
        "outputId": "cebf1139-534e-46c5-a77f-48d8056a7157"
      },
      "source": [
        "img.info"
      ],
      "execution_count": 17,
      "outputs": [
        {
          "output_type": "execute_result",
          "data": {
            "text/plain": [
              "{'jfif': 257, 'jfif_density': (1, 1), 'jfif_unit': 0, 'jfif_version': (1, 1)}"
            ]
          },
          "metadata": {
            "tags": []
          },
          "execution_count": 17
        }
      ]
    },
    {
      "cell_type": "code",
      "metadata": {
        "id": "CHlCcm05qIxs",
        "colab_type": "code",
        "colab": {}
      },
      "source": [
        ""
      ],
      "execution_count": 0,
      "outputs": []
    }
  ]
}