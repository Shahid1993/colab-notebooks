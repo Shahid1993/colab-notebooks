{
  "nbformat": 4,
  "nbformat_minor": 0,
  "metadata": {
    "colab": {
      "name": "conditional_gen.ipynb",
      "version": "0.3.2",
      "provenance": [],
      "include_colab_link": true
    },
    "kernelspec": {
      "name": "python3",
      "display_name": "Python 3"
    },
    "accelerator": "GPU"
  },
  "cells": [
    {
      "cell_type": "markdown",
      "metadata": {
        "id": "view-in-github",
        "colab_type": "text"
      },
      "source": [
        "<a href=\"https://colab.research.google.com/github/Shahid1993/colab-notebooks/blob/master/conditional_gen.ipynb\" target=\"_parent\"><img src=\"https://colab.research.google.com/assets/colab-badge.svg\" alt=\"Open In Colab\"/></a>"
      ]
    },
    {
      "cell_type": "markdown",
      "metadata": {
        "id": "1rqIkznPzTz0",
        "colab_type": "text"
      },
      "source": [
        "## Preprocessing Enron Email Data"
      ]
    },
    {
      "cell_type": "code",
      "metadata": {
        "id": "Q3eWjasEzZRL",
        "colab_type": "code",
        "colab": {}
      },
      "source": [
        "import pandas as pd"
      ],
      "execution_count": 0,
      "outputs": []
    },
    {
      "cell_type": "code",
      "metadata": {
        "id": "iNsSBHu-zlsp",
        "colab_type": "code",
        "colab": {
          "base_uri": "https://localhost:8080/",
          "height": 35
        },
        "outputId": "1fc78dbf-e528-4832-be36-b914b55eb9da"
      },
      "source": [
        "data = pd.read_csv(\"./sample_data/emails_10000.csv\", engine='python', encoding='utf-8', error_bad_lines=False)\n",
        "pd.set_option('display.max_colwidth',-1)\n",
        "new = data[\"message\"].str.split(\"\\n\", n = 15, expand = True) "
      ],
      "execution_count": 8,
      "outputs": [
        {
          "output_type": "stream",
          "text": [
            "Skipping line 259: unexpected end of data\n"
          ],
          "name": "stderr"
        }
      ]
    },
    {
      "cell_type": "code",
      "metadata": {
        "id": "JnugzK2gzm4F",
        "colab_type": "code",
        "colab": {
          "base_uri": "https://localhost:8080/",
          "height": 1000
        },
        "outputId": "b5edff82-81b3-4b44-ada3-9e35161db65c"
      },
      "source": [
        "new.head(2)"
      ],
      "execution_count": 9,
      "outputs": [
        {
          "output_type": "execute_result",
          "data": {
            "text/html": [
              "<div>\n",
              "<style scoped>\n",
              "    .dataframe tbody tr th:only-of-type {\n",
              "        vertical-align: middle;\n",
              "    }\n",
              "\n",
              "    .dataframe tbody tr th {\n",
              "        vertical-align: top;\n",
              "    }\n",
              "\n",
              "    .dataframe thead th {\n",
              "        text-align: right;\n",
              "    }\n",
              "</style>\n",
              "<table border=\"1\" class=\"dataframe\">\n",
              "  <thead>\n",
              "    <tr style=\"text-align: right;\">\n",
              "      <th></th>\n",
              "      <th>0</th>\n",
              "      <th>1</th>\n",
              "      <th>2</th>\n",
              "      <th>3</th>\n",
              "      <th>4</th>\n",
              "      <th>5</th>\n",
              "      <th>6</th>\n",
              "      <th>7</th>\n",
              "      <th>8</th>\n",
              "      <th>9</th>\n",
              "      <th>10</th>\n",
              "      <th>11</th>\n",
              "      <th>12</th>\n",
              "      <th>13</th>\n",
              "      <th>14</th>\n",
              "      <th>15</th>\n",
              "    </tr>\n",
              "  </thead>\n",
              "  <tbody>\n",
              "    <tr>\n",
              "      <th>0</th>\n",
              "      <td>Message-ID: &lt;18782981.1075855378110.JavaMail.evans@thyme&gt;</td>\n",
              "      <td>Date: Mon, 14 May 2001 16:39:00 -0700 (PDT)</td>\n",
              "      <td>From: phillip.allen@enron.com</td>\n",
              "      <td>To: tim.belden@enron.com</td>\n",
              "      <td>Subject:</td>\n",
              "      <td>Mime-Version: 1.0</td>\n",
              "      <td>Content-Type: text/plain; charset=us-ascii</td>\n",
              "      <td>Content-Transfer-Encoding: 7bit</td>\n",
              "      <td>X-From: Phillip K Allen</td>\n",
              "      <td>X-To: Tim Belden &lt;Tim Belden/Enron@EnronXGate&gt;</td>\n",
              "      <td>X-cc:</td>\n",
              "      <td>X-bcc:</td>\n",
              "      <td>X-Folder: \\Phillip_Allen_Jan2002_1\\Allen, Phillip K.\\'Sent Mail</td>\n",
              "      <td>X-Origin: Allen-P</td>\n",
              "      <td>X-FileName: pallen (Non-Privileged).pst</td>\n",
              "      <td>\\nHere is our forecast\\n\\n</td>\n",
              "    </tr>\n",
              "    <tr>\n",
              "      <th>1</th>\n",
              "      <td>Message-ID: &lt;15464986.1075855378456.JavaMail.evans@thyme&gt;</td>\n",
              "      <td>Date: Fri, 4 May 2001 13:51:00 -0700 (PDT)</td>\n",
              "      <td>From: phillip.allen@enron.com</td>\n",
              "      <td>To: john.lavorato@enron.com</td>\n",
              "      <td>Subject: Re:</td>\n",
              "      <td>Mime-Version: 1.0</td>\n",
              "      <td>Content-Type: text/plain; charset=us-ascii</td>\n",
              "      <td>Content-Transfer-Encoding: 7bit</td>\n",
              "      <td>X-From: Phillip K Allen</td>\n",
              "      <td>X-To: John J Lavorato &lt;John J Lavorato/ENRON@enronXgate@ENRON&gt;</td>\n",
              "      <td>X-cc:</td>\n",
              "      <td>X-bcc:</td>\n",
              "      <td>X-Folder: \\Phillip_Allen_Jan2002_1\\Allen, Phillip K.\\'Sent Mail</td>\n",
              "      <td>X-Origin: Allen-P</td>\n",
              "      <td>X-FileName: pallen (Non-Privileged).pst</td>\n",
              "      <td>\\nTraveling to have a business meeting takes the fun out of the trip.  Especially if you have to prepare a presentation.  I would suggest holding the business plan meetings here then take a trip without any formal business meetings.  I would even try and get some honest opinions on whether a trip is even desired or necessary.\\n\\nAs far as the business meetings, I think it would be more productive to try and stimulate discussions across the different groups about what is working and what is not.  Too often the presenter speaks and the others are quiet just waiting for their turn.   The meetings might be better if held in a round table discussion format.  \\n\\nMy suggestion for where to go is Austin.  Play golf and rent a ski boat and jet ski's.  Flying somewhere takes too much time.\\n</td>\n",
              "    </tr>\n",
              "  </tbody>\n",
              "</table>\n",
              "</div>"
            ],
            "text/plain": [
              "                                                           0  ...                                                                                                                                                                                                                                                                                                                                                                                                                                                                                                                                                                                                                                                                                                                                                                                                                         15\n",
              "0  Message-ID: <18782981.1075855378110.JavaMail.evans@thyme>  ...  \\nHere is our forecast\\n\\n                                                                                                                                                                                                                                                                                                                                                                                                                                                                                                                                                                                                                                                                                                                                                                                               \n",
              "1  Message-ID: <15464986.1075855378456.JavaMail.evans@thyme>  ...  \\nTraveling to have a business meeting takes the fun out of the trip.  Especially if you have to prepare a presentation.  I would suggest holding the business plan meetings here then take a trip without any formal business meetings.  I would even try and get some honest opinions on whether a trip is even desired or necessary.\\n\\nAs far as the business meetings, I think it would be more productive to try and stimulate discussions across the different groups about what is working and what is not.  Too often the presenter speaks and the others are quiet just waiting for their turn.   The meetings might be better if held in a round table discussion format.  \\n\\nMy suggestion for where to go is Austin.  Play golf and rent a ski boat and jet ski's.  Flying somewhere takes too much time.\\n\n",
              "\n",
              "[2 rows x 16 columns]"
            ]
          },
          "metadata": {
            "tags": []
          },
          "execution_count": 9
        }
      ]
    },
    {
      "cell_type": "code",
      "metadata": {
        "id": "sEC0CgIL6Acj",
        "colab_type": "code",
        "colab": {
          "base_uri": "https://localhost:8080/",
          "height": 366
        },
        "outputId": "4a9b2875-51dd-42ae-a987-c5b8e539e0a9"
      },
      "source": [
        "data.head(2)"
      ],
      "execution_count": 10,
      "outputs": [
        {
          "output_type": "execute_result",
          "data": {
            "text/html": [
              "<div>\n",
              "<style scoped>\n",
              "    .dataframe tbody tr th:only-of-type {\n",
              "        vertical-align: middle;\n",
              "    }\n",
              "\n",
              "    .dataframe tbody tr th {\n",
              "        vertical-align: top;\n",
              "    }\n",
              "\n",
              "    .dataframe thead th {\n",
              "        text-align: right;\n",
              "    }\n",
              "</style>\n",
              "<table border=\"1\" class=\"dataframe\">\n",
              "  <thead>\n",
              "    <tr style=\"text-align: right;\">\n",
              "      <th></th>\n",
              "      <th>file</th>\n",
              "      <th>message</th>\n",
              "    </tr>\n",
              "  </thead>\n",
              "  <tbody>\n",
              "    <tr>\n",
              "      <th>0</th>\n",
              "      <td>allen-p/_sent_mail/1.</td>\n",
              "      <td>Message-ID: &lt;18782981.1075855378110.JavaMail.evans@thyme&gt;\\nDate: Mon, 14 May 2001 16:39:00 -0700 (PDT)\\nFrom: phillip.allen@enron.com\\nTo: tim.belden@enron.com\\nSubject: \\nMime-Version: 1.0\\nContent-Type: text/plain; charset=us-ascii\\nContent-Transfer-Encoding: 7bit\\nX-From: Phillip K Allen\\nX-To: Tim Belden &lt;Tim Belden/Enron@EnronXGate&gt;\\nX-cc: \\nX-bcc: \\nX-Folder: \\Phillip_Allen_Jan2002_1\\Allen, Phillip K.\\'Sent Mail\\nX-Origin: Allen-P\\nX-FileName: pallen (Non-Privileged).pst\\n\\nHere is our forecast\\n\\n</td>\n",
              "    </tr>\n",
              "    <tr>\n",
              "      <th>1</th>\n",
              "      <td>allen-p/_sent_mail/10.</td>\n",
              "      <td>Message-ID: &lt;15464986.1075855378456.JavaMail.evans@thyme&gt;\\nDate: Fri, 4 May 2001 13:51:00 -0700 (PDT)\\nFrom: phillip.allen@enron.com\\nTo: john.lavorato@enron.com\\nSubject: Re:\\nMime-Version: 1.0\\nContent-Type: text/plain; charset=us-ascii\\nContent-Transfer-Encoding: 7bit\\nX-From: Phillip K Allen\\nX-To: John J Lavorato &lt;John J Lavorato/ENRON@enronXgate@ENRON&gt;\\nX-cc: \\nX-bcc: \\nX-Folder: \\Phillip_Allen_Jan2002_1\\Allen, Phillip K.\\'Sent Mail\\nX-Origin: Allen-P\\nX-FileName: pallen (Non-Privileged).pst\\n\\nTraveling to have a business meeting takes the fun out of the trip.  Especially if you have to prepare a presentation.  I would suggest holding the business plan meetings here then take a trip without any formal business meetings.  I would even try and get some honest opinions on whether a trip is even desired or necessary.\\n\\nAs far as the business meetings, I think it would be more productive to try and stimulate discussions across the different groups about what is working and what is not.  Too often the presenter speaks and the others are quiet just waiting for their turn.   The meetings might be better if held in a round table discussion format.  \\n\\nMy suggestion for where to go is Austin.  Play golf and rent a ski boat and jet ski's.  Flying somewhere takes too much time.\\n</td>\n",
              "    </tr>\n",
              "  </tbody>\n",
              "</table>\n",
              "</div>"
            ],
            "text/plain": [
              "                     file                                                                                                                                                                                                                                                                                                                                                                                                                                                                                                                                                                                                                                                                                                                                                                                                                                                                                                                                                                                                                                                                                                                                                                                                                                                                                                                                            message\n",
              "0  allen-p/_sent_mail/1.   Message-ID: <18782981.1075855378110.JavaMail.evans@thyme>\\nDate: Mon, 14 May 2001 16:39:00 -0700 (PDT)\\nFrom: phillip.allen@enron.com\\nTo: tim.belden@enron.com\\nSubject: \\nMime-Version: 1.0\\nContent-Type: text/plain; charset=us-ascii\\nContent-Transfer-Encoding: 7bit\\nX-From: Phillip K Allen\\nX-To: Tim Belden <Tim Belden/Enron@EnronXGate>\\nX-cc: \\nX-bcc: \\nX-Folder: \\Phillip_Allen_Jan2002_1\\Allen, Phillip K.\\'Sent Mail\\nX-Origin: Allen-P\\nX-FileName: pallen (Non-Privileged).pst\\n\\nHere is our forecast\\n\\n                                                                                                                                                                                                                                                                                                                                                                                                                                                                                                                                                                                                                                                                                                                                                                                                                    \n",
              "1  allen-p/_sent_mail/10.  Message-ID: <15464986.1075855378456.JavaMail.evans@thyme>\\nDate: Fri, 4 May 2001 13:51:00 -0700 (PDT)\\nFrom: phillip.allen@enron.com\\nTo: john.lavorato@enron.com\\nSubject: Re:\\nMime-Version: 1.0\\nContent-Type: text/plain; charset=us-ascii\\nContent-Transfer-Encoding: 7bit\\nX-From: Phillip K Allen\\nX-To: John J Lavorato <John J Lavorato/ENRON@enronXgate@ENRON>\\nX-cc: \\nX-bcc: \\nX-Folder: \\Phillip_Allen_Jan2002_1\\Allen, Phillip K.\\'Sent Mail\\nX-Origin: Allen-P\\nX-FileName: pallen (Non-Privileged).pst\\n\\nTraveling to have a business meeting takes the fun out of the trip.  Especially if you have to prepare a presentation.  I would suggest holding the business plan meetings here then take a trip without any formal business meetings.  I would even try and get some honest opinions on whether a trip is even desired or necessary.\\n\\nAs far as the business meetings, I think it would be more productive to try and stimulate discussions across the different groups about what is working and what is not.  Too often the presenter speaks and the others are quiet just waiting for their turn.   The meetings might be better if held in a round table discussion format.  \\n\\nMy suggestion for where to go is Austin.  Play golf and rent a ski boat and jet ski's.  Flying somewhere takes too much time.\\n"
            ]
          },
          "metadata": {
            "tags": []
          },
          "execution_count": 10
        }
      ]
    },
    {
      "cell_type": "code",
      "metadata": {
        "id": "RYNW0xkU6Ie2",
        "colab_type": "code",
        "colab": {}
      },
      "source": [
        "data[\"from\"] = new[2]\n",
        "data[\"fromn\"] = new[8]\n",
        "data[\"to\"] = new[3]\n",
        "data[\"ton\"] = new[9]\n",
        "data[\"subject\"] = new[4]\n",
        "data[\"msg\"] = new[15]\n",
        "data.drop(columns =[\"message\"], inplace = True) \n",
        "data.drop(columns =[\"file\"], inplace = True) "
      ],
      "execution_count": 0,
      "outputs": []
    },
    {
      "cell_type": "code",
      "metadata": {
        "id": "Wd5yfsGn6Nyv",
        "colab_type": "code",
        "colab": {
          "base_uri": "https://localhost:8080/",
          "height": 944
        },
        "outputId": "c07e0ddd-117e-4db3-e378-3f25973c4560"
      },
      "source": [
        "data.head(2)"
      ],
      "execution_count": 12,
      "outputs": [
        {
          "output_type": "execute_result",
          "data": {
            "text/html": [
              "<div>\n",
              "<style scoped>\n",
              "    .dataframe tbody tr th:only-of-type {\n",
              "        vertical-align: middle;\n",
              "    }\n",
              "\n",
              "    .dataframe tbody tr th {\n",
              "        vertical-align: top;\n",
              "    }\n",
              "\n",
              "    .dataframe thead th {\n",
              "        text-align: right;\n",
              "    }\n",
              "</style>\n",
              "<table border=\"1\" class=\"dataframe\">\n",
              "  <thead>\n",
              "    <tr style=\"text-align: right;\">\n",
              "      <th></th>\n",
              "      <th>from</th>\n",
              "      <th>fromn</th>\n",
              "      <th>to</th>\n",
              "      <th>ton</th>\n",
              "      <th>subject</th>\n",
              "      <th>msg</th>\n",
              "    </tr>\n",
              "  </thead>\n",
              "  <tbody>\n",
              "    <tr>\n",
              "      <th>0</th>\n",
              "      <td>From: phillip.allen@enron.com</td>\n",
              "      <td>X-From: Phillip K Allen</td>\n",
              "      <td>To: tim.belden@enron.com</td>\n",
              "      <td>X-To: Tim Belden &lt;Tim Belden/Enron@EnronXGate&gt;</td>\n",
              "      <td>Subject:</td>\n",
              "      <td>\\nHere is our forecast\\n\\n</td>\n",
              "    </tr>\n",
              "    <tr>\n",
              "      <th>1</th>\n",
              "      <td>From: phillip.allen@enron.com</td>\n",
              "      <td>X-From: Phillip K Allen</td>\n",
              "      <td>To: john.lavorato@enron.com</td>\n",
              "      <td>X-To: John J Lavorato &lt;John J Lavorato/ENRON@enronXgate@ENRON&gt;</td>\n",
              "      <td>Subject: Re:</td>\n",
              "      <td>\\nTraveling to have a business meeting takes the fun out of the trip.  Especially if you have to prepare a presentation.  I would suggest holding the business plan meetings here then take a trip without any formal business meetings.  I would even try and get some honest opinions on whether a trip is even desired or necessary.\\n\\nAs far as the business meetings, I think it would be more productive to try and stimulate discussions across the different groups about what is working and what is not.  Too often the presenter speaks and the others are quiet just waiting for their turn.   The meetings might be better if held in a round table discussion format.  \\n\\nMy suggestion for where to go is Austin.  Play golf and rent a ski boat and jet ski's.  Flying somewhere takes too much time.\\n</td>\n",
              "    </tr>\n",
              "  </tbody>\n",
              "</table>\n",
              "</div>"
            ],
            "text/plain": [
              "                            from  ...                                                                                                                                                                                                                                                                                                                                                                                                                                                                                                                                                                                                                                                                                                                                                                                                                        msg\n",
              "0  From: phillip.allen@enron.com  ...  \\nHere is our forecast\\n\\n                                                                                                                                                                                                                                                                                                                                                                                                                                                                                                                                                                                                                                                                                                                                                                                               \n",
              "1  From: phillip.allen@enron.com  ...  \\nTraveling to have a business meeting takes the fun out of the trip.  Especially if you have to prepare a presentation.  I would suggest holding the business plan meetings here then take a trip without any formal business meetings.  I would even try and get some honest opinions on whether a trip is even desired or necessary.\\n\\nAs far as the business meetings, I think it would be more productive to try and stimulate discussions across the different groups about what is working and what is not.  Too often the presenter speaks and the others are quiet just waiting for their turn.   The meetings might be better if held in a round table discussion format.  \\n\\nMy suggestion for where to go is Austin.  Play golf and rent a ski boat and jet ski's.  Flying somewhere takes too much time.\\n\n",
              "\n",
              "[2 rows x 6 columns]"
            ]
          },
          "metadata": {
            "tags": []
          },
          "execution_count": 12
        }
      ]
    },
    {
      "cell_type": "code",
      "metadata": {
        "id": "RbmQc_Ox6Pg5",
        "colab_type": "code",
        "colab": {}
      },
      "source": [
        "data['from'] = data[\"from\"].apply(lambda val: val.replace(\"From:\",''))\n",
        "data['fromn'] = data[\"fromn\"].apply(lambda val: val.replace(\"X-From:\",''))\n",
        "data['to'] = data[\"to\"].apply(lambda val: val.replace(\"To:\",''))\n",
        "data['ton'] = data[\"ton\"].apply(lambda val: val.replace(\"X-To:\",''))\n",
        "data['subject'] = data[\"subject\"].apply(lambda val: val.replace(\"Subject:\",''))\n",
        "data['msg'] = data[\"msg\"].apply(lambda val: val.replace(\"\\n\",' '))"
      ],
      "execution_count": 0,
      "outputs": []
    },
    {
      "cell_type": "code",
      "metadata": {
        "id": "TIqBN7PL6U0v",
        "colab_type": "code",
        "colab": {
          "base_uri": "https://localhost:8080/",
          "height": 910
        },
        "outputId": "e19ffea2-567f-4842-c239-10854af4a56b"
      },
      "source": [
        "data.head(2)"
      ],
      "execution_count": 14,
      "outputs": [
        {
          "output_type": "execute_result",
          "data": {
            "text/html": [
              "<div>\n",
              "<style scoped>\n",
              "    .dataframe tbody tr th:only-of-type {\n",
              "        vertical-align: middle;\n",
              "    }\n",
              "\n",
              "    .dataframe tbody tr th {\n",
              "        vertical-align: top;\n",
              "    }\n",
              "\n",
              "    .dataframe thead th {\n",
              "        text-align: right;\n",
              "    }\n",
              "</style>\n",
              "<table border=\"1\" class=\"dataframe\">\n",
              "  <thead>\n",
              "    <tr style=\"text-align: right;\">\n",
              "      <th></th>\n",
              "      <th>from</th>\n",
              "      <th>fromn</th>\n",
              "      <th>to</th>\n",
              "      <th>ton</th>\n",
              "      <th>subject</th>\n",
              "      <th>msg</th>\n",
              "    </tr>\n",
              "  </thead>\n",
              "  <tbody>\n",
              "    <tr>\n",
              "      <th>0</th>\n",
              "      <td>phillip.allen@enron.com</td>\n",
              "      <td>Phillip K Allen</td>\n",
              "      <td>tim.belden@enron.com</td>\n",
              "      <td>Tim Belden &lt;Tim Belden/Enron@EnronXGate&gt;</td>\n",
              "      <td></td>\n",
              "      <td>Here is our forecast</td>\n",
              "    </tr>\n",
              "    <tr>\n",
              "      <th>1</th>\n",
              "      <td>phillip.allen@enron.com</td>\n",
              "      <td>Phillip K Allen</td>\n",
              "      <td>john.lavorato@enron.com</td>\n",
              "      <td>John J Lavorato &lt;John J Lavorato/ENRON@enronXgate@ENRON&gt;</td>\n",
              "      <td>Re:</td>\n",
              "      <td>Traveling to have a business meeting takes the fun out of the trip.  Especially if you have to prepare a presentation.  I would suggest holding the business plan meetings here then take a trip without any formal business meetings.  I would even try and get some honest opinions on whether a trip is even desired or necessary.  As far as the business meetings, I think it would be more productive to try and stimulate discussions across the different groups about what is working and what is not.  Too often the presenter speaks and the others are quiet just waiting for their turn.   The meetings might be better if held in a round table discussion format.    My suggestion for where to go is Austin.  Play golf and rent a ski boat and jet ski's.  Flying somewhere takes too much time.</td>\n",
              "    </tr>\n",
              "  </tbody>\n",
              "</table>\n",
              "</div>"
            ],
            "text/plain": [
              "                       from  ...                                                                                                                                                                                                                                                                                                                                                                                                                                                                                                                                                                                                                                                                                                                                                                                                                  msg\n",
              "0   phillip.allen@enron.com  ...   Here is our forecast                                                                                                                                                                                                                                                                                                                                                                                                                                                                                                                                                                                                                                                                                                                                                                                              \n",
              "1   phillip.allen@enron.com  ...   Traveling to have a business meeting takes the fun out of the trip.  Especially if you have to prepare a presentation.  I would suggest holding the business plan meetings here then take a trip without any formal business meetings.  I would even try and get some honest opinions on whether a trip is even desired or necessary.  As far as the business meetings, I think it would be more productive to try and stimulate discussions across the different groups about what is working and what is not.  Too often the presenter speaks and the others are quiet just waiting for their turn.   The meetings might be better if held in a round table discussion format.    My suggestion for where to go is Austin.  Play golf and rent a ski boat and jet ski's.  Flying somewhere takes too much time. \n",
              "\n",
              "[2 rows x 6 columns]"
            ]
          },
          "metadata": {
            "tags": []
          },
          "execution_count": 14
        }
      ]
    },
    {
      "cell_type": "code",
      "metadata": {
        "id": "ZKZVxfIo6XEl",
        "colab_type": "code",
        "colab": {
          "base_uri": "https://localhost:8080/",
          "height": 323
        },
        "outputId": "2983fc35-1946-4067-ef4a-d21084cab268"
      },
      "source": [
        "# Lets look only at emails with 100 words or less and that are Non-replies\n",
        "data[(data['msg'].str.len() <100) & ~(data['subject'].str.contains('Re:'))].sample(5)"
      ],
      "execution_count": 15,
      "outputs": [
        {
          "output_type": "execute_result",
          "data": {
            "text/html": [
              "<div>\n",
              "<style scoped>\n",
              "    .dataframe tbody tr th:only-of-type {\n",
              "        vertical-align: middle;\n",
              "    }\n",
              "\n",
              "    .dataframe tbody tr th {\n",
              "        vertical-align: top;\n",
              "    }\n",
              "\n",
              "    .dataframe thead th {\n",
              "        text-align: right;\n",
              "    }\n",
              "</style>\n",
              "<table border=\"1\" class=\"dataframe\">\n",
              "  <thead>\n",
              "    <tr style=\"text-align: right;\">\n",
              "      <th></th>\n",
              "      <th>from</th>\n",
              "      <th>fromn</th>\n",
              "      <th>to</th>\n",
              "      <th>ton</th>\n",
              "      <th>subject</th>\n",
              "      <th>msg</th>\n",
              "    </tr>\n",
              "  </thead>\n",
              "  <tbody>\n",
              "    <tr>\n",
              "      <th>119</th>\n",
              "      <td>phillip.allen@enron.com</td>\n",
              "      <td>Phillip K Allen</td>\n",
              "      <td>hunter.shively@enron.com</td>\n",
              "      <td>Hunter S Shively</td>\n",
              "      <td></td>\n",
              "      <td>Hunter,  Are you watching Alberto?  Do you have Yahoo Messenger or Hear Me turned on?  Phillip</td>\n",
              "    </tr>\n",
              "    <tr>\n",
              "      <th>218</th>\n",
              "      <td>phillip.allen@enron.com</td>\n",
              "      <td>Phillip K Allen</td>\n",
              "      <td>fletcher.sturm@enron.com</td>\n",
              "      <td>Fletcher J Sturm</td>\n",
              "      <td></td>\n",
              "      <td>socal position     This is short, but is it good enough?</td>\n",
              "    </tr>\n",
              "    <tr>\n",
              "      <th>49</th>\n",
              "      <td>phillip.allen@enron.com</td>\n",
              "      <td>Phillip K Allen</td>\n",
              "      <td>moshuffle@hotmail.com</td>\n",
              "      <td>moshuffle@hotmail.com</td>\n",
              "      <td></td>\n",
              "      <td>http://www.hearme.com/vc2/?chnlOwnr=pallen@enron.com</td>\n",
              "    </tr>\n",
              "    <tr>\n",
              "      <th>62</th>\n",
              "      <td>phillip.allen@enron.com</td>\n",
              "      <td>Phillip K Allen</td>\n",
              "      <td>ina.rangel@enron.com</td>\n",
              "      <td>Ina Rangel</td>\n",
              "      <td></td>\n",
              "      <td>Ina,   I scheduled a meeting with Jean Mrha tomorrow at 3:30</td>\n",
              "    </tr>\n",
              "    <tr>\n",
              "      <th>143</th>\n",
              "      <td>phillip.allen@enron.com</td>\n",
              "      <td>Phillip K Allen</td>\n",
              "      <td>brendas@surffree.com</td>\n",
              "      <td>brendas@surffree.com</td>\n",
              "      <td>test</td>\n",
              "      <td>testing</td>\n",
              "    </tr>\n",
              "  </tbody>\n",
              "</table>\n",
              "</div>"
            ],
            "text/plain": [
              "                         from  ...                                                                                              msg\n",
              "119   phillip.allen@enron.com  ...   Hunter,  Are you watching Alberto?  Do you have Yahoo Messenger or Hear Me turned on?  Phillip\n",
              "218   phillip.allen@enron.com  ...   socal position     This is short, but is it good enough?                                      \n",
              "49    phillip.allen@enron.com  ...   http://www.hearme.com/vc2/?chnlOwnr=pallen@enron.com                                          \n",
              "62    phillip.allen@enron.com  ...   Ina,   I scheduled a meeting with Jean Mrha tomorrow at 3:30                                  \n",
              "143   phillip.allen@enron.com  ...   testing                                                                                       \n",
              "\n",
              "[5 rows x 6 columns]"
            ]
          },
          "metadata": {
            "tags": []
          },
          "execution_count": 15
        }
      ]
    },
    {
      "cell_type": "code",
      "metadata": {
        "id": "-pic0sVy6b-5",
        "colab_type": "code",
        "colab": {
          "base_uri": "https://localhost:8080/",
          "height": 145
        },
        "outputId": "5211702f-b37b-4492-f796-2b085b37b3b1"
      },
      "source": [
        "data.head()['msg']"
      ],
      "execution_count": 17,
      "outputs": [
        {
          "output_type": "execute_result",
          "data": {
            "text/plain": [
              "0     Here is our forecast                                                                                                                                                                                                                                                                                                                                                                                                                                                                                                                                                                                                                                                                                                                                                                                              \n",
              "1     Traveling to have a business meeting takes the fun out of the trip.  Especially if you have to prepare a presentation.  I would suggest holding the business plan meetings here then take a trip without any formal business meetings.  I would even try and get some honest opinions on whether a trip is even desired or necessary.  As far as the business meetings, I think it would be more productive to try and stimulate discussions across the different groups about what is working and what is not.  Too often the presenter speaks and the others are quiet just waiting for their turn.   The meetings might be better if held in a round table discussion format.    My suggestion for where to go is Austin.  Play golf and rent a ski boat and jet ski's.  Flying somewhere takes too much time. \n",
              "2     test successful.  way to go!!!                                                                                                                                                                                                                                                                                                                                                                                                                                                                                                                                                                                                                                                                                                                                                                                    \n",
              "3     Randy,   Can you send me a schedule of the salary and level of everyone in the  scheduling group.  Plus your thoughts on any changes that need to be made.   (Patti S for example)  Phillip                                                                                                                                                                                                                                                                                                                                                                                                                                                                                                                                                                                                                       \n",
              "4     Let's shoot for Tuesday at 11:45.                                                                                                                                                                                                                                                                                                                                                                                                                                                                                                                                                                                                                                                                                                                                                                                 \n",
              "Name: msg, dtype: object"
            ]
          },
          "metadata": {
            "tags": []
          },
          "execution_count": 17
        }
      ]
    },
    {
      "cell_type": "code",
      "metadata": {
        "id": "UwE8cjrn7JOD",
        "colab_type": "code",
        "colab": {}
      },
      "source": [
        "corpus = [msg for msg in data[(data['msg'].str.len() <200) & ~(data['subject'].str.contains('Re:'))]['msg']]"
      ],
      "execution_count": 0,
      "outputs": []
    },
    {
      "cell_type": "code",
      "metadata": {
        "id": "xWfxURtp7KLp",
        "colab_type": "code",
        "colab": {
          "base_uri": "https://localhost:8080/",
          "height": 739
        },
        "outputId": "831ea0b4-a36a-4d81-b69f-d7c529f2f89a"
      },
      "source": [
        "corpus[0:50]"
      ],
      "execution_count": 19,
      "outputs": [
        {
          "output_type": "execute_result",
          "data": {
            "text/plain": [
              "[' Here is our forecast   ',\n",
              " ' Randy,   Can you send me a schedule of the salary and level of everyone in the  scheduling group.  Plus your thoughts on any changes that need to be made.   (Patti S for example)  Phillip',\n",
              " ' Dave,    Here are the names of the west desk members by category.  The origination  side is very sparse.        Phillip ',\n",
              " ' Tim,  mike grigsby is having problems with accessing the west power site.  Can you please make sure he has an active password.    Thank you,  Phillip',\n",
              " ' Brenda,  Please use the second check as the October payment.  If you have already  tossed it, let me know so I can mail you another.  Phillip',\n",
              " ' Chris,   What is the latest with PG&E?  We have been having good discussions  regarding EOL.  Call me when you can. X37041  Phillip',\n",
              " ' Greg,  Happy B-day. Email me your phone # and I will call you.  Keith',\n",
              " ' Jim,  Is there going to be a conference call or some type of weekly meeting about all the regulatory issues facing California this week?  Can you make sure the gas desk is included.  Phillip',\n",
              " ' Jeff,   What is up with Burnet?  Phillip',\n",
              " ' Lucy,  I want to have an accurate rent roll as soon as possible. I faxed you a copy  of this file.  You can fill in on the computer or just write in the correct  amounts and I will input. ',\n",
              " ' http://www.hearme.com/vc2/?chnlOwnr=pallen@enron.com',\n",
              " ' Ina,   I scheduled a meeting with Jean Mrha tomorrow at 3:30',\n",
              " ' Cooper,    Can you give access to the new west power site to Jay Reitmeyer.  He is an  analyst in our group.  Phillip',\n",
              " ' John Lavorato-M  Mike Grigsby-D Keith Holst-D Frank Ermis-D Steve South-D Janie Tholt-D  Scott Neal-P Hunter Shively-P Tom Martin-P John Arnold-P',\n",
              " ' Mark,   Here is a spreadsheet detailing our September Socal trades. (I did not  distinguish between buys vs. sells.)    Phillip',\n",
              " ' Mark,   Were you able to log in to enron online and find socal today?   I will follow up with a list of our physical deals done yesterday and today.  Phillip',\n",
              " ' Brenda   Can you send me your address in College Station.  Phillip',\n",
              " ' Lucy,  Please open this excel file and input the rents and names due for this week.   Then email the file back. ',\n",
              " ' Cooper,   Did you add some more security to the expost hourly summary?  It keeps  asking me for additional passwords and domain.  What do I need to enter?  Phillip',\n",
              " ' Cash  Hehub  Chicago  PEPL  Katy  Socal  Opal  Permian  Gas Daily   Hehub  Chicago  PEPL  Katy  Socal  NWPL  Permian  Prompt   Nymex  Chicago  PEPL  HSC  Socal  NWPL',\n",
              " ' Hunter,  Are you watching Alberto?  Do you have Yahoo Messenger or Hear Me turned on?  Phillip',\n",
              " ' John,   The only long term deal in the west that you could put prudency against is  the PGT transport until 2023  Phillip',\n",
              " ' Here is the 1st draft of a wish list for systems.  ',\n",
              " ' Celeste,   I need two assoc./analyst for the west gas trading desk.  Can you help?  I also left you a voice mail.  Phillip x37041',\n",
              " ' testing',\n",
              " ' http://ectpdx-sunone.ect.enron.com/~theizen/wsccnav/',\n",
              " ' Check out NP Gen & Load.  (aMW)',\n",
              " ' http://ecthou-webcl1.nt.ect.enron.com/gas/         All the gas reports are under west desk  Call Brian Hoskins for a password      ',\n",
              " ' address:    http://ectpdx-sunone.ect.enron.com/~ctatham/navsetup/index.htm   id:   pallen password:  westgasx',\n",
              " ' Are we going to inspect tomorrow?',\n",
              " ' Mary,  Go ahead and work with Gary to get a new fridge for #8.    I am going to try and come down this Saturday.  Talk to you later.  Phillip',\n",
              " ' http://ectpdx-sunone/~ctatham/navsetup/index.htm  id   pallen pw  westgasx  highly sensitive do not distribute',\n",
              " ' socal position     This is short, but is it good enough? ',\n",
              " ' re: window unit check with gary about what kind he wants to install',\n",
              " ' Go ahead and level the floor in #2.  ',\n",
              " ' Steve,  Please remove Bob Shiring and Liz Rivera from rc #768.    Thank you  Phillip Allen',\n",
              " ' The file is updated and renamed as Gas Basis Mar 00.  ',\n",
              " ' Imelda,  Please switch my sitara access from central to west and email me with my  password.  thank you,  Phillip',\n",
              " ' Mary,   I transferred $10,000 out of the checking account on Monday 2/28/00.  I will  call you Monday or Tuesday to see what is new.  Phillip']"
            ]
          },
          "metadata": {
            "tags": []
          },
          "execution_count": 19
        }
      ]
    },
    {
      "cell_type": "code",
      "metadata": {
        "id": "YCxtqjoZ7OMQ",
        "colab_type": "code",
        "colab": {
          "base_uri": "https://localhost:8080/",
          "height": 35
        },
        "outputId": "b1cf5320-3c28-4c4d-cc39-01fa8bf21403"
      },
      "source": [
        "len(corpus)"
      ],
      "execution_count": 20,
      "outputs": [
        {
          "output_type": "execute_result",
          "data": {
            "text/plain": [
              "39"
            ]
          },
          "metadata": {
            "tags": []
          },
          "execution_count": 20
        }
      ]
    },
    {
      "cell_type": "code",
      "metadata": {
        "id": "N0ZsBrqU7TwL",
        "colab_type": "code",
        "colab": {
          "base_uri": "https://localhost:8080/",
          "height": 35
        },
        "outputId": "3a424fbd-a204-4f55-c153-f05df3ac13eb"
      },
      "source": [
        "# Start by importing all the things we'll need.\n",
        "%matplotlib inline\n",
        "import tensorflow as tf\n",
        "from tensorflow import keras\n",
        "from tensorflow.keras.models import Model\n",
        "from tensorflow.keras.layers import Input, LSTM, Dense, Embedding, CuDNNLSTM, Flatten, TimeDistributed, Dropout, LSTMCell, RNN, Bidirectional, Concatenate, Layer\n",
        "from tensorflow.keras.callbacks import ModelCheckpoint\n",
        "from tensorflow.python.keras.utils import tf_utils\n",
        "from tensorflow.keras import backend as K\n",
        "\n",
        "import unicodedata\n",
        "import re\n",
        "import numpy as np\n",
        "import os\n",
        "import time\n",
        "import shutil\n",
        "\n",
        "import pandas as pd\n",
        "import numpy as np\n",
        "import string, os \n",
        "tf.__version__"
      ],
      "execution_count": 21,
      "outputs": [
        {
          "output_type": "execute_result",
          "data": {
            "text/plain": [
              "'1.14.0'"
            ]
          },
          "metadata": {
            "tags": []
          },
          "execution_count": 21
        }
      ]
    },
    {
      "cell_type": "code",
      "metadata": {
        "id": "p_RkYugZ7cig",
        "colab_type": "code",
        "colab": {}
      },
      "source": [
        "def clean_special_chars(text, punct):\n",
        "    for p in punct:\n",
        "        text = text.replace(p, '')\n",
        "    return text\n",
        "\n",
        "      \n",
        "def preprocess(data):\n",
        "    output = []\n",
        "    punct = '#$%&*+-/<=>@[\\\\]^_`{|}~\\t\\n'\n",
        "    for line in data:\n",
        "         pline= clean_special_chars(line.lower(), punct)\n",
        "         output.append(pline)\n",
        "    return output  \n",
        "\n",
        "\n",
        "def generate_dataset():\n",
        "  \n",
        "    processed_corpus = preprocess(corpus)    \n",
        "    output = []\n",
        "    for line in processed_corpus:\n",
        "        token_list = line\n",
        "        for i in range(1, len(token_list)):\n",
        "            data = []\n",
        "            x_ngram = '<start> '+ token_list[:i+1] + ' <end>'\n",
        "            y_ngram = '<start> '+ token_list[i+1:] + ' <end>'\n",
        "            data.append(x_ngram)\n",
        "            data.append(y_ngram)\n",
        "            output.append(data)\n",
        "    print(\"Dataset prepared with prefix and suffixes for teacher forcing technique\")\n",
        "    dummy_df = pd.DataFrame(output, columns=['input','output'])\n",
        "    return output, dummy_df            "
      ],
      "execution_count": 0,
      "outputs": []
    },
    {
      "cell_type": "code",
      "metadata": {
        "id": "9xrqss6-7kGf",
        "colab_type": "code",
        "colab": {}
      },
      "source": [
        "class LanguageIndex():\n",
        "    def __init__(self, lang):\n",
        "        self.lang = lang\n",
        "        self.word2idx = {}\n",
        "        self.idx2word = {}\n",
        "        self.vocab = set()\n",
        "        self.create_index()\n",
        "    def create_index(self):\n",
        "        for phrase in self.lang:\n",
        "            self.vocab.update(phrase.split(' '))\n",
        "        self.vocab = sorted(self.vocab)\n",
        "        self.word2idx[\"<pad>\"] = 0\n",
        "        self.idx2word[0] = \"<pad>\"\n",
        "        for i,word in enumerate(self.vocab):\n",
        "            self.word2idx[word] = i + 1\n",
        "            self.idx2word[i+1] = word\n",
        "\n",
        "def max_length(t):\n",
        "    return max(len(i) for i in t)\n",
        "\n",
        "def load_dataset():\n",
        "    pairs,df = generate_dataset()\n",
        "    out_lang = LanguageIndex(sp for en, sp in pairs)\n",
        "    in_lang = LanguageIndex(en for en, sp in pairs)\n",
        "    input_data = [[in_lang.word2idx[s] for s in en.split(' ')] for en, sp in pairs]\n",
        "    output_data = [[out_lang.word2idx[s] for s in sp.split(' ')] for en, sp in pairs]\n",
        "\n",
        "    max_length_in, max_length_out = max_length(input_data), max_length(output_data)\n",
        "    input_data = tf.keras.preprocessing.sequence.pad_sequences(input_data, maxlen=max_length_in, padding=\"post\")\n",
        "    output_data = tf.keras.preprocessing.sequence.pad_sequences(output_data, maxlen=max_length_out, padding=\"post\")\n",
        "    return input_data, output_data, in_lang, out_lang, max_length_in, max_length_out, df\n"
      ],
      "execution_count": 0,
      "outputs": []
    },
    {
      "cell_type": "code",
      "metadata": {
        "id": "PBUsKoAB7mIX",
        "colab_type": "code",
        "colab": {
          "base_uri": "https://localhost:8080/",
          "height": 35
        },
        "outputId": "c4b5cb13-406f-429f-86f9-47b74ac62abe"
      },
      "source": [
        "input_data, teacher_data, input_lang, target_lang, len_input, len_target, df = load_dataset()\n",
        "\n",
        "\n",
        "target_data = [[teacher_data[n][i+1] for i in range(len(teacher_data[n])-1)] for n in range(len(teacher_data))]\n",
        "target_data = tf.keras.preprocessing.sequence.pad_sequences(target_data, maxlen=len_target, padding=\"post\")\n",
        "target_data = target_data.reshape((target_data.shape[0], target_data.shape[1], 1))\n",
        "\n",
        "# Shuffle all of the data in unison. This training set has the longest (e.g. most complicated) data at the end,\n",
        "# so a simple Keras validation split will be problematic if not shuffled.\n",
        "\n",
        "p = np.random.permutation(len(input_data))\n",
        "input_data = input_data[p]\n",
        "teacher_data = teacher_data[p]\n",
        "target_data = target_data[p]"
      ],
      "execution_count": 24,
      "outputs": [
        {
          "output_type": "stream",
          "text": [
            "Dataset prepared with prefix and suffixes for teacher forcing technique\n"
          ],
          "name": "stdout"
        }
      ]
    },
    {
      "cell_type": "code",
      "metadata": {
        "id": "Rvl3n_Ry7ozF",
        "colab_type": "code",
        "colab": {
          "base_uri": "https://localhost:8080/",
          "height": 289
        },
        "outputId": "253f379c-09b2-494d-ec60-6098947db4a2"
      },
      "source": [
        "pd.set_option('display.max_colwidth', -1)\n",
        "BUFFER_SIZE = len(input_data)\n",
        "BATCH_SIZE = 128\n",
        "embedding_dim = 300\n",
        "units = 128\n",
        "vocab_in_size = len(input_lang.word2idx)\n",
        "vocab_out_size = len(target_lang.word2idx)\n",
        "df.iloc[60:65]"
      ],
      "execution_count": 25,
      "outputs": [
        {
          "output_type": "execute_result",
          "data": {
            "text/html": [
              "<div>\n",
              "<style scoped>\n",
              "    .dataframe tbody tr th:only-of-type {\n",
              "        vertical-align: middle;\n",
              "    }\n",
              "\n",
              "    .dataframe tbody tr th {\n",
              "        vertical-align: top;\n",
              "    }\n",
              "\n",
              "    .dataframe thead th {\n",
              "        text-align: right;\n",
              "    }\n",
              "</style>\n",
              "<table border=\"1\" class=\"dataframe\">\n",
              "  <thead>\n",
              "    <tr style=\"text-align: right;\">\n",
              "      <th></th>\n",
              "      <th>input</th>\n",
              "      <th>output</th>\n",
              "    </tr>\n",
              "  </thead>\n",
              "  <tbody>\n",
              "    <tr>\n",
              "      <th>60</th>\n",
              "      <td>&lt;start&gt;  randy,   can you send me a schedule of &lt;end&gt;</td>\n",
              "      <td>&lt;start&gt;  the salary and level of everyone in the  scheduling group.  plus your thoughts on any changes that need to be made.   (patti s for example)  phillip &lt;end&gt;</td>\n",
              "    </tr>\n",
              "    <tr>\n",
              "      <th>61</th>\n",
              "      <td>&lt;start&gt;  randy,   can you send me a schedule of  &lt;end&gt;</td>\n",
              "      <td>&lt;start&gt; the salary and level of everyone in the  scheduling group.  plus your thoughts on any changes that need to be made.   (patti s for example)  phillip &lt;end&gt;</td>\n",
              "    </tr>\n",
              "    <tr>\n",
              "      <th>62</th>\n",
              "      <td>&lt;start&gt;  randy,   can you send me a schedule of t &lt;end&gt;</td>\n",
              "      <td>&lt;start&gt; he salary and level of everyone in the  scheduling group.  plus your thoughts on any changes that need to be made.   (patti s for example)  phillip &lt;end&gt;</td>\n",
              "    </tr>\n",
              "    <tr>\n",
              "      <th>63</th>\n",
              "      <td>&lt;start&gt;  randy,   can you send me a schedule of th &lt;end&gt;</td>\n",
              "      <td>&lt;start&gt; e salary and level of everyone in the  scheduling group.  plus your thoughts on any changes that need to be made.   (patti s for example)  phillip &lt;end&gt;</td>\n",
              "    </tr>\n",
              "    <tr>\n",
              "      <th>64</th>\n",
              "      <td>&lt;start&gt;  randy,   can you send me a schedule of the &lt;end&gt;</td>\n",
              "      <td>&lt;start&gt;  salary and level of everyone in the  scheduling group.  plus your thoughts on any changes that need to be made.   (patti s for example)  phillip &lt;end&gt;</td>\n",
              "    </tr>\n",
              "  </tbody>\n",
              "</table>\n",
              "</div>"
            ],
            "text/plain": [
              "                                                        input                                                                                                                                                               output\n",
              "60  <start>  randy,   can you send me a schedule of <end>      <start>  the salary and level of everyone in the  scheduling group.  plus your thoughts on any changes that need to be made.   (patti s for example)  phillip <end>\n",
              "61  <start>  randy,   can you send me a schedule of  <end>     <start> the salary and level of everyone in the  scheduling group.  plus your thoughts on any changes that need to be made.   (patti s for example)  phillip <end> \n",
              "62  <start>  randy,   can you send me a schedule of t <end>    <start> he salary and level of everyone in the  scheduling group.  plus your thoughts on any changes that need to be made.   (patti s for example)  phillip <end>  \n",
              "63  <start>  randy,   can you send me a schedule of th <end>   <start> e salary and level of everyone in the  scheduling group.  plus your thoughts on any changes that need to be made.   (patti s for example)  phillip <end>   \n",
              "64  <start>  randy,   can you send me a schedule of the <end>  <start>  salary and level of everyone in the  scheduling group.  plus your thoughts on any changes that need to be made.   (patti s for example)  phillip <end>    "
            ]
          },
          "metadata": {
            "tags": []
          },
          "execution_count": 25
        }
      ]
    },
    {
      "cell_type": "code",
      "metadata": {
        "id": "_C-w5YEB7rme",
        "colab_type": "code",
        "colab": {
          "base_uri": "https://localhost:8080/",
          "height": 973
        },
        "outputId": "cd82e38b-712e-478a-dd00-5a8221ea6aee"
      },
      "source": [
        "# Create the Encoder layers first.\n",
        "encoder_inputs = Input(shape=(len_input,))\n",
        "encoder_emb = Embedding(input_dim=vocab_in_size, output_dim=embedding_dim)\n",
        "\n",
        "# Use this if you dont need Bidirectional LSTM\n",
        "# encoder_lstm = CuDNNLSTM(units=units, return_sequences=True, return_state=True)\n",
        "# encoder_out, state_h, state_c = encoder_lstm(encoder_emb(encoder_inputs))\n",
        "\n",
        "encoder_lstm = Bidirectional(CuDNNLSTM(units=units, return_sequences=True, return_state=True))\n",
        "encoder_out, fstate_h, fstate_c, bstate_h, bstate_c = encoder_lstm(encoder_emb(encoder_inputs))\n",
        "state_h = Concatenate()([fstate_h,bstate_h])\n",
        "state_c = Concatenate()([bstate_h,bstate_c])\n",
        "encoder_states = [state_h, state_c]\n",
        "\n",
        "\n",
        "# Now create the Decoder layers.\n",
        "decoder_inputs = Input(shape=(None,))\n",
        "decoder_emb = Embedding(input_dim=vocab_out_size, output_dim=embedding_dim)\n",
        "decoder_lstm = CuDNNLSTM(units=units*2, return_sequences=True, return_state=True)\n",
        "decoder_lstm_out, _, _ = decoder_lstm(decoder_emb(decoder_inputs), initial_state=encoder_states)\n",
        "# Two dense layers added to this model to improve inference capabilities.\n",
        "decoder_d1 = Dense(units, activation=\"relu\")\n",
        "decoder_d2 = Dense(vocab_out_size, activation=\"softmax\")\n",
        "decoder_out = decoder_d2(Dropout(rate=.2)(decoder_d1(Dropout(rate=.2)(decoder_lstm_out))))\n",
        "\n",
        "\n",
        "# Finally, create a training model which combines the encoder and the decoder.\n",
        "# Note that this model has three inputs:\n",
        "model = Model(inputs = [encoder_inputs, decoder_inputs], outputs= decoder_out)\n",
        "\n",
        "# We'll use sparse_categorical_crossentropy so we don't have to expand decoder_out into a massive one-hot array.\n",
        "# Adam is used because it's, well, the best.\n",
        "\n",
        "model.compile(optimizer=tf.train.AdamOptimizer(), loss=\"sparse_categorical_crossentropy\", metrics=['sparse_categorical_accuracy'])\n",
        "model.summary()"
      ],
      "execution_count": 26,
      "outputs": [
        {
          "output_type": "stream",
          "text": [
            "WARNING: Logging before flag parsing goes to stderr.\n",
            "W0903 11:42:12.627730 140377718028160 deprecation.py:506] From /usr/local/lib/python3.6/dist-packages/tensorflow/python/keras/initializers.py:119: calling RandomUniform.__init__ (from tensorflow.python.ops.init_ops) with dtype is deprecated and will be removed in a future version.\n",
            "Instructions for updating:\n",
            "Call initializer instance with the dtype argument instead of passing it to the constructor\n",
            "W0903 11:42:12.635505 140377718028160 deprecation.py:506] From /usr/local/lib/python3.6/dist-packages/tensorflow/python/ops/init_ops.py:1251: calling VarianceScaling.__init__ (from tensorflow.python.ops.init_ops) with dtype is deprecated and will be removed in a future version.\n",
            "Instructions for updating:\n",
            "Call initializer instance with the dtype argument instead of passing it to the constructor\n",
            "W0903 11:42:12.641535 140377718028160 deprecation.py:506] From /usr/local/lib/python3.6/dist-packages/tensorflow/python/ops/init_ops.py:97: calling GlorotUniform.__init__ (from tensorflow.python.ops.init_ops) with dtype is deprecated and will be removed in a future version.\n",
            "Instructions for updating:\n",
            "Call initializer instance with the dtype argument instead of passing it to the constructor\n",
            "W0903 11:42:12.642649 140377718028160 deprecation.py:506] From /usr/local/lib/python3.6/dist-packages/tensorflow/python/ops/init_ops.py:97: calling Orthogonal.__init__ (from tensorflow.python.ops.init_ops) with dtype is deprecated and will be removed in a future version.\n",
            "Instructions for updating:\n",
            "Call initializer instance with the dtype argument instead of passing it to the constructor\n",
            "W0903 11:42:12.643714 140377718028160 deprecation.py:506] From /usr/local/lib/python3.6/dist-packages/tensorflow/python/ops/init_ops.py:97: calling Zeros.__init__ (from tensorflow.python.ops.init_ops) with dtype is deprecated and will be removed in a future version.\n",
            "Instructions for updating:\n",
            "Call initializer instance with the dtype argument instead of passing it to the constructor\n"
          ],
          "name": "stderr"
        },
        {
          "output_type": "stream",
          "text": [
            "Model: \"model\"\n",
            "__________________________________________________________________________________________________\n",
            "Layer (type)                    Output Shape         Param #     Connected to                     \n",
            "==================================================================================================\n",
            "input_1 (InputLayer)            [(None, 51)]         0                                            \n",
            "__________________________________________________________________________________________________\n",
            "embedding (Embedding)           (None, 51, 300)      414900      input_1[0][0]                    \n",
            "__________________________________________________________________________________________________\n",
            "input_2 (InputLayer)            [(None, None)]       0                                            \n",
            "__________________________________________________________________________________________________\n",
            "bidirectional (Bidirectional)   [(None, 51, 256), (N 440320      embedding[0][0]                  \n",
            "__________________________________________________________________________________________________\n",
            "embedding_1 (Embedding)         (None, None, 300)    440400      input_2[0][0]                    \n",
            "__________________________________________________________________________________________________\n",
            "concatenate (Concatenate)       (None, 256)          0           bidirectional[0][1]              \n",
            "                                                                 bidirectional[0][3]              \n",
            "__________________________________________________________________________________________________\n",
            "concatenate_1 (Concatenate)     (None, 256)          0           bidirectional[0][3]              \n",
            "                                                                 bidirectional[0][4]              \n",
            "__________________________________________________________________________________________________\n",
            "cu_dnnlstm_1 (CuDNNLSTM)        [(None, None, 256),  571392      embedding_1[0][0]                \n",
            "                                                                 concatenate[0][0]                \n",
            "                                                                 concatenate_1[0][0]              \n",
            "__________________________________________________________________________________________________\n",
            "dropout_1 (Dropout)             (None, None, 256)    0           cu_dnnlstm_1[0][0]               \n",
            "__________________________________________________________________________________________________\n",
            "dense (Dense)                   (None, None, 128)    32896       dropout_1[0][0]                  \n",
            "__________________________________________________________________________________________________\n",
            "dropout (Dropout)               (None, None, 128)    0           dense[0][0]                      \n",
            "__________________________________________________________________________________________________\n",
            "dense_1 (Dense)                 (None, None, 1468)   189372      dropout[0][0]                    \n",
            "==================================================================================================\n",
            "Total params: 2,089,280\n",
            "Trainable params: 2,089,280\n",
            "Non-trainable params: 0\n",
            "__________________________________________________________________________________________________\n"
          ],
          "name": "stdout"
        }
      ]
    },
    {
      "cell_type": "code",
      "metadata": {
        "id": "B7djduHe7uPB",
        "colab_type": "code",
        "colab": {
          "base_uri": "https://localhost:8080/",
          "height": 469
        },
        "outputId": "d3670890-4db0-46f8-9d4e-5788f13c0d19"
      },
      "source": [
        "# Note, we use 20% of our data for validation.\n",
        "epochs = 10\n",
        "history = model.fit([input_data, teacher_data], target_data,\n",
        "                 batch_size= BATCH_SIZE,\n",
        "                 epochs=epochs,\n",
        "                 validation_split=0.2)"
      ],
      "execution_count": 27,
      "outputs": [
        {
          "output_type": "stream",
          "text": [
            "W0903 11:42:54.017243 140377718028160 deprecation.py:323] From /usr/local/lib/python3.6/dist-packages/tensorflow/python/ops/math_grad.py:1250: add_dispatch_support.<locals>.wrapper (from tensorflow.python.ops.array_ops) is deprecated and will be removed in a future version.\n",
            "Instructions for updating:\n",
            "Use tf.where in 2.0, which has the same broadcast rule as np.where\n"
          ],
          "name": "stderr"
        },
        {
          "output_type": "stream",
          "text": [
            "Train on 3133 samples, validate on 784 samples\n",
            "Epoch 1/10\n",
            "3133/3133 [==============================] - 5s 2ms/sample - loss: 3.8500 - sparse_categorical_accuracy: 0.6709 - val_loss: 1.8793 - val_sparse_categorical_accuracy: 0.7129\n",
            "Epoch 2/10\n",
            "3133/3133 [==============================] - 1s 343us/sample - loss: 1.8101 - sparse_categorical_accuracy: 0.7073 - val_loss: 1.6246 - val_sparse_categorical_accuracy: 0.7142\n",
            "Epoch 3/10\n",
            "3133/3133 [==============================] - 1s 345us/sample - loss: 1.5416 - sparse_categorical_accuracy: 0.7362 - val_loss: 1.4065 - val_sparse_categorical_accuracy: 0.7629\n",
            "Epoch 4/10\n",
            "3133/3133 [==============================] - 1s 343us/sample - loss: 1.3866 - sparse_categorical_accuracy: 0.7624 - val_loss: 1.3275 - val_sparse_categorical_accuracy: 0.7645\n",
            "Epoch 5/10\n",
            "3133/3133 [==============================] - 1s 344us/sample - loss: 1.3117 - sparse_categorical_accuracy: 0.7669 - val_loss: 1.2491 - val_sparse_categorical_accuracy: 0.7762\n",
            "Epoch 6/10\n",
            "3133/3133 [==============================] - 1s 353us/sample - loss: 1.2270 - sparse_categorical_accuracy: 0.7724 - val_loss: 1.1646 - val_sparse_categorical_accuracy: 0.7841\n",
            "Epoch 7/10\n",
            "3133/3133 [==============================] - 1s 341us/sample - loss: 1.1441 - sparse_categorical_accuracy: 0.7805 - val_loss: 1.0876 - val_sparse_categorical_accuracy: 0.7869\n",
            "Epoch 8/10\n",
            "3133/3133 [==============================] - 1s 343us/sample - loss: 1.0651 - sparse_categorical_accuracy: 0.7857 - val_loss: 1.0066 - val_sparse_categorical_accuracy: 0.7963\n",
            "Epoch 9/10\n",
            "3133/3133 [==============================] - 1s 341us/sample - loss: 0.9811 - sparse_categorical_accuracy: 0.7937 - val_loss: 0.9184 - val_sparse_categorical_accuracy: 0.8086\n",
            "Epoch 10/10\n",
            "3133/3133 [==============================] - 1s 341us/sample - loss: 0.8979 - sparse_categorical_accuracy: 0.8030 - val_loss: 0.8408 - val_sparse_categorical_accuracy: 0.8208\n"
          ],
          "name": "stdout"
        }
      ]
    },
    {
      "cell_type": "code",
      "metadata": {
        "id": "qp2G6QgE74WX",
        "colab_type": "code",
        "colab": {
          "base_uri": "https://localhost:8080/",
          "height": 269
        },
        "outputId": "6ae05b63-13f8-480b-ef33-322f43b7846c"
      },
      "source": [
        "# Plot the results of the training.\n",
        "import matplotlib.pyplot as plt\n",
        "\n",
        "plt.plot(history.history['loss'], label=\"Training loss\")\n",
        "plt.plot(history.history['val_loss'], label=\"Validation loss\")\n",
        "plt.show()"
      ],
      "execution_count": 28,
      "outputs": [
        {
          "output_type": "display_data",
          "data": {
            "image/png": "[encoded data removed]",
            "text/plain": [
              "<Figure size 432x288 with 1 Axes>"
            ]
          },
          "metadata": {
            "tags": []
          }
        }
      ]
    },
    {
      "cell_type": "code",
      "metadata": {
        "id": "x5-UamSb8G3I",
        "colab_type": "code",
        "colab": {}
      },
      "source": [
        "\n",
        "\n",
        "# Create the encoder model from the tensors we previously declared.\n",
        "encoder_model = Model(encoder_inputs, [encoder_out, state_h, state_c])\n",
        "\n",
        "# Generate a new set of tensors for our new inference decoder. Note that we are using new tensors, \n",
        "# this does not preclude using the same underlying layers that we trained on. (e.g. weights/biases).\n",
        "\n",
        "inf_decoder_inputs = Input(shape=(None,), name=\"inf_decoder_inputs\")\n",
        "# We'll need to force feed the two state variables into the decoder each step.\n",
        "state_input_h = Input(shape=(units*2,), name=\"state_input_h\")\n",
        "state_input_c = Input(shape=(units*2,), name=\"state_input_c\")\n",
        "decoder_res, decoder_h, decoder_c = decoder_lstm(\n",
        "    decoder_emb(inf_decoder_inputs), \n",
        "    initial_state=[state_input_h, state_input_c])\n",
        "inf_decoder_out = decoder_d2(decoder_d1(decoder_res))\n",
        "inf_model = Model(inputs=[inf_decoder_inputs, state_input_h, state_input_c], \n",
        "                  outputs=[inf_decoder_out, decoder_h, decoder_c])\n",
        "\n"
      ],
      "execution_count": 0,
      "outputs": []
    },
    {
      "cell_type": "code",
      "metadata": {
        "id": "mjvkGbFG8Lqn",
        "colab_type": "code",
        "colab": {}
      },
      "source": [
        "# Converts the given sentence (just a string) into a vector of word IDs\n",
        "# Output is 1-D: [timesteps/words]\n",
        "\n",
        "def sentence_to_vector(sentence, lang):\n",
        "\n",
        "    pre = sentence\n",
        "    vec = np.zeros(len_input)\n",
        "    sentence_list = [lang.word2idx[s] for s in pre.split(' ')]\n",
        "    for i,w in enumerate(sentence_list):\n",
        "        vec[i] = w\n",
        "    return vec\n",
        "\n",
        "# Given an input string, an encoder model (infenc_model) and a decoder model (infmodel),\n",
        "def translate(input_sentence, infenc_model, infmodel):\n",
        "    sv = sentence_to_vector(input_sentence, input_lang)\n",
        "    sv = sv.reshape(1,len(sv))\n",
        "    [emb_out, sh, sc] = infenc_model.predict(x=sv)\n",
        "    \n",
        "    i = 0\n",
        "    start_vec = target_lang.word2idx[\"<start>\"]\n",
        "    stop_vec = target_lang.word2idx[\"<end>\"]\n",
        "    \n",
        "    cur_vec = np.zeros((1,1))\n",
        "    cur_vec[0,0] = start_vec\n",
        "    cur_word = \"<start>\"\n",
        "    output_sentence = \"\"\n",
        "\n",
        "    while cur_word != \"<end>\" and i < (len_target-1):\n",
        "        i += 1\n",
        "        if cur_word != \"<start>\":\n",
        "            output_sentence = output_sentence + \" \" + cur_word\n",
        "        x_in = [cur_vec, sh, sc]\n",
        "        [nvec, sh, sc] = infmodel.predict(x=x_in)\n",
        "        cur_vec[0,0] = np.argmax(nvec[0,0])\n",
        "        cur_word = target_lang.idx2word[np.argmax(nvec[0,0])]\n",
        "    return output_sentence"
      ],
      "execution_count": 0,
      "outputs": []
    },
    {
      "cell_type": "code",
      "metadata": {
        "id": "CQuHwOof8QjF",
        "colab_type": "code",
        "colab": {
          "base_uri": "https://localhost:8080/",
          "height": 297
        },
        "outputId": "b7d7b6f6-0afb-41b0-90a1-60ff29701424"
      },
      "source": [
        "#Note that only words that we've trained the model on will be available, otherwise you'll get an error.\n",
        "\n",
        "\n",
        "# test = [\n",
        "#     'hi there',\n",
        "#     'hell',\n",
        "#     'presentation please fin',\n",
        "#     'resignation please find at',\n",
        "#     'resignation please ',\n",
        "#     'have a nice we',\n",
        "#     'let me ',\n",
        "#     'promotion congrats ',\n",
        "#     'christmas Merry ',\n",
        "#     'please rev',\n",
        "#     'please ca',\n",
        "#     'thanks fo',\n",
        "#     'Let me kno',\n",
        "#     'Let me know if y',\n",
        "#     'this soun',\n",
        "#     'is this call going t'\n",
        "# ]\n",
        "\n",
        "test = [\n",
        "    'hi',\n",
        "    'let me ',\n",
        "    'please ca',\n",
        "    'Let me kno',\n",
        "    'Let me know if y',\n",
        "    'is this call going t',\n",
        "    'randy, can you send me a schedule of',\n",
        "    'this'\n",
        "]\n",
        "  \n",
        "\n",
        "import pandas as pd\n",
        "output = []  \n",
        "for t in test:  \n",
        "  output.append({\"Input seq\":t.lower(), \"Pred. Seq\":translate(t.lower(), encoder_model, inf_model)})\n",
        "\n",
        "results_df = pd.DataFrame.from_dict(output) \n",
        "results_df.head(len(test))"
      ],
      "execution_count": 50,
      "outputs": [
        {
          "output_type": "execute_result",
          "data": {
            "text/html": [
              "<div>\n",
              "<style scoped>\n",
              "    .dataframe tbody tr th:only-of-type {\n",
              "        vertical-align: middle;\n",
              "    }\n",
              "\n",
              "    .dataframe tbody tr th {\n",
              "        vertical-align: top;\n",
              "    }\n",
              "\n",
              "    .dataframe thead th {\n",
              "        text-align: right;\n",
              "    }\n",
              "</style>\n",
              "<table border=\"1\" class=\"dataframe\">\n",
              "  <thead>\n",
              "    <tr style=\"text-align: right;\">\n",
              "      <th></th>\n",
              "      <th>Input seq</th>\n",
              "      <th>Pred. Seq</th>\n",
              "    </tr>\n",
              "  </thead>\n",
              "  <tbody>\n",
              "    <tr>\n",
              "      <th>0</th>\n",
              "      <td>hi</td>\n",
              "      <td>phillip</td>\n",
              "    </tr>\n",
              "    <tr>\n",
              "      <th>1</th>\n",
              "      <td>let me</td>\n",
              "      <td>phillip</td>\n",
              "    </tr>\n",
              "    <tr>\n",
              "      <th>2</th>\n",
              "      <td>please ca</td>\n",
              "      <td>phillip</td>\n",
              "    </tr>\n",
              "    <tr>\n",
              "      <th>3</th>\n",
              "      <td>let me kno</td>\n",
              "      <td>phillip</td>\n",
              "    </tr>\n",
              "    <tr>\n",
              "      <th>4</th>\n",
              "      <td>let me know if y</td>\n",
              "      <td>phillip</td>\n",
              "    </tr>\n",
              "    <tr>\n",
              "      <th>5</th>\n",
              "      <td>is this call going t</td>\n",
              "      <td>phillip</td>\n",
              "    </tr>\n",
              "    <tr>\n",
              "      <th>6</th>\n",
              "      <td>randy, can you send me a schedule of</td>\n",
              "      <td>phillip</td>\n",
              "    </tr>\n",
              "    <tr>\n",
              "      <th>7</th>\n",
              "      <td>this</td>\n",
              "      <td>phillip</td>\n",
              "    </tr>\n",
              "  </tbody>\n",
              "</table>\n",
              "</div>"
            ],
            "text/plain": [
              "                              Input seq                                            Pred. Seq\n",
              "0  hi                                                                                phillip\n",
              "1  let me                                                                        phillip    \n",
              "2  please ca                                                                        phillip \n",
              "3  let me kno                                                                    phillip    \n",
              "4  let me know if y                                                          phillip        \n",
              "5  is this call going t                                                         phillip     \n",
              "6  randy, can you send me a schedule of                                      phillip        \n",
              "7  this                                                                              phillip"
            ]
          },
          "metadata": {
            "tags": []
          },
          "execution_count": 50
        }
      ]
    },
    {
      "cell_type": "code",
      "metadata": {
        "id": "V_10pgS38Udd",
        "colab_type": "code",
        "colab": {
          "base_uri": "https://localhost:8080/",
          "height": 35
        },
        "outputId": "bad56301-4bd6-41c2-86c4-cea5954dbc17"
      },
      "source": [
        "# This is to save the model for the web app to use for generation\n",
        "from keras.models import model_from_json\n",
        "from keras.models import load_model\n",
        "\n",
        "# serialize model to JSON\n",
        "#  the keras model which is trained is defined as 'model' in this example\n",
        "model_json = inf_model.to_json()\n",
        "\n",
        "\n",
        "with open(\"./sample_data/model_num.json\", \"w\") as json_file:\n",
        "    json_file.write(model_json)\n",
        "\n",
        "# serialize weights to HDF5\n",
        "inf_model.save_weights(\"./sample_data/model_num.h5\")"
      ],
      "execution_count": 42,
      "outputs": [
        {
          "output_type": "stream",
          "text": [
            "Using TensorFlow backend.\n"
          ],
          "name": "stderr"
        }
      ]
    },
    {
      "cell_type": "code",
      "metadata": {
        "id": "mTdUt__J9UFd",
        "colab_type": "code",
        "colab": {}
      },
      "source": [
        ""
      ],
      "execution_count": 0,
      "outputs": []
    }
  ]
}