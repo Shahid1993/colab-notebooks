{
  "nbformat": 4,
  "nbformat_minor": 0,
  "metadata": {
    "colab": {
      "name": "conditional_gen.ipynb",
      "version": "0.3.2",
      "provenance": [],
      "toc_visible": true,
      "machine_shape": "hm",
      "include_colab_link": true
    },
    "kernelspec": {
      "name": "python3",
      "display_name": "Python 3"
    },
    "accelerator": "GPU"
  },
  "cells": [
    {
      "cell_type": "markdown",
      "metadata": {
        "id": "view-in-github",
        "colab_type": "text"
      },
      "source": [
        "<a href=\"https://colab.research.google.com/github/Shahid1993/colab-notebooks/blob/master/conditional_gen.ipynb\" target=\"_parent\"><img src=\"https://colab.research.google.com/assets/colab-badge.svg\" alt=\"Open In Colab\"/></a>"
      ]
    },
    {
      "cell_type": "markdown",
      "metadata": {
        "id": "1rqIkznPzTz0",
        "colab_type": "text"
      },
      "source": [
        "## Preprocessing Enron Email Data"
      ]
    },
    {
      "cell_type": "code",
      "metadata": {
        "id": "OzYmnnl-eGVh",
        "colab_type": "code",
        "colab": {}
      },
      "source": [
        "#To mount Google Drive\n",
        "from google.colab import drive\n",
        "drive.mount('/content/drive')"
      ],
      "execution_count": 0,
      "outputs": []
    },
    {
      "cell_type": "code",
      "metadata": {
        "id": "Z-iD8N7-F596",
        "colab_type": "code",
        "colab": {}
      },
      "source": [
        "#!unzip ./sample_data/enron-email-dataset.zip -d ./sample_data"
      ],
      "execution_count": 0,
      "outputs": []
    },
    {
      "cell_type": "code",
      "metadata": {
        "id": "Q3eWjasEzZRL",
        "colab_type": "code",
        "colab": {}
      },
      "source": [
        "import pandas as pd"
      ],
      "execution_count": 0,
      "outputs": []
    },
    {
      "cell_type": "code",
      "metadata": {
        "id": "iNsSBHu-zlsp",
        "colab_type": "code",
        "colab": {}
      },
      "source": [
        "# data = pd.read_csv(\"./sample_data/emails.csv\")\n",
        "# pd.set_option('display.max_colwidth',-1)\n",
        "# new = data[\"message\"].str.split(\"\\n\", n = 15, expand = True) "
      ],
      "execution_count": 0,
      "outputs": []
    },
    {
      "cell_type": "code",
      "metadata": {
        "id": "JnugzK2gzm4F",
        "colab_type": "code",
        "colab": {}
      },
      "source": [
        "#new.head(2)"
      ],
      "execution_count": 0,
      "outputs": []
    },
    {
      "cell_type": "code",
      "metadata": {
        "id": "sEC0CgIL6Acj",
        "colab_type": "code",
        "colab": {}
      },
      "source": [
        "#data.head(2)"
      ],
      "execution_count": 0,
      "outputs": []
    },
    {
      "cell_type": "code",
      "metadata": {
        "id": "RYNW0xkU6Ie2",
        "colab_type": "code",
        "colab": {}
      },
      "source": [
        "# data[\"from\"] = new[2]\n",
        "# data[\"fromn\"] = new[8]\n",
        "# data[\"to\"] = new[3]\n",
        "# data[\"ton\"] = new[9]\n",
        "# data[\"subject\"] = new[4]\n",
        "# data[\"msg\"] = new[15]\n",
        "# data.drop(columns =[\"message\"], inplace = True) \n",
        "# data.drop(columns =[\"file\"], inplace = True) "
      ],
      "execution_count": 0,
      "outputs": []
    },
    {
      "cell_type": "code",
      "metadata": {
        "id": "Wd5yfsGn6Nyv",
        "colab_type": "code",
        "colab": {}
      },
      "source": [
        "# data.head(2)"
      ],
      "execution_count": 0,
      "outputs": []
    },
    {
      "cell_type": "code",
      "metadata": {
        "id": "RbmQc_Ox6Pg5",
        "colab_type": "code",
        "colab": {}
      },
      "source": [
        "# data['from'] = data[\"from\"].apply(lambda val: val.replace(\"From:\",''))\n",
        "# data['fromn'] = data[\"fromn\"].apply(lambda val: val.replace(\"X-From:\",''))\n",
        "# data['to'] = data[\"to\"].apply(lambda val: val.replace(\"To:\",''))\n",
        "# data['ton'] = data[\"ton\"].apply(lambda val: val.replace(\"X-To:\",''))\n",
        "# data['subject'] = data[\"subject\"].apply(lambda val: val.replace(\"Subject:\",''))\n",
        "# data['msg'] = data[\"msg\"].apply(lambda val: val.replace(\"\\n\",' '))"
      ],
      "execution_count": 0,
      "outputs": []
    },
    {
      "cell_type": "code",
      "metadata": {
        "id": "TIqBN7PL6U0v",
        "colab_type": "code",
        "colab": {}
      },
      "source": [
        "# data.head(2)"
      ],
      "execution_count": 0,
      "outputs": []
    },
    {
      "cell_type": "code",
      "metadata": {
        "id": "ZKZVxfIo6XEl",
        "colab_type": "code",
        "colab": {}
      },
      "source": [
        "# Lets look only at emails with 100 words or less and that are Non-replies\n",
        "# data[(data['msg'].str.len() <100) & ~(data['subject'].str.contains('Re:'))].sample(5)"
      ],
      "execution_count": 0,
      "outputs": []
    },
    {
      "cell_type": "code",
      "metadata": {
        "id": "-pic0sVy6b-5",
        "colab_type": "code",
        "colab": {}
      },
      "source": [
        "# data.head()['msg']"
      ],
      "execution_count": 0,
      "outputs": []
    },
    {
      "cell_type": "code",
      "metadata": {
        "id": "UwE8cjrn7JOD",
        "colab_type": "code",
        "colab": {}
      },
      "source": [
        "# corpus = [msg for msg in data[(data['msg'].str.len() <100) & ~(data['subject'].str.contains('Re:'))]['msg']]"
      ],
      "execution_count": 0,
      "outputs": []
    },
    {
      "cell_type": "code",
      "metadata": {
        "id": "xWfxURtp7KLp",
        "colab_type": "code",
        "colab": {}
      },
      "source": [
        "# corpus[60:69]"
      ],
      "execution_count": 0,
      "outputs": []
    },
    {
      "cell_type": "code",
      "metadata": {
        "id": "YCxtqjoZ7OMQ",
        "colab_type": "code",
        "colab": {}
      },
      "source": [
        "# len(corpus)"
      ],
      "execution_count": 0,
      "outputs": []
    },
    {
      "cell_type": "code",
      "metadata": {
        "id": "Bml4t8rhpYNV",
        "colab_type": "code",
        "colab": {}
      },
      "source": [
        "#Taking only as subset of corpus, since it takes lot of time for training\n",
        "# corpus = corpus[0:10000]\n",
        "\n",
        "file = open(\"./drive/My Drive/ML/data/smart_compose.txt\", 'r')\n",
        "corpus = [line for line in file]"
      ],
      "execution_count": 0,
      "outputs": []
    },
    {
      "cell_type": "code",
      "metadata": {
        "id": "yux4w690psbF",
        "colab_type": "code",
        "outputId": "c5046b1c-9a7f-40a3-816f-9b24f12552fd",
        "colab": {
          "base_uri": "https://localhost:8080/",
          "height": 34
        }
      },
      "source": [
        "len(corpus)"
      ],
      "execution_count": 6,
      "outputs": [
        {
          "output_type": "execute_result",
          "data": {
            "text/plain": [
              "158915"
            ]
          },
          "metadata": {
            "tags": []
          },
          "execution_count": 6
        }
      ]
    },
    {
      "cell_type": "code",
      "metadata": {
        "id": "wBVsx5tzwJlM",
        "colab_type": "code",
        "colab": {}
      },
      "source": [
        "from random import sample\n",
        "\n",
        "corpus = sample(corpus, 25000)"
      ],
      "execution_count": 0,
      "outputs": []
    },
    {
      "cell_type": "code",
      "metadata": {
        "id": "ogYG1CYfwh2y",
        "colab_type": "code",
        "colab": {
          "base_uri": "https://localhost:8080/",
          "height": 34
        },
        "outputId": "58d84f89-5f8a-455c-82b7-f475f0f86bb9"
      },
      "source": [
        "len(corpus)"
      ],
      "execution_count": 9,
      "outputs": [
        {
          "output_type": "execute_result",
          "data": {
            "text/plain": [
              "25000"
            ]
          },
          "metadata": {
            "tags": []
          },
          "execution_count": 9
        }
      ]
    },
    {
      "cell_type": "code",
      "metadata": {
        "id": "cmEO0eHAwk-l",
        "colab_type": "code",
        "colab": {
          "base_uri": "https://localhost:8080/",
          "height": 295
        },
        "outputId": "74d55420-c023-4eb4-92a6-d9e7574c0751"
      },
      "source": [
        "corpus[60:75]"
      ],
      "execution_count": 10,
      "outputs": [
        {
          "output_type": "execute_result",
          "data": {
            "text/plain": [
              "['A naked woman is taking a dip in an isolated rocky pool .\\n',\n",
              " \"As a medium haired brunette wearing a brown shirt leans forward and looks on , an auburn-haired woman in a gray shirt is laughing , her head reared back somewhat as she holds a blue infant outfit , its price tag hanging just below the woman 's left hand .\\n\",\n",
              " 'A man wearing a bright neon orange vest sitting by a parked truck with his laptop .\\n',\n",
              " 'Three college-aged students eat a meal .\\n',\n",
              " 'Black man sells various toys in the street .\\n',\n",
              " 'a woman kissing a child in the middle of the street\\n',\n",
              " 'Man riding a unbroken horse or bronco .\\n',\n",
              " 'Two kids joyfully sledding downhill .\\n',\n",
              " 'People pass each other on a busy city street while talking on their cellphones .\\n',\n",
              " 'Several men in hard hats are operating a giant pulley system .\\n',\n",
              " 'A black woman in a pink shirt , eating a muffin , is selling ducks and other toys at some special event .\\n',\n",
              " 'Man in plaid shirt leaning against a wall .\\n',\n",
              " 'A blond-haired boy and a brown-haired girl laugh together while eating .\\n',\n",
              " 'People at an outdoor bar .\\n',\n",
              " 'A man and woman kiss as they stand along a gravel path .\\n']"
            ]
          },
          "metadata": {
            "tags": []
          },
          "execution_count": 10
        }
      ]
    },
    {
      "cell_type": "code",
      "metadata": {
        "id": "N0ZsBrqU7TwL",
        "colab_type": "code",
        "outputId": "6fbea0ed-9a6e-4220-fb80-e02556cb956b",
        "colab": {
          "base_uri": "https://localhost:8080/",
          "height": 34
        }
      },
      "source": [
        "# Start by importing all the things we'll need.\n",
        "%matplotlib inline\n",
        "import tensorflow as tf\n",
        "from tensorflow import keras\n",
        "from tensorflow.keras.models import Model\n",
        "from tensorflow.keras.layers import Input, LSTM, Dense, Embedding, CuDNNLSTM, Flatten, TimeDistributed, Dropout, LSTMCell, RNN, Bidirectional, Concatenate, Layer\n",
        "from tensorflow.keras.callbacks import ModelCheckpoint\n",
        "from tensorflow.python.keras.utils import tf_utils\n",
        "from tensorflow.keras import backend as K\n",
        "\n",
        "import unicodedata\n",
        "import re\n",
        "import numpy as np\n",
        "import os\n",
        "import time\n",
        "import shutil\n",
        "\n",
        "import pandas as pd\n",
        "import numpy as np\n",
        "import string, os \n",
        "tf.__version__"
      ],
      "execution_count": 11,
      "outputs": [
        {
          "output_type": "execute_result",
          "data": {
            "text/plain": [
              "'1.14.0'"
            ]
          },
          "metadata": {
            "tags": []
          },
          "execution_count": 11
        }
      ]
    },
    {
      "cell_type": "code",
      "metadata": {
        "id": "p_RkYugZ7cig",
        "colab_type": "code",
        "colab": {}
      },
      "source": [
        "def clean_special_chars(text, punct):\n",
        "    for p in punct:\n",
        "        text = text.replace(p, '')\n",
        "    return text\n",
        "\n",
        "      \n",
        "def preprocess(data):\n",
        "    output = []\n",
        "    punct = '#$%&*+-/<=>@[\\\\]^_`{|}~\\t\\n'\n",
        "    for line in data:\n",
        "         pline= clean_special_chars(line.lower(), punct)\n",
        "         output.append(pline)\n",
        "    return output  \n",
        "\n",
        "\n",
        "def generate_dataset():\n",
        "  \n",
        "    processed_corpus = preprocess(corpus)    \n",
        "    output = []\n",
        "    for line in processed_corpus:\n",
        "        token_list = line\n",
        "        for i in range(1, len(token_list)):\n",
        "            data = []\n",
        "            x_ngram = '<start> '+ token_list[:i+1] + ' <end>'\n",
        "            y_ngram = '<start> '+ token_list[i+1:] + ' <end>'\n",
        "            data.append(x_ngram)\n",
        "            data.append(y_ngram)\n",
        "            output.append(data)\n",
        "    print(\"Dataset prepared with prefix and suffixes for teacher forcing technique\")\n",
        "    dummy_df = pd.DataFrame(output, columns=['input','output'])\n",
        "    return output, dummy_df            "
      ],
      "execution_count": 0,
      "outputs": []
    },
    {
      "cell_type": "code",
      "metadata": {
        "id": "9xrqss6-7kGf",
        "colab_type": "code",
        "colab": {}
      },
      "source": [
        "class LanguageIndex():\n",
        "    def __init__(self, lang):\n",
        "        self.lang = lang\n",
        "        self.word2idx = {}\n",
        "        self.idx2word = {}\n",
        "        self.vocab = set()\n",
        "        self.create_index()\n",
        "    def create_index(self):\n",
        "        for phrase in self.lang:\n",
        "            self.vocab.update(phrase.split(' '))\n",
        "        self.vocab = sorted(self.vocab)\n",
        "        self.word2idx[\"<pad>\"] = 0\n",
        "        self.idx2word[0] = \"<pad>\"\n",
        "        for i,word in enumerate(self.vocab):\n",
        "            self.word2idx[word] = i + 1\n",
        "            self.idx2word[i+1] = word\n",
        "\n",
        "def max_length(t):\n",
        "    return max(len(i) for i in t)\n",
        "\n",
        "def load_dataset():\n",
        "    pairs,df = generate_dataset()\n",
        "    out_lang = LanguageIndex(sp for en, sp in pairs)\n",
        "    in_lang = LanguageIndex(en for en, sp in pairs)\n",
        "    input_data = [[in_lang.word2idx[s] for s in en.split(' ')] for en, sp in pairs]\n",
        "    output_data = [[out_lang.word2idx[s] for s in sp.split(' ')] for en, sp in pairs]\n",
        "\n",
        "    max_length_in, max_length_out = max_length(input_data), max_length(output_data)\n",
        "    input_data = tf.keras.preprocessing.sequence.pad_sequences(input_data, maxlen=max_length_in, padding=\"post\")\n",
        "    output_data = tf.keras.preprocessing.sequence.pad_sequences(output_data, maxlen=max_length_out, padding=\"post\")\n",
        "    return input_data, output_data, in_lang, out_lang, max_length_in, max_length_out, df\n"
      ],
      "execution_count": 0,
      "outputs": []
    },
    {
      "cell_type": "code",
      "metadata": {
        "id": "PBUsKoAB7mIX",
        "colab_type": "code",
        "outputId": "47bbf732-fdf8-49b8-a7ef-0d2d709db72d",
        "colab": {
          "base_uri": "https://localhost:8080/",
          "height": 34
        }
      },
      "source": [
        "input_data, teacher_data, input_lang, target_lang, len_input, len_target, df = load_dataset()\n",
        "\n",
        "\n",
        "target_data = [[teacher_data[n][i+1] for i in range(len(teacher_data[n])-1)] for n in range(len(teacher_data))]\n",
        "target_data = tf.keras.preprocessing.sequence.pad_sequences(target_data, maxlen=len_target, padding=\"post\")\n",
        "target_data = target_data.reshape((target_data.shape[0], target_data.shape[1], 1))\n",
        "\n",
        "# Shuffle all of the data in unison. This training set has the longest (e.g. most complicated) data at the end,\n",
        "# so a simple Keras validation split will be problematic if not shuffled.\n",
        "\n",
        "p = np.random.permutation(len(input_data))\n",
        "input_data = input_data[p]\n",
        "teacher_data = teacher_data[p]\n",
        "target_data = target_data[p]"
      ],
      "execution_count": 14,
      "outputs": [
        {
          "output_type": "stream",
          "text": [
            "Dataset prepared with prefix and suffixes for teacher forcing technique\n"
          ],
          "name": "stdout"
        }
      ]
    },
    {
      "cell_type": "code",
      "metadata": {
        "id": "Rvl3n_Ry7ozF",
        "colab_type": "code",
        "outputId": "ed432179-f570-4a39-f770-7a195c8e8f4d",
        "colab": {
          "base_uri": "https://localhost:8080/",
          "height": 1000
        }
      },
      "source": [
        "pd.set_option('display.max_colwidth', -1)\n",
        "BUFFER_SIZE = len(input_data)\n",
        "BATCH_SIZE = 128\n",
        "embedding_dim = 300\n",
        "units = 128\n",
        "vocab_in_size = len(input_lang.word2idx)\n",
        "vocab_out_size = len(target_lang.word2idx)\n",
        "df.iloc[30:65]"
      ],
      "execution_count": 18,
      "outputs": [
        {
          "output_type": "execute_result",
          "data": {
            "text/html": [
              "<div>\n",
              "<style scoped>\n",
              "    .dataframe tbody tr th:only-of-type {\n",
              "        vertical-align: middle;\n",
              "    }\n",
              "\n",
              "    .dataframe tbody tr th {\n",
              "        vertical-align: top;\n",
              "    }\n",
              "\n",
              "    .dataframe thead th {\n",
              "        text-align: right;\n",
              "    }\n",
              "</style>\n",
              "<table border=\"1\" class=\"dataframe\">\n",
              "  <thead>\n",
              "    <tr style=\"text-align: right;\">\n",
              "      <th></th>\n",
              "      <th>input</th>\n",
              "      <th>output</th>\n",
              "    </tr>\n",
              "  </thead>\n",
              "  <tbody>\n",
              "    <tr>\n",
              "      <th>30</th>\n",
              "      <td>&lt;start&gt; young blond child in gray shirt  &lt;end&gt;</td>\n",
              "      <td>&lt;start&gt; playing in a cardboard box . &lt;end&gt;</td>\n",
              "    </tr>\n",
              "    <tr>\n",
              "      <th>31</th>\n",
              "      <td>&lt;start&gt; young blond child in gray shirt p &lt;end&gt;</td>\n",
              "      <td>&lt;start&gt; laying in a cardboard box . &lt;end&gt;</td>\n",
              "    </tr>\n",
              "    <tr>\n",
              "      <th>32</th>\n",
              "      <td>&lt;start&gt; young blond child in gray shirt pl &lt;end&gt;</td>\n",
              "      <td>&lt;start&gt; aying in a cardboard box . &lt;end&gt;</td>\n",
              "    </tr>\n",
              "    <tr>\n",
              "      <th>33</th>\n",
              "      <td>&lt;start&gt; young blond child in gray shirt pla &lt;end&gt;</td>\n",
              "      <td>&lt;start&gt; ying in a cardboard box . &lt;end&gt;</td>\n",
              "    </tr>\n",
              "    <tr>\n",
              "      <th>34</th>\n",
              "      <td>&lt;start&gt; young blond child in gray shirt play &lt;end&gt;</td>\n",
              "      <td>&lt;start&gt; ing in a cardboard box . &lt;end&gt;</td>\n",
              "    </tr>\n",
              "    <tr>\n",
              "      <th>35</th>\n",
              "      <td>&lt;start&gt; young blond child in gray shirt playi &lt;end&gt;</td>\n",
              "      <td>&lt;start&gt; ng in a cardboard box . &lt;end&gt;</td>\n",
              "    </tr>\n",
              "    <tr>\n",
              "      <th>36</th>\n",
              "      <td>&lt;start&gt; young blond child in gray shirt playin &lt;end&gt;</td>\n",
              "      <td>&lt;start&gt; g in a cardboard box . &lt;end&gt;</td>\n",
              "    </tr>\n",
              "    <tr>\n",
              "      <th>37</th>\n",
              "      <td>&lt;start&gt; young blond child in gray shirt playing &lt;end&gt;</td>\n",
              "      <td>&lt;start&gt;  in a cardboard box . &lt;end&gt;</td>\n",
              "    </tr>\n",
              "    <tr>\n",
              "      <th>38</th>\n",
              "      <td>&lt;start&gt; young blond child in gray shirt playing  &lt;end&gt;</td>\n",
              "      <td>&lt;start&gt; in a cardboard box . &lt;end&gt;</td>\n",
              "    </tr>\n",
              "    <tr>\n",
              "      <th>39</th>\n",
              "      <td>&lt;start&gt; young blond child in gray shirt playing i &lt;end&gt;</td>\n",
              "      <td>&lt;start&gt; n a cardboard box . &lt;end&gt;</td>\n",
              "    </tr>\n",
              "    <tr>\n",
              "      <th>40</th>\n",
              "      <td>&lt;start&gt; young blond child in gray shirt playing in &lt;end&gt;</td>\n",
              "      <td>&lt;start&gt;  a cardboard box . &lt;end&gt;</td>\n",
              "    </tr>\n",
              "    <tr>\n",
              "      <th>41</th>\n",
              "      <td>&lt;start&gt; young blond child in gray shirt playing in  &lt;end&gt;</td>\n",
              "      <td>&lt;start&gt; a cardboard box . &lt;end&gt;</td>\n",
              "    </tr>\n",
              "    <tr>\n",
              "      <th>42</th>\n",
              "      <td>&lt;start&gt; young blond child in gray shirt playing in a &lt;end&gt;</td>\n",
              "      <td>&lt;start&gt;  cardboard box . &lt;end&gt;</td>\n",
              "    </tr>\n",
              "    <tr>\n",
              "      <th>43</th>\n",
              "      <td>&lt;start&gt; young blond child in gray shirt playing in a  &lt;end&gt;</td>\n",
              "      <td>&lt;start&gt; cardboard box . &lt;end&gt;</td>\n",
              "    </tr>\n",
              "    <tr>\n",
              "      <th>44</th>\n",
              "      <td>&lt;start&gt; young blond child in gray shirt playing in a c &lt;end&gt;</td>\n",
              "      <td>&lt;start&gt; ardboard box . &lt;end&gt;</td>\n",
              "    </tr>\n",
              "    <tr>\n",
              "      <th>45</th>\n",
              "      <td>&lt;start&gt; young blond child in gray shirt playing in a ca &lt;end&gt;</td>\n",
              "      <td>&lt;start&gt; rdboard box . &lt;end&gt;</td>\n",
              "    </tr>\n",
              "    <tr>\n",
              "      <th>46</th>\n",
              "      <td>&lt;start&gt; young blond child in gray shirt playing in a car &lt;end&gt;</td>\n",
              "      <td>&lt;start&gt; dboard box . &lt;end&gt;</td>\n",
              "    </tr>\n",
              "    <tr>\n",
              "      <th>47</th>\n",
              "      <td>&lt;start&gt; young blond child in gray shirt playing in a card &lt;end&gt;</td>\n",
              "      <td>&lt;start&gt; board box . &lt;end&gt;</td>\n",
              "    </tr>\n",
              "    <tr>\n",
              "      <th>48</th>\n",
              "      <td>&lt;start&gt; young blond child in gray shirt playing in a cardb &lt;end&gt;</td>\n",
              "      <td>&lt;start&gt; oard box . &lt;end&gt;</td>\n",
              "    </tr>\n",
              "    <tr>\n",
              "      <th>49</th>\n",
              "      <td>&lt;start&gt; young blond child in gray shirt playing in a cardbo &lt;end&gt;</td>\n",
              "      <td>&lt;start&gt; ard box . &lt;end&gt;</td>\n",
              "    </tr>\n",
              "    <tr>\n",
              "      <th>50</th>\n",
              "      <td>&lt;start&gt; young blond child in gray shirt playing in a cardboa &lt;end&gt;</td>\n",
              "      <td>&lt;start&gt; rd box . &lt;end&gt;</td>\n",
              "    </tr>\n",
              "    <tr>\n",
              "      <th>51</th>\n",
              "      <td>&lt;start&gt; young blond child in gray shirt playing in a cardboar &lt;end&gt;</td>\n",
              "      <td>&lt;start&gt; d box . &lt;end&gt;</td>\n",
              "    </tr>\n",
              "    <tr>\n",
              "      <th>52</th>\n",
              "      <td>&lt;start&gt; young blond child in gray shirt playing in a cardboard &lt;end&gt;</td>\n",
              "      <td>&lt;start&gt;  box . &lt;end&gt;</td>\n",
              "    </tr>\n",
              "    <tr>\n",
              "      <th>53</th>\n",
              "      <td>&lt;start&gt; young blond child in gray shirt playing in a cardboard  &lt;end&gt;</td>\n",
              "      <td>&lt;start&gt; box . &lt;end&gt;</td>\n",
              "    </tr>\n",
              "    <tr>\n",
              "      <th>54</th>\n",
              "      <td>&lt;start&gt; young blond child in gray shirt playing in a cardboard b &lt;end&gt;</td>\n",
              "      <td>&lt;start&gt; ox . &lt;end&gt;</td>\n",
              "    </tr>\n",
              "    <tr>\n",
              "      <th>55</th>\n",
              "      <td>&lt;start&gt; young blond child in gray shirt playing in a cardboard bo &lt;end&gt;</td>\n",
              "      <td>&lt;start&gt; x . &lt;end&gt;</td>\n",
              "    </tr>\n",
              "    <tr>\n",
              "      <th>56</th>\n",
              "      <td>&lt;start&gt; young blond child in gray shirt playing in a cardboard box &lt;end&gt;</td>\n",
              "      <td>&lt;start&gt;  . &lt;end&gt;</td>\n",
              "    </tr>\n",
              "    <tr>\n",
              "      <th>57</th>\n",
              "      <td>&lt;start&gt; young blond child in gray shirt playing in a cardboard box  &lt;end&gt;</td>\n",
              "      <td>&lt;start&gt; . &lt;end&gt;</td>\n",
              "    </tr>\n",
              "    <tr>\n",
              "      <th>58</th>\n",
              "      <td>&lt;start&gt; young blond child in gray shirt playing in a cardboard box . &lt;end&gt;</td>\n",
              "      <td>&lt;start&gt;  &lt;end&gt;</td>\n",
              "    </tr>\n",
              "    <tr>\n",
              "      <th>59</th>\n",
              "      <td>&lt;start&gt; ma &lt;end&gt;</td>\n",
              "      <td>&lt;start&gt; n spiking volleyball over net with other player in front of him . &lt;end&gt;</td>\n",
              "    </tr>\n",
              "    <tr>\n",
              "      <th>60</th>\n",
              "      <td>&lt;start&gt; man &lt;end&gt;</td>\n",
              "      <td>&lt;start&gt;  spiking volleyball over net with other player in front of him . &lt;end&gt;</td>\n",
              "    </tr>\n",
              "    <tr>\n",
              "      <th>61</th>\n",
              "      <td>&lt;start&gt; man  &lt;end&gt;</td>\n",
              "      <td>&lt;start&gt; spiking volleyball over net with other player in front of him . &lt;end&gt;</td>\n",
              "    </tr>\n",
              "    <tr>\n",
              "      <th>62</th>\n",
              "      <td>&lt;start&gt; man s &lt;end&gt;</td>\n",
              "      <td>&lt;start&gt; piking volleyball over net with other player in front of him . &lt;end&gt;</td>\n",
              "    </tr>\n",
              "    <tr>\n",
              "      <th>63</th>\n",
              "      <td>&lt;start&gt; man sp &lt;end&gt;</td>\n",
              "      <td>&lt;start&gt; iking volleyball over net with other player in front of him . &lt;end&gt;</td>\n",
              "    </tr>\n",
              "    <tr>\n",
              "      <th>64</th>\n",
              "      <td>&lt;start&gt; man spi &lt;end&gt;</td>\n",
              "      <td>&lt;start&gt; king volleyball over net with other player in front of him . &lt;end&gt;</td>\n",
              "    </tr>\n",
              "  </tbody>\n",
              "</table>\n",
              "</div>"
            ],
            "text/plain": [
              "                                                                         input                                                                           output\n",
              "30  <start> young blond child in gray shirt  <end>                              <start> playing in a cardboard box . <end>                                     \n",
              "31  <start> young blond child in gray shirt p <end>                             <start> laying in a cardboard box . <end>                                      \n",
              "32  <start> young blond child in gray shirt pl <end>                            <start> aying in a cardboard box . <end>                                       \n",
              "33  <start> young blond child in gray shirt pla <end>                           <start> ying in a cardboard box . <end>                                        \n",
              "34  <start> young blond child in gray shirt play <end>                          <start> ing in a cardboard box . <end>                                         \n",
              "35  <start> young blond child in gray shirt playi <end>                         <start> ng in a cardboard box . <end>                                          \n",
              "36  <start> young blond child in gray shirt playin <end>                        <start> g in a cardboard box . <end>                                           \n",
              "37  <start> young blond child in gray shirt playing <end>                       <start>  in a cardboard box . <end>                                            \n",
              "38  <start> young blond child in gray shirt playing  <end>                      <start> in a cardboard box . <end>                                             \n",
              "39  <start> young blond child in gray shirt playing i <end>                     <start> n a cardboard box . <end>                                              \n",
              "40  <start> young blond child in gray shirt playing in <end>                    <start>  a cardboard box . <end>                                               \n",
              "41  <start> young blond child in gray shirt playing in  <end>                   <start> a cardboard box . <end>                                                \n",
              "42  <start> young blond child in gray shirt playing in a <end>                  <start>  cardboard box . <end>                                                 \n",
              "43  <start> young blond child in gray shirt playing in a  <end>                 <start> cardboard box . <end>                                                  \n",
              "44  <start> young blond child in gray shirt playing in a c <end>                <start> ardboard box . <end>                                                   \n",
              "45  <start> young blond child in gray shirt playing in a ca <end>               <start> rdboard box . <end>                                                    \n",
              "46  <start> young blond child in gray shirt playing in a car <end>              <start> dboard box . <end>                                                     \n",
              "47  <start> young blond child in gray shirt playing in a card <end>             <start> board box . <end>                                                      \n",
              "48  <start> young blond child in gray shirt playing in a cardb <end>            <start> oard box . <end>                                                       \n",
              "49  <start> young blond child in gray shirt playing in a cardbo <end>           <start> ard box . <end>                                                        \n",
              "50  <start> young blond child in gray shirt playing in a cardboa <end>          <start> rd box . <end>                                                         \n",
              "51  <start> young blond child in gray shirt playing in a cardboar <end>         <start> d box . <end>                                                          \n",
              "52  <start> young blond child in gray shirt playing in a cardboard <end>        <start>  box . <end>                                                           \n",
              "53  <start> young blond child in gray shirt playing in a cardboard  <end>       <start> box . <end>                                                            \n",
              "54  <start> young blond child in gray shirt playing in a cardboard b <end>      <start> ox . <end>                                                             \n",
              "55  <start> young blond child in gray shirt playing in a cardboard bo <end>     <start> x . <end>                                                              \n",
              "56  <start> young blond child in gray shirt playing in a cardboard box <end>    <start>  . <end>                                                               \n",
              "57  <start> young blond child in gray shirt playing in a cardboard box  <end>   <start> . <end>                                                                \n",
              "58  <start> young blond child in gray shirt playing in a cardboard box . <end>  <start>  <end>                                                                 \n",
              "59  <start> ma <end>                                                            <start> n spiking volleyball over net with other player in front of him . <end>\n",
              "60  <start> man <end>                                                           <start>  spiking volleyball over net with other player in front of him . <end> \n",
              "61  <start> man  <end>                                                          <start> spiking volleyball over net with other player in front of him . <end>  \n",
              "62  <start> man s <end>                                                         <start> piking volleyball over net with other player in front of him . <end>   \n",
              "63  <start> man sp <end>                                                        <start> iking volleyball over net with other player in front of him . <end>    \n",
              "64  <start> man spi <end>                                                       <start> king volleyball over net with other player in front of him . <end>     "
            ]
          },
          "metadata": {
            "tags": []
          },
          "execution_count": 18
        }
      ]
    },
    {
      "cell_type": "code",
      "metadata": {
        "id": "_C-w5YEB7rme",
        "colab_type": "code",
        "outputId": "5fe55a5a-b1a2-4888-9e7c-ae3478169804",
        "colab": {
          "base_uri": "https://localhost:8080/",
          "height": 636
        }
      },
      "source": [
        "# Create the Encoder layers first.\n",
        "encoder_inputs = Input(shape=(len_input,))\n",
        "encoder_emb = Embedding(input_dim=vocab_in_size, output_dim=embedding_dim)\n",
        "\n",
        "# Use this if you dont need Bidirectional LSTM\n",
        "# encoder_lstm = CuDNNLSTM(units=units, return_sequences=True, return_state=True)\n",
        "# encoder_out, state_h, state_c = encoder_lstm(encoder_emb(encoder_inputs))\n",
        "\n",
        "encoder_lstm = Bidirectional(CuDNNLSTM(units=units, return_sequences=True, return_state=True))\n",
        "encoder_out, fstate_h, fstate_c, bstate_h, bstate_c = encoder_lstm(encoder_emb(encoder_inputs))\n",
        "state_h = Concatenate()([fstate_h,bstate_h])\n",
        "state_c = Concatenate()([bstate_h,bstate_c])\n",
        "encoder_states = [state_h, state_c]\n",
        "\n",
        "\n",
        "# Now create the Decoder layers.\n",
        "decoder_inputs = Input(shape=(None,))\n",
        "decoder_emb = Embedding(input_dim=vocab_out_size, output_dim=embedding_dim)\n",
        "decoder_lstm = CuDNNLSTM(units=units*2, return_sequences=True, return_state=True)\n",
        "decoder_lstm_out, _, _ = decoder_lstm(decoder_emb(decoder_inputs), initial_state=encoder_states)\n",
        "# Two dense layers added to this model to improve inference capabilities.\n",
        "decoder_d1 = Dense(units, activation=\"relu\")\n",
        "decoder_d2 = Dense(vocab_out_size, activation=\"softmax\")\n",
        "decoder_out = decoder_d2(Dropout(rate=.2)(decoder_d1(Dropout(rate=.2)(decoder_lstm_out))))\n",
        "\n",
        "\n",
        "# Finally, create a training model which combines the encoder and the decoder.\n",
        "# Note that this model has three inputs:\n",
        "model = Model(inputs = [encoder_inputs, decoder_inputs], outputs= decoder_out)\n",
        "\n",
        "# We'll use sparse_categorical_crossentropy so we don't have to expand decoder_out into a massive one-hot array.\n",
        "# Adam is used because it's, well, the best.\n",
        "\n",
        "model.compile(optimizer=tf.train.AdamOptimizer(), loss=\"sparse_categorical_crossentropy\", metrics=['sparse_categorical_accuracy'])\n",
        "model.summary()"
      ],
      "execution_count": 19,
      "outputs": [
        {
          "output_type": "stream",
          "text": [
            "Model: \"model_1\"\n",
            "__________________________________________________________________________________________________\n",
            "Layer (type)                    Output Shape         Param #     Connected to                     \n",
            "==================================================================================================\n",
            "input_3 (InputLayer)            [(None, 75)]         0                                            \n",
            "__________________________________________________________________________________________________\n",
            "embedding_2 (Embedding)         (None, 75, 300)      8075400     input_3[0][0]                    \n",
            "__________________________________________________________________________________________________\n",
            "input_4 (InputLayer)            [(None, None)]       0                                            \n",
            "__________________________________________________________________________________________________\n",
            "bidirectional_1 (Bidirectional) [(None, 75, 256), (N 440320      embedding_2[0][0]                \n",
            "__________________________________________________________________________________________________\n",
            "embedding_3 (Embedding)         (None, None, 300)    8543700     input_4[0][0]                    \n",
            "__________________________________________________________________________________________________\n",
            "concatenate_2 (Concatenate)     (None, 256)          0           bidirectional_1[0][1]            \n",
            "                                                                 bidirectional_1[0][3]            \n",
            "__________________________________________________________________________________________________\n",
            "concatenate_3 (Concatenate)     (None, 256)          0           bidirectional_1[0][3]            \n",
            "                                                                 bidirectional_1[0][4]            \n",
            "__________________________________________________________________________________________________\n",
            "cu_dnnlstm_3 (CuDNNLSTM)        [(None, None, 256),  571392      embedding_3[0][0]                \n",
            "                                                                 concatenate_2[0][0]              \n",
            "                                                                 concatenate_3[0][0]              \n",
            "__________________________________________________________________________________________________\n",
            "dropout_3 (Dropout)             (None, None, 256)    0           cu_dnnlstm_3[0][0]               \n",
            "__________________________________________________________________________________________________\n",
            "dense_2 (Dense)                 (None, None, 128)    32896       dropout_3[0][0]                  \n",
            "__________________________________________________________________________________________________\n",
            "dropout_2 (Dropout)             (None, None, 128)    0           dense_2[0][0]                    \n",
            "__________________________________________________________________________________________________\n",
            "dense_3 (Dense)                 (None, None, 28479)  3673791     dropout_2[0][0]                  \n",
            "==================================================================================================\n",
            "Total params: 21,337,499\n",
            "Trainable params: 21,337,499\n",
            "Non-trainable params: 0\n",
            "__________________________________________________________________________________________________\n"
          ],
          "name": "stdout"
        }
      ]
    },
    {
      "cell_type": "code",
      "metadata": {
        "id": "B7djduHe7uPB",
        "colab_type": "code",
        "outputId": "0227fa3b-edfa-4d15-d6e0-e98e754f52a1",
        "colab": {
          "base_uri": "https://localhost:8080/",
          "height": 192
        }
      },
      "source": [
        "# Note, we use 20% of our data for validation.\n",
        "epochs = 4\n",
        "history = model.fit([input_data, teacher_data], target_data,\n",
        "                 batch_size= BATCH_SIZE,\n",
        "                 epochs=epochs,\n",
        "                 validation_split=0.2)"
      ],
      "execution_count": 21,
      "outputs": [
        {
          "output_type": "stream",
          "text": [
            "Train on 1265519 samples, validate on 316380 samples\n",
            "Epoch 1/4\n",
            "1265519/1265519 [==============================] - 9281s 7ms/sample - loss: 0.3934 - sparse_categorical_accuracy: 0.9291 - val_loss: 0.2590 - val_sparse_categorical_accuracy: 0.9462\n",
            "Epoch 2/4\n",
            "1265519/1265519 [==============================] - 9279s 7ms/sample - loss: 0.2536 - sparse_categorical_accuracy: 0.9467 - val_loss: 0.2009 - val_sparse_categorical_accuracy: 0.9568\n",
            "Epoch 3/4\n",
            "1265519/1265519 [==============================] - 9262s 7ms/sample - loss: 0.2169 - sparse_categorical_accuracy: 0.9530 - val_loss: 0.1773 - val_sparse_categorical_accuracy: 0.9615\n",
            "Epoch 4/4\n",
            "1265519/1265519 [==============================] - 9296s 7ms/sample - loss: 0.1987 - sparse_categorical_accuracy: 0.9564 - val_loss: 0.1646 - val_sparse_categorical_accuracy: 0.9643\n"
          ],
          "name": "stdout"
        }
      ]
    },
    {
      "cell_type": "code",
      "metadata": {
        "id": "qp2G6QgE74WX",
        "colab_type": "code",
        "outputId": "a16f2738-c978-40cf-d339-990a47cb2a4a",
        "colab": {
          "base_uri": "https://localhost:8080/",
          "height": 269
        }
      },
      "source": [
        "# Plot the results of the training.\n",
        "import matplotlib.pyplot as plt\n",
        "\n",
        "plt.plot(history.history['loss'], label=\"Training loss\")\n",
        "plt.plot(history.history['val_loss'], label=\"Validation loss\")\n",
        "plt.show()"
      ],
      "execution_count": 22,
      "outputs": [
        {
          "output_type": "display_data",
          "data": {
            "image/png": "[encoded data removed]",
            "text/plain": [
              "<Figure size 432x288 with 1 Axes>"
            ]
          },
          "metadata": {
            "tags": []
          }
        }
      ]
    },
    {
      "cell_type": "code",
      "metadata": {
        "id": "x5-UamSb8G3I",
        "colab_type": "code",
        "colab": {}
      },
      "source": [
        "\n",
        "\n",
        "# Create the encoder model from the tensors we previously declared.\n",
        "encoder_model = Model(encoder_inputs, [encoder_out, state_h, state_c])\n",
        "\n",
        "# Generate a new set of tensors for our new inference decoder. Note that we are using new tensors, \n",
        "# this does not preclude using the same underlying layers that we trained on. (e.g. weights/biases).\n",
        "\n",
        "inf_decoder_inputs = Input(shape=(None,), name=\"inf_decoder_inputs\")\n",
        "# We'll need to force feed the two state variables into the decoder each step.\n",
        "state_input_h = Input(shape=(units*2,), name=\"state_input_h\")\n",
        "state_input_c = Input(shape=(units*2,), name=\"state_input_c\")\n",
        "decoder_res, decoder_h, decoder_c = decoder_lstm(\n",
        "    decoder_emb(inf_decoder_inputs), \n",
        "    initial_state=[state_input_h, state_input_c])\n",
        "inf_decoder_out = decoder_d2(decoder_d1(decoder_res))\n",
        "inf_model = Model(inputs=[inf_decoder_inputs, state_input_h, state_input_c], \n",
        "                  outputs=[inf_decoder_out, decoder_h, decoder_c])\n",
        "\n"
      ],
      "execution_count": 0,
      "outputs": []
    },
    {
      "cell_type": "code",
      "metadata": {
        "id": "mjvkGbFG8Lqn",
        "colab_type": "code",
        "colab": {}
      },
      "source": [
        "# Converts the given sentence (just a string) into a vector of word IDs\n",
        "# Output is 1-D: [timesteps/words]\n",
        "\n",
        "def sentence_to_vector(sentence, lang):\n",
        "\n",
        "    pre = sentence\n",
        "    vec = np.zeros(len_input)\n",
        "    sentence_list = [lang.word2idx[s] for s in pre.split(' ')]\n",
        "    for i,w in enumerate(sentence_list):\n",
        "        vec[i] = w\n",
        "    return vec\n",
        "\n",
        "# Given an input string, an encoder model (infenc_model) and a decoder model (infmodel),\n",
        "def translate(input_sentence, infenc_model, infmodel):\n",
        "    sv = sentence_to_vector(input_sentence, input_lang)\n",
        "    sv = sv.reshape(1,len(sv))\n",
        "    [emb_out, sh, sc] = infenc_model.predict(x=sv)\n",
        "    \n",
        "    i = 0\n",
        "    start_vec = target_lang.word2idx[\"<start>\"]\n",
        "    stop_vec = target_lang.word2idx[\"<end>\"]\n",
        "    \n",
        "    cur_vec = np.zeros((1,1))\n",
        "    cur_vec[0,0] = start_vec\n",
        "    cur_word = \"<start>\"\n",
        "    output_sentence = \"\"\n",
        "\n",
        "    while cur_word != \"<end>\" and i < (len_target-1):\n",
        "        i += 1\n",
        "        if cur_word != \"<start>\":\n",
        "            output_sentence = output_sentence + \" \" + cur_word\n",
        "        x_in = [cur_vec, sh, sc]\n",
        "        [nvec, sh, sc] = infmodel.predict(x=x_in)\n",
        "        cur_vec[0,0] = np.argmax(nvec[0,0])\n",
        "        cur_word = target_lang.idx2word[np.argmax(nvec[0,0])]\n",
        "    return output_sentence"
      ],
      "execution_count": 0,
      "outputs": []
    },
    {
      "cell_type": "code",
      "metadata": {
        "id": "CQuHwOof8QjF",
        "colab_type": "code",
        "outputId": "5b125fbb-bd7c-4669-f1b1-9a61a648bc27",
        "colab": {
          "base_uri": "https://localhost:8080/",
          "height": 641
        }
      },
      "source": [
        "#Note that only words that we've trained the model on will be available, otherwise you'll get an error.\n",
        "\n",
        "\n",
        "test = [\n",
        "    'hi there',\n",
        "    'hell',\n",
        "    'presentation please fin',\n",
        "    'have a nice we',\n",
        "    'let me ',\n",
        "    'christmas Merry ',\n",
        "    'please rev',\n",
        "    'please ca',\n",
        "    'thanks fo',\n",
        "    'Let me kno',\n",
        "    'Let me know if y',\n",
        "    'this soun',\n",
        "    'is this call going t',\n",
        "    'A man si',\n",
        "    'Dog bar',\n",
        "    'blue sky',\n",
        "    'book on a ta'\n",
        "]\n",
        "  \n",
        "\n",
        "import pandas as pd\n",
        "output = []  \n",
        "for t in test:  \n",
        "  output.append({\"Input seq\":t.lower(), \"Pred. Seq\":translate(t.lower(), encoder_model, inf_model)})\n",
        "\n",
        "results_df = pd.DataFrame.from_dict(output) \n",
        "results_df.head(len(test))"
      ],
      "execution_count": 34,
      "outputs": [
        {
          "output_type": "execute_result",
          "data": {
            "text/html": [
              "<div>\n",
              "<style scoped>\n",
              "    .dataframe tbody tr th:only-of-type {\n",
              "        vertical-align: middle;\n",
              "    }\n",
              "\n",
              "    .dataframe tbody tr th {\n",
              "        vertical-align: top;\n",
              "    }\n",
              "\n",
              "    .dataframe thead th {\n",
              "        text-align: right;\n",
              "    }\n",
              "</style>\n",
              "<table border=\"1\" class=\"dataframe\">\n",
              "  <thead>\n",
              "    <tr style=\"text-align: right;\">\n",
              "      <th></th>\n",
              "      <th>Input seq</th>\n",
              "      <th>Pred. Seq</th>\n",
              "    </tr>\n",
              "  </thead>\n",
              "  <tbody>\n",
              "    <tr>\n",
              "      <th>0</th>\n",
              "      <td>hi there</td>\n",
              "      <td>a man are standing in front of a large group of people .</td>\n",
              "    </tr>\n",
              "    <tr>\n",
              "      <th>1</th>\n",
              "      <td>hell</td>\n",
              "      <td>l a young boy are playing in a sprinkler .</td>\n",
              "    </tr>\n",
              "    <tr>\n",
              "      <th>2</th>\n",
              "      <td>presentation please fin</td>\n",
              "      <td>people are performing notes , one of them , the other wearing a green shirt , who is wearing a black shirt with a yellow cozy attached to the side .</td>\n",
              "    </tr>\n",
              "    <tr>\n",
              "      <th>3</th>\n",
              "      <td>have a nice we</td>\n",
              "      <td>man are performing a takedown maneuver on a similarly dressed man .</td>\n",
              "    </tr>\n",
              "    <tr>\n",
              "      <th>4</th>\n",
              "      <td>let me</td>\n",
              "      <td>in a white and white room with a percussionist .</td>\n",
              "    </tr>\n",
              "    <tr>\n",
              "      <th>5</th>\n",
              "      <td>christmas merry</td>\n",
              "      <td>in a field of melting snow .</td>\n",
              "    </tr>\n",
              "    <tr>\n",
              "      <th>6</th>\n",
              "      <td>please rev</td>\n",
              "      <td>people are gathered around a table with glow sticks on it .</td>\n",
              "    </tr>\n",
              "    <tr>\n",
              "      <th>7</th>\n",
              "      <td>please ca</td>\n",
              "      <td>people are walking down a street .</td>\n",
              "    </tr>\n",
              "    <tr>\n",
              "      <th>8</th>\n",
              "      <td>thanks fo</td>\n",
              "      <td>people are in a city .</td>\n",
              "    </tr>\n",
              "    <tr>\n",
              "      <th>9</th>\n",
              "      <td>let me kno</td>\n",
              "      <td>of the people are performing a dance routine .</td>\n",
              "    </tr>\n",
              "    <tr>\n",
              "      <th>10</th>\n",
              "      <td>let me know if y</td>\n",
              "      <td>of students are eating food .</td>\n",
              "    </tr>\n",
              "    <tr>\n",
              "      <th>11</th>\n",
              "      <td>this soun</td>\n",
              "      <td>people are standing in front of a pretzel stand .</td>\n",
              "    </tr>\n",
              "    <tr>\n",
              "      <th>12</th>\n",
              "      <td>is this call going t</td>\n",
              "      <td>a man in a blue shirt play .</td>\n",
              "    </tr>\n",
              "    <tr>\n",
              "      <th>13</th>\n",
              "      <td>a man si</td>\n",
              "      <td>e girl in a blue shirt and jeans is sitting on a bench with a bag of charcoal sitting beside the grill , and a man wearing a striped shirt and a black shirt .</td>\n",
              "    </tr>\n",
              "    <tr>\n",
              "      <th>14</th>\n",
              "      <td>dog bar</td>\n",
              "      <td>girl in a blue shirt and white shorts playing with toys .</td>\n",
              "    </tr>\n",
              "    <tr>\n",
              "      <th>15</th>\n",
              "      <td>blue sky</td>\n",
              "      <td>people are walking down a street .</td>\n",
              "    </tr>\n",
              "    <tr>\n",
              "      <th>16</th>\n",
              "      <td>book on a ta</td>\n",
              "      <td>woman are sitting on a bench .</td>\n",
              "    </tr>\n",
              "  </tbody>\n",
              "</table>\n",
              "</div>"
            ],
            "text/plain": [
              "                  Input seq                                                                                                                                                         Pred. Seq\n",
              "0   hi there                   a man are standing in front of a large group of people .                                                                                                      \n",
              "1   hell                      l a young boy are playing in a sprinkler .                                                                                                                     \n",
              "2   presentation please fin    people are performing notes , one of them , the other wearing a green shirt , who is wearing a black shirt with a yellow cozy attached to the side .          \n",
              "3   have a nice we              man are performing a takedown maneuver on a similarly dressed man .                                                                                          \n",
              "4   let me                     in a white and white room with a percussionist .                                                                                                              \n",
              "5   christmas merry            in a field of melting snow .                                                                                                                                  \n",
              "6   please rev                 people are gathered around a table with glow sticks on it .                                                                                                   \n",
              "7   please ca                  people are walking down a street .                                                                                                                            \n",
              "8   thanks fo                  people are in a city .                                                                                                                                        \n",
              "9   let me kno                 of the people are performing a dance routine .                                                                                                                \n",
              "10  let me know if y           of students are eating food .                                                                                                                                 \n",
              "11  this soun                  people are standing in front of a pretzel stand .                                                                                                             \n",
              "12  is this call going t       a man in a blue shirt play .                                                                                                                                  \n",
              "13  a man si                   e girl in a blue shirt and jeans is sitting on a bench with a bag of charcoal sitting beside the grill , and a man wearing a striped shirt and a black shirt .\n",
              "14  dog bar                    girl in a blue shirt and white shorts playing with toys .                                                                                                     \n",
              "15  blue sky                    people are walking down a street .                                                                                                                           \n",
              "16  book on a ta                woman are sitting on a bench .                                                                                                                               "
            ]
          },
          "metadata": {
            "tags": []
          },
          "execution_count": 34
        }
      ]
    },
    {
      "cell_type": "code",
      "metadata": {
        "id": "V_10pgS38Udd",
        "colab_type": "code",
        "colab": {}
      },
      "source": [
        "# This is to save the model for the web app to use for generation\n",
        "from keras.models import model_from_json\n",
        "from keras.models import load_model\n",
        "\n",
        "# serialize model to JSON\n",
        "#  the keras model which is trained is defined as 'model' in this example\n",
        "model_json = inf_model.to_json()\n",
        "\n",
        "\n",
        "with open(\"./drive/My Drive/ML/data/model_num.json\", \"w\") as json_file:\n",
        "    json_file.write(model_json)\n",
        "\n",
        "# serialize weights to HDF5\n",
        "inf_model.save_weights(\"./drive/My Drive/ML/data/model_num.h5\")"
      ],
      "execution_count": 0,
      "outputs": []
    },
    {
      "cell_type": "code",
      "metadata": {
        "id": "mTdUt__J9UFd",
        "colab_type": "code",
        "colab": {}
      },
      "source": [
        ""
      ],
      "execution_count": 0,
      "outputs": []
    }
  ]
}