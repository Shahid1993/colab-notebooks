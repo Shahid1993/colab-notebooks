{
  "nbformat": 4,
  "nbformat_minor": 0,
  "metadata": {
    "colab": {
      "name": "05_THS_Predictive_Keyboard_Using_RNN.ipynb",
      "version": "0.3.2",
      "provenance": [],
      "collapsed_sections": [],
      "toc_visible": true,
      "machine_shape": "hm",
      "include_colab_link": true
    },
    "kernelspec": {
      "name": "python3",
      "display_name": "Python 3"
    },
    "accelerator": "GPU"
  },
  "cells": [
    {
      "cell_type": "markdown",
      "metadata": {
        "id": "view-in-github",
        "colab_type": "text"
      },
      "source": [
        "<a href=\"https://colab.research.google.com/github/Shahid1993/colab-notebooks/blob/master/word_completion_prediction.ipynb\" target=\"_parent\"><img src=\"https://colab.research.google.com/assets/colab-badge.svg\" alt=\"Open In Colab\"/></a>"
      ]
    },
    {
      "cell_type": "markdown",
      "metadata": {
        "id": "SYqcrM9LFnEg",
        "colab_type": "text"
      },
      "source": [
        "# [Making a Predictive Keyboard using Recurrent Neural Networks](https://medium.com/@curiousily/making-a-predictive-keyboard-using-recurrent-neural-networks-tensorflow-for-hackers-part-v-3f238d824218)\n",
        "\n",
        "# Recurrent Neural Networks\n",
        "\n",
        "In short, `RNN` models provide a way to not only examine the current input but the one that was provided one step back, as well. If we turn that around, we can say that the decision reached at time step t-1 directly affects the future at step t.\n",
        "\n",
        "![](https://miro.medium.com/max/947/1*K6s4Li0fTl1pSX4-WPBMMA.jpeg)\n",
        "\n",
        "## Definition\n",
        "RNNs define a recurrence relation over time steps which is given by:\n",
        "\n",
        "![](https://miro.medium.com/max/555/1*3giig0Hb58gDrl1dBdAWSw.png)\n",
        "\n",
        "Where St is the state at time step t, Xt an exogenous input at time t, Wrec and Wx are weights parameters. The feedback loops gives memory to the model because it can remember information between time steps.\n",
        "\n",
        "`RNNs` can compute the current state St from the current input Xt and previous state St−1 or predict the next state from St+1 from the current St and current input Xt. Concretely, we will pass a sequence of 40 characters and ask the model to predict the next one. We will append the new character and drop the first one and predict again. This will continue until we complete a whole word.\n",
        "\n",
        "# LSTMs\n",
        "Two major problems torment the `RNNs` — **vanishing** and **exploding gradients**. In traditional `RNNs` the gradient signal can be multiplied a large number of times by the weight matrix. Thus, the magnitude of the weights of the transition matrix can play an important role.\n",
        "\n",
        "If the weights in the matrix are small, the gradient signal becomes smaller at every training step, thus making learning very slow or completely stops it. This is called vanishing gradient. Let’s have a look at applying the sigmoid function multiple times, thus simulating the effect of vanishing gradient:\n",
        "\n",
        "![](https://miro.medium.com/max/552/1*XbVjM9cPb-BkLrWGNujEQg.png)\n",
        "\n",
        "Conversely, the exploding gradient refers to the weights in this matrix being so large that it can cause learning to diverge.\n",
        "\n",
        "\n",
        "`LSTM` model is a special kind of `RNN` that learns long-term dependencies. It introduces new structure — the memory cell that is composed of four elements: input, forget and output gates and a neuron that connects to itself:\n",
        "\n",
        "![](https://miro.medium.com/max/606/1*ZskkUQCNT0i_00shHYSj1A.png)\n",
        "\n",
        "`LSTMs` *fight the gradient vanishing problem by preserving the error that can be backpropagated through time and layers*. By maintaining a more constant error, they allow for learning long-term dependencies. On another hand, *exploding is controlled with **gradient clipping***, that is the gradient is not allowed to go above some predefined value.\n",
        "\n",
        "\n",
        "# Setup\n",
        "Let’s properly seed our random number generator and import all required modules:"
      ]
    },
    {
      "cell_type": "code",
      "metadata": {
        "id": "4E9hBlVg8XVc",
        "colab_type": "code",
        "colab": {
          "base_uri": "https://localhost:8080/",
          "height": 120
        },
        "outputId": "b074b78d-00cc-4cdd-e68b-028b17761319"
      },
      "source": [
        "# Mounting Google Drive to Load Data\n",
        "from google.colab import drive\n",
        "drive.mount('/content/drive')"
      ],
      "execution_count": 1,
      "outputs": [
        {
          "output_type": "stream",
          "text": [
            "Go to this URL in a browser: https://accounts.google.com/o/oauth2/auth?client_id=947318989803-6bn6qk8qdgf4n4g3pfee6491hc0brc4i.apps.googleusercontent.com&redirect_uri=urn%3Aietf%3Awg%3Aoauth%3A2.0%3Aoob&scope=email%20https%3A%2F%2Fwww.googleapis.com%2Fauth%2Fdocs.test%20https%3A%2F%2Fwww.googleapis.com%2Fauth%2Fdrive%20https%3A%2F%2Fwww.googleapis.com%2Fauth%2Fdrive.photos.readonly%20https%3A%2F%2Fwww.googleapis.com%2Fauth%2Fpeopleapi.readonly&response_type=code\n",
            "\n",
            "Enter your authorization code:\n",
            "··········\n",
            "Mounted at /content/drive\n"
          ],
          "name": "stdout"
        }
      ]
    },
    {
      "cell_type": "code",
      "metadata": {
        "id": "C4SB6_MxELfi",
        "colab_type": "code",
        "colab": {}
      },
      "source": [
        "import numpy as np\n",
        "np.random.seed(42)\n",
        "import tensorflow as tf\n",
        "tf.set_random_seed(42)\n",
        "from keras.models import Sequential, load_model\n",
        "from keras.layers import Dense, Activation\n",
        "from keras.layers import LSTM, Dropout, CuDNNLSTM\n",
        "from keras.layers import TimeDistributed\n",
        "from keras.layers.core import Dense, Activation, Dropout, RepeatVector\n",
        "from keras.optimizers import RMSprop\n",
        "import matplotlib.pyplot as plt\n",
        "import pickle\n",
        "import sys\n",
        "import heapq\n",
        "import seaborn as sns\n",
        "from pylab import rcParams\n",
        "\n",
        "%matplotlib inline\n",
        "\n",
        "sns.set(style='whitegrid', palette='muted', font_scale=1.5)\n",
        "\n",
        "rcParams['figure.figsize'] = 12, 5"
      ],
      "execution_count": 0,
      "outputs": []
    },
    {
      "cell_type": "markdown",
      "metadata": {
        "id": "F94LTUFTJHLr",
        "colab_type": "text"
      },
      "source": [
        "# Loading the data"
      ]
    },
    {
      "cell_type": "code",
      "metadata": {
        "id": "Thi3UxyFI2q2",
        "colab_type": "code",
        "colab": {
          "base_uri": "https://localhost:8080/",
          "height": 33
        },
        "outputId": "0477960b-a01e-4098-c245-66bd54e30c2b"
      },
      "source": [
        "#path = 'nietzsche.txt'\n",
        "\n",
        "path = \"./drive/My Drive/ML/data/nietzsche.txt\"\n",
        "\n",
        "#path = \"./drive/My Drive/ML/data/1-billion-word-language-modeling-benchmark-r13output/training-monolingual.tokenized.shuffled/news.en-00001-of-00100\"\n",
        "\n",
        "text = open(path).read().lower()\n",
        "print('corpus length:', len(text))"
      ],
      "execution_count": 31,
      "outputs": [
        {
          "output_type": "stream",
          "text": [
            "corpus length: 600902\n"
          ],
          "name": "stdout"
        }
      ]
    },
    {
      "cell_type": "markdown",
      "metadata": {
        "id": "wnUkGlwGJcCU",
        "colab_type": "text"
      },
      "source": [
        "# Preprocessing\n",
        "\n",
        "Let’s find all unique chars in the corpus and create char to index and index to char maps:"
      ]
    },
    {
      "cell_type": "code",
      "metadata": {
        "id": "W_QQg92UJQ28",
        "colab_type": "code",
        "colab": {
          "base_uri": "https://localhost:8080/",
          "height": 103
        },
        "outputId": "d60992bf-058a-4682-e457-54493a42e2a5"
      },
      "source": [
        "chars = sorted(list(set(text)))\n",
        "char_indices = dict((c, i) for i, c in enumerate(chars))\n",
        "indices_char = dict((i, c) for i, c in enumerate(chars))\n",
        "\n",
        "print(f'unique chars: {len(chars)}')\n",
        "\n",
        "print(chars)\n",
        "\n",
        "print(''.join(map(str, chars)))"
      ],
      "execution_count": 32,
      "outputs": [
        {
          "output_type": "stream",
          "text": [
            "unique chars: 59\n",
            "['\\n', ' ', '!', '\"', \"'\", '(', ')', ',', '-', '.', '0', '1', '2', '3', '4', '5', '6', '7', '8', '9', ':', ';', '=', '?', '[', ']', '_', 'a', 'b', 'c', 'd', 'e', 'f', 'g', 'h', 'i', 'j', 'k', 'l', 'm', 'n', 'o', 'p', 'q', 'r', 's', 't', 'u', 'v', 'w', 'x', 'y', 'z', '¤', '¦', '©', '«', 'ã', '†']\n",
            "\n",
            " !\"'(),-.0123456789:;=?[]_abcdefghijklmnopqrstuvwxyz¤¦©«ã†\n"
          ],
          "name": "stdout"
        }
      ]
    },
    {
      "cell_type": "code",
      "metadata": {
        "id": "hjQbkPYgGIOy",
        "colab_type": "code",
        "colab": {}
      },
      "source": [
        "# def clean_special_chars(text, punct):\n",
        "#     for p in punct:\n",
        "#         text = text.replace(p, '')\n",
        "#     return text\n",
        "\n",
        "      \n",
        "# def preprocess(data):\n",
        "#     output = []\n",
        "#     punct = '\\n#$<=>[\\\\]@^{|}~¡¢£¤¥©«¬®°²´µ¶·º»¼½¾¿×àáâãäåæçèéêëíîïñóôõöøùúüþąćĕěœšŵžʼ˚а‎‐‑‚‟†•′₤€∆④●♥ﬁ（）￡�'\n",
        "#     for line in data:\n",
        "#          pline= clean_special_chars(line.lower(), punct)\n",
        "#          output.append(pline)\n",
        "#     return output  \n",
        "  \n",
        "# text = preprocess(text) \n",
        "\n",
        "      \n",
        "def preprocess(data):\n",
        "    punct = '\\n#$<=>[\\\\]@^{|}~¡¢£¤¥©«¬®°²´µ¶·º»¼½¾¿×àáâãäåæçèéêëíîïñóôõöøùúüþąćĕěœšŵžʼ˚а‎‐‑‚‟†•′₤€∆④●♥ﬁ（）￡�'\n",
        "    \n",
        "    for p in punct:\n",
        "        data = data.replace(p, '')\n",
        "        \n",
        "    return data\n",
        "  \n",
        "text = preprocess(text)"
      ],
      "execution_count": 0,
      "outputs": []
    },
    {
      "cell_type": "code",
      "metadata": {
        "id": "ij10pwArHZ93",
        "colab_type": "code",
        "colab": {
          "base_uri": "https://localhost:8080/",
          "height": 103
        },
        "outputId": "33205500-e99c-4d68-acf3-0f6536b8ba13"
      },
      "source": [
        "chars = sorted(list(set(text)))\n",
        "char_indices = dict((c, i) for i, c in enumerate(chars))\n",
        "indices_char = dict((i, c) for i, c in enumerate(chars))\n",
        "\n",
        "print(f'unique chars: {len(chars)}')\n",
        "\n",
        "print(chars)\n",
        "\n",
        "print(''.join(map(str, chars)))\n",
        "\n",
        "print('corpus length:', len(text))"
      ],
      "execution_count": 34,
      "outputs": [
        {
          "output_type": "stream",
          "text": [
            "unique chars: 50\n",
            "[' ', '!', '\"', \"'\", '(', ')', ',', '-', '.', '0', '1', '2', '3', '4', '5', '6', '7', '8', '9', ':', ';', '?', '_', 'a', 'b', 'c', 'd', 'e', 'f', 'g', 'h', 'i', 'j', 'k', 'l', 'm', 'n', 'o', 'p', 'q', 'r', 's', 't', 'u', 'v', 'w', 'x', 'y', 'z', '¦']\n",
            " !\"'(),-.0123456789:;?_abcdefghijklmnopqrstuvwxyz¦\n",
            "corpus length: 590491\n"
          ],
          "name": "stdout"
        }
      ]
    },
    {
      "cell_type": "markdown",
      "metadata": {
        "id": "0sTHGCQEJubo",
        "colab_type": "text"
      },
      "source": [
        "Next, let’s cut the corpus into chunks of `40` characters, spacing the sequences by `3` characters. Additionally, we will store the next character (the one we need to predict) for every sequence: "
      ]
    },
    {
      "cell_type": "code",
      "metadata": {
        "id": "4IYnDRuGJgBW",
        "colab_type": "code",
        "colab": {
          "base_uri": "https://localhost:8080/",
          "height": 33
        },
        "outputId": "f20b1e94-49c8-4e27-8b19-ea781547c5d9"
      },
      "source": [
        "SEQUENCE_LENGTH = 40\n",
        "step = 3\n",
        "sentences = []\n",
        "next_chars = []\n",
        "for i in range(0, len(text) - SEQUENCE_LENGTH, step):\n",
        "    sentences.append(text[i: i + SEQUENCE_LENGTH])\n",
        "    next_chars.append(text[i + SEQUENCE_LENGTH])\n",
        "print(f'num training examples: {len(sentences)}')"
      ],
      "execution_count": 35,
      "outputs": [
        {
          "output_type": "stream",
          "text": [
            "num training examples: 196817\n"
          ],
          "name": "stdout"
        }
      ]
    },
    {
      "cell_type": "markdown",
      "metadata": {
        "id": "Z5i__Sj2KHT_",
        "colab_type": "text"
      },
      "source": [
        "It is time for generating our features and labels. We will use the previously generated sequences and characters that need to be predicted to create one-hot encoded vectors using the `char_indices` map:"
      ]
    },
    {
      "cell_type": "code",
      "metadata": {
        "id": "TgmXRdsyK4ao",
        "colab_type": "code",
        "colab": {}
      },
      "source": [
        "X = np.zeros((len(sentences), SEQUENCE_LENGTH, len(chars)), dtype=np.bool)\n",
        "y = np.zeros((len(sentences), len(chars)), dtype=np.bool)\n",
        "for i, sentence in enumerate(sentences):\n",
        "    for t, char in enumerate(sentence):\n",
        "        X[i, t, char_indices[char]] = 1\n",
        "    y[i, char_indices[next_chars[i]]] = 1"
      ],
      "execution_count": 0,
      "outputs": []
    },
    {
      "cell_type": "markdown",
      "metadata": {
        "id": "F3ttQt5EK91p",
        "colab_type": "text"
      },
      "source": [
        "Let’s have a look at a single training sequence:"
      ]
    },
    {
      "cell_type": "code",
      "metadata": {
        "id": "2U19YVLEJ1ti",
        "colab_type": "code",
        "colab": {
          "base_uri": "https://localhost:8080/",
          "height": 33
        },
        "outputId": "1e0ab700-9f81-42b9-a8f2-dedb84eadf7d"
      },
      "source": [
        "sentences[1091]"
      ],
      "execution_count": 37,
      "outputs": [
        {
          "output_type": "execute_result",
          "data": {
            "text/plain": [
              "'th such a tensely strained bow one can n'"
            ]
          },
          "metadata": {
            "tags": []
          },
          "execution_count": 37
        }
      ]
    },
    {
      "cell_type": "markdown",
      "metadata": {
        "id": "qM2c6xgVKa9u",
        "colab_type": "text"
      },
      "source": [
        "The character that needs to be predicted for it is:"
      ]
    },
    {
      "cell_type": "code",
      "metadata": {
        "id": "xtLc4jlAKSqJ",
        "colab_type": "code",
        "colab": {
          "base_uri": "https://localhost:8080/",
          "height": 33
        },
        "outputId": "97724eab-ae79-4ca7-efc4-fb2c4b7a73b4"
      },
      "source": [
        "next_chars[1091]"
      ],
      "execution_count": 38,
      "outputs": [
        {
          "output_type": "execute_result",
          "data": {
            "text/plain": [
              "'o'"
            ]
          },
          "metadata": {
            "tags": []
          },
          "execution_count": 38
        }
      ]
    },
    {
      "cell_type": "markdown",
      "metadata": {
        "id": "MQVj3KPiKuDJ",
        "colab_type": "text"
      },
      "source": [
        "The encoded (one-hot) data looks like this:"
      ]
    },
    {
      "cell_type": "code",
      "metadata": {
        "id": "vlPN9eddKdzd",
        "colab_type": "code",
        "colab": {
          "base_uri": "https://localhost:8080/",
          "height": 133
        },
        "outputId": "c1b88b04-f255-4913-acc7-1d3c2e201f02"
      },
      "source": [
        "X[0]"
      ],
      "execution_count": 39,
      "outputs": [
        {
          "output_type": "execute_result",
          "data": {
            "text/plain": [
              "array([[False, False, False, ..., False, False, False],\n",
              "       [False, False, False, ..., False, False, False],\n",
              "       [False, False, False, ..., False, False, False],\n",
              "       ...,\n",
              "       [False, False, False, ..., False, False, False],\n",
              "       [False, False, False, ..., False, False, False],\n",
              "       [False, False, False, ..., False, False, False]])"
            ]
          },
          "metadata": {
            "tags": []
          },
          "execution_count": 39
        }
      ]
    },
    {
      "cell_type": "code",
      "metadata": {
        "id": "cRzau2Y8Kwce",
        "colab_type": "code",
        "colab": {
          "base_uri": "https://localhost:8080/",
          "height": 116
        },
        "outputId": "81729a4d-9e5b-45d2-e28c-8748a144fff3"
      },
      "source": [
        "y[0]"
      ],
      "execution_count": 40,
      "outputs": [
        {
          "output_type": "execute_result",
          "data": {
            "text/plain": [
              "array([False, False, False, False, False, False, False, False, False,\n",
              "       False, False, False, False, False, False, False, False, False,\n",
              "       False, False, False, False, False, False, False, False, False,\n",
              "       False, False, False, False, False, False, False, False, False,\n",
              "       False, False, False, False, False, False, False, False, False,\n",
              "        True, False, False, False, False])"
            ]
          },
          "metadata": {
            "tags": []
          },
          "execution_count": 40
        }
      ]
    },
    {
      "cell_type": "markdown",
      "metadata": {
        "id": "5OeaK7vKLTPK",
        "colab_type": "text"
      },
      "source": [
        "And for the dimensions:"
      ]
    },
    {
      "cell_type": "code",
      "metadata": {
        "id": "b7Xy5aXdLKSK",
        "colab_type": "code",
        "colab": {
          "base_uri": "https://localhost:8080/",
          "height": 33
        },
        "outputId": "71e2da74-510d-4ab4-a45b-6e43ada63e6e"
      },
      "source": [
        "X.shape"
      ],
      "execution_count": 41,
      "outputs": [
        {
          "output_type": "execute_result",
          "data": {
            "text/plain": [
              "(196817, 40, 50)"
            ]
          },
          "metadata": {
            "tags": []
          },
          "execution_count": 41
        }
      ]
    },
    {
      "cell_type": "code",
      "metadata": {
        "id": "ddGXaBPXLU6r",
        "colab_type": "code",
        "colab": {
          "base_uri": "https://localhost:8080/",
          "height": 33
        },
        "outputId": "b1f24925-7e93-4a41-9b1c-cfc76bc53cd7"
      },
      "source": [
        "y.shape"
      ],
      "execution_count": 42,
      "outputs": [
        {
          "output_type": "execute_result",
          "data": {
            "text/plain": [
              "(196817, 50)"
            ]
          },
          "metadata": {
            "tags": []
          },
          "execution_count": 42
        }
      ]
    },
    {
      "cell_type": "markdown",
      "metadata": {
        "id": "SHyGIHhQLb0V",
        "colab_type": "text"
      },
      "source": [
        "We have `200285` training examples, each sequence has length of `40` with `57` unique chars.\n",
        "\n",
        "# Building the model\n",
        "\n",
        "The model we’re going to train is pretty straight forward. Single `LSTM` layer with `128` neurons which accepts input of shape (`40` — the length of a sequence, `57` — the number of unique characters in our dataset). A fully connected layer (for our output) is added after that. It has `57` neurons and softmax for activation function:"
      ]
    },
    {
      "cell_type": "code",
      "metadata": {
        "id": "pLOtj1QiLXzM",
        "colab_type": "code",
        "colab": {}
      },
      "source": [
        "model = Sequential()\n",
        "#model.add(LSTM(128, input_shape=(SEQUENCE_LENGTH, len(chars))))\n",
        "\n",
        "#model.add(CuDNNLSTM(128, input_shape=(None, len(chars))))\n",
        "\n",
        "model.add(CuDNNLSTM(128, input_shape=(None, len(chars)), return_sequences=True))\n",
        "model.add(CuDNNLSTM(128, return_sequences=True))\n",
        "model.add(CuDNNLSTM(128))\n",
        "\n",
        "#Dropout added to avoid overfitting\n",
        "model.add(Dropout(rate = 0.2))\n",
        "\n",
        "# build model using keras documentation recommended optimizer initialization\n",
        "optimizer = RMSprop(lr=0.001, rho=0.9, epsilon=1e-08, decay=0.0)\n",
        "\n",
        "model.add(Dense(len(chars)))\n",
        "model.add(Activation('softmax'))"
      ],
      "execution_count": 0,
      "outputs": []
    },
    {
      "cell_type": "code",
      "metadata": {
        "id": "smm5LmvsOLiT",
        "colab_type": "code",
        "colab": {
          "base_uri": "https://localhost:8080/",
          "height": 350
        },
        "outputId": "412a5ab6-852a-4635-b08d-91e1fe5d0bc4"
      },
      "source": [
        "model.summary()"
      ],
      "execution_count": 44,
      "outputs": [
        {
          "output_type": "stream",
          "text": [
            "Model: \"sequential_2\"\n",
            "_________________________________________________________________\n",
            "Layer (type)                 Output Shape              Param #   \n",
            "=================================================================\n",
            "cu_dnnlstm_4 (CuDNNLSTM)     (None, None, 128)         92160     \n",
            "_________________________________________________________________\n",
            "cu_dnnlstm_5 (CuDNNLSTM)     (None, None, 128)         132096    \n",
            "_________________________________________________________________\n",
            "cu_dnnlstm_6 (CuDNNLSTM)     (None, 128)               132096    \n",
            "_________________________________________________________________\n",
            "dropout_2 (Dropout)          (None, 128)               0         \n",
            "_________________________________________________________________\n",
            "dense_2 (Dense)              (None, 50)                6450      \n",
            "_________________________________________________________________\n",
            "activation_2 (Activation)    (None, 50)                0         \n",
            "=================================================================\n",
            "Total params: 362,802\n",
            "Trainable params: 362,802\n",
            "Non-trainable params: 0\n",
            "_________________________________________________________________\n"
          ],
          "name": "stdout"
        }
      ]
    },
    {
      "cell_type": "markdown",
      "metadata": {
        "id": "eg3LQ-cCMOLS",
        "colab_type": "text"
      },
      "source": [
        "# Training\n",
        "\n",
        "Our model is trained for `20` epochs using `RMSProp` optimizer and uses `5%` of the data for validation:"
      ]
    },
    {
      "cell_type": "code",
      "metadata": {
        "id": "g0tbA0Z8MFeR",
        "colab_type": "code",
        "colab": {
          "base_uri": "https://localhost:8080/",
          "height": 553
        },
        "outputId": "057308f8-043d-4fea-ae4b-4c83bb17c12f"
      },
      "source": [
        "#optimizer = RMSprop(lr=0.01)\n",
        "model.compile(loss='categorical_crossentropy', optimizer=optimizer, metrics=['accuracy'])\n",
        "history = model.fit(X, y, validation_split=0.05, batch_size=128, epochs=15, shuffle=True).history"
      ],
      "execution_count": 45,
      "outputs": [
        {
          "output_type": "stream",
          "text": [
            "Train on 186976 samples, validate on 9841 samples\n",
            "Epoch 1/15\n",
            "186976/186976 [==============================] - 46s 247us/step - loss: 2.5242 - acc: 0.2785 - val_loss: 2.1670 - val_acc: 0.3651\n",
            "Epoch 2/15\n",
            "186976/186976 [==============================] - 45s 242us/step - loss: 2.0713 - acc: 0.4002 - val_loss: 1.9043 - val_acc: 0.4421\n",
            "Epoch 3/15\n",
            "186976/186976 [==============================] - 45s 242us/step - loss: 1.8946 - acc: 0.4526 - val_loss: 1.7707 - val_acc: 0.4844\n",
            "Epoch 4/15\n",
            "186976/186976 [==============================] - 45s 242us/step - loss: 1.7827 - acc: 0.4826 - val_loss: 1.6902 - val_acc: 0.5071\n",
            "Epoch 5/15\n",
            "186976/186976 [==============================] - 45s 242us/step - loss: 1.7021 - acc: 0.5046 - val_loss: 1.6463 - val_acc: 0.5199\n",
            "Epoch 6/15\n",
            "186976/186976 [==============================] - 45s 242us/step - loss: 1.6405 - acc: 0.5223 - val_loss: 1.5858 - val_acc: 0.5368\n",
            "Epoch 7/15\n",
            "186976/186976 [==============================] - 45s 241us/step - loss: 1.5883 - acc: 0.5363 - val_loss: 1.5634 - val_acc: 0.5515\n",
            "Epoch 8/15\n",
            "186976/186976 [==============================] - 45s 242us/step - loss: 1.5465 - acc: 0.5480 - val_loss: 1.5387 - val_acc: 0.5553\n",
            "Epoch 9/15\n",
            "186976/186976 [==============================] - 46s 245us/step - loss: 1.5087 - acc: 0.5582 - val_loss: 1.5311 - val_acc: 0.5586\n",
            "Epoch 10/15\n",
            "186976/186976 [==============================] - 45s 242us/step - loss: 1.4742 - acc: 0.5679 - val_loss: 1.5128 - val_acc: 0.5592\n",
            "Epoch 11/15\n",
            "186976/186976 [==============================] - 45s 243us/step - loss: 1.4444 - acc: 0.5749 - val_loss: 1.5125 - val_acc: 0.5604\n",
            "Epoch 12/15\n",
            "186976/186976 [==============================] - 45s 242us/step - loss: 1.4178 - acc: 0.5832 - val_loss: 1.5049 - val_acc: 0.5682\n",
            "Epoch 13/15\n",
            "186976/186976 [==============================] - 45s 243us/step - loss: 1.3925 - acc: 0.5891 - val_loss: 1.4941 - val_acc: 0.5673\n",
            "Epoch 14/15\n",
            "186976/186976 [==============================] - 45s 242us/step - loss: 1.3663 - acc: 0.5959 - val_loss: 1.5018 - val_acc: 0.5686\n",
            "Epoch 15/15\n",
            "186976/186976 [==============================] - 45s 242us/step - loss: 1.3396 - acc: 0.6035 - val_loss: 1.4971 - val_acc: 0.5694\n"
          ],
          "name": "stdout"
        }
      ]
    },
    {
      "cell_type": "markdown",
      "metadata": {
        "id": "Ac2c5RFFWRu-",
        "colab_type": "text"
      },
      "source": [
        "# Saving"
      ]
    },
    {
      "cell_type": "code",
      "metadata": {
        "id": "FZPaw3KcMZCc",
        "colab_type": "code",
        "colab": {}
      },
      "source": [
        "model.save('predictive_keyboard_keras_model.h5')\n",
        "pickle.dump(history, open(\"predictive_keyboard_history.p\", \"wb\"))"
      ],
      "execution_count": 0,
      "outputs": []
    },
    {
      "cell_type": "markdown",
      "metadata": {
        "id": "BNfAucCFXRU5",
        "colab_type": "text"
      },
      "source": [
        "And load it back, just to make sure it works:"
      ]
    },
    {
      "cell_type": "code",
      "metadata": {
        "id": "Hvqx5bJAWV7X",
        "colab_type": "code",
        "colab": {}
      },
      "source": [
        "model = load_model('predictive_keyboard_keras_model.h5')\n",
        "history = pickle.load(open(\"predictive_keyboard_history.p\", \"rb\"))"
      ],
      "execution_count": 0,
      "outputs": []
    },
    {
      "cell_type": "markdown",
      "metadata": {
        "id": "v2Wz70QJXfi3",
        "colab_type": "text"
      },
      "source": [
        "# Evaluation\n",
        "\n",
        "Let’s have a look at how our accuracy and loss change over training epochs:"
      ]
    },
    {
      "cell_type": "code",
      "metadata": {
        "id": "zUKBad_OXbrP",
        "colab_type": "code",
        "colab": {
          "base_uri": "https://localhost:8080/",
          "height": 372
        },
        "outputId": "6908b673-0875-4dd8-dc32-48f2e6c056e9"
      },
      "source": [
        "plt.plot(history['acc'])\n",
        "plt.plot(history['val_acc'])\n",
        "plt.title('model accuracy')\n",
        "plt.ylabel('accuracy')\n",
        "plt.xlabel('epoch')\n",
        "plt.legend(['train', 'test'], loc='upper left');"
      ],
      "execution_count": 48,
      "outputs": [
        {
          "output_type": "display_data",
          "data": {
            "image/png": "[encoded data removed]",
            "text/plain": [
              "<Figure size 864x360 with 1 Axes>"
            ]
          },
          "metadata": {
            "tags": []
          }
        }
      ]
    },
    {
      "cell_type": "code",
      "metadata": {
        "id": "6w00E0MZX6Yf",
        "colab_type": "code",
        "colab": {
          "base_uri": "https://localhost:8080/",
          "height": 372
        },
        "outputId": "f908a01b-18ee-4cef-fffe-45a9d81e5909"
      },
      "source": [
        "plt.plot(history['loss'])\n",
        "plt.plot(history['val_loss'])\n",
        "plt.title('model loss')\n",
        "plt.ylabel('loss')\n",
        "plt.xlabel('epoch')\n",
        "plt.legend(['train', 'test'], loc='upper left');"
      ],
      "execution_count": 49,
      "outputs": [
        {
          "output_type": "display_data",
          "data": {
            "image/png": "[encoded data removed]",
            "text/plain": [
              "<Figure size 864x360 with 1 Axes>"
            ]
          },
          "metadata": {
            "tags": []
          }
        }
      ]
    },
    {
      "cell_type": "markdown",
      "metadata": {
        "id": "1d-bs7HpYG02",
        "colab_type": "text"
      },
      "source": [
        "# Let’s put our model to the test"
      ]
    },
    {
      "cell_type": "code",
      "metadata": {
        "id": "zkdIoEh7YACD",
        "colab_type": "code",
        "colab": {}
      },
      "source": [
        "# def prepare_input(text):\n",
        "#     x = np.zeros((1, SEQUENCE_LENGTH, len(chars)))\n",
        "#     for t, char in enumerate(text):\n",
        "#         x[0, t, char_indices[char]] = 1.\n",
        "        \n",
        "#     return x\n",
        "  \n",
        "def prepare_input(text):\n",
        "    x = np.zeros((1, len(text), len(chars)))\n",
        "    for t, char in enumerate(text):\n",
        "        x[0, t, char_indices[char]] = 1.\n",
        "        \n",
        "    return x"
      ],
      "execution_count": 0,
      "outputs": []
    },
    {
      "cell_type": "markdown",
      "metadata": {
        "id": "-DxkTnofYfLE",
        "colab_type": "text"
      },
      "source": [
        "Remember that our sequences must be `40` characters long. So we make a tensor with shape `(1, 40, 59)`, initialized with zeros. Then, a value of 1 is placed for each character in the passed text. We must not forget to use the lowercase version of the text:"
      ]
    },
    {
      "cell_type": "code",
      "metadata": {
        "id": "qsGnD5L_YLDt",
        "colab_type": "code",
        "colab": {
          "base_uri": "https://localhost:8080/",
          "height": 133
        },
        "outputId": "e2f6cb10-f317-4630-f787-4148593710e2"
      },
      "source": [
        "prepare_input(\"This is an example of input for our LSTM\".lower())\n",
        "#prepare_input(\"Tests\".lower())"
      ],
      "execution_count": 51,
      "outputs": [
        {
          "output_type": "execute_result",
          "data": {
            "text/plain": [
              "array([[[0., 0., 0., ..., 0., 0., 0.],\n",
              "        [0., 0., 0., ..., 0., 0., 0.],\n",
              "        [0., 0., 0., ..., 0., 0., 0.],\n",
              "        ...,\n",
              "        [0., 0., 0., ..., 0., 0., 0.],\n",
              "        [0., 0., 0., ..., 0., 0., 0.],\n",
              "        [0., 0., 0., ..., 0., 0., 0.]]])"
            ]
          },
          "metadata": {
            "tags": []
          },
          "execution_count": 51
        }
      ]
    },
    {
      "cell_type": "markdown",
      "metadata": {
        "id": "KpCVMdbPY0c1",
        "colab_type": "text"
      },
      "source": [
        "#### Next up, the sample function:\n",
        "\n",
        "This function allows us to ask our model what are the next `n` most probable characters."
      ]
    },
    {
      "cell_type": "code",
      "metadata": {
        "id": "3q8iomTuYqC2",
        "colab_type": "code",
        "colab": {}
      },
      "source": [
        "def sample(preds, top_n=3):\n",
        "    preds = np.asarray(preds).astype('float64')\n",
        "    preds = np.log(preds)\n",
        "    exp_preds = np.exp(preds)\n",
        "    preds = exp_preds / np.sum(exp_preds)\n",
        "    \n",
        "    return heapq.nlargest(top_n, range(len(preds)), preds.take)"
      ],
      "execution_count": 0,
      "outputs": []
    },
    {
      "cell_type": "markdown",
      "metadata": {
        "id": "oM-cfTlcZBbp",
        "colab_type": "text"
      },
      "source": [
        "Now for the **prediction functions** themselves:\n",
        "\n",
        "This function predicts next character until space is predicted (you can extend that to punctuation symbols, right?). It does so by repeatedly preparing input, asking our model for predictions and sampling from them."
      ]
    },
    {
      "cell_type": "code",
      "metadata": {
        "id": "DxYlmesxY5lt",
        "colab_type": "code",
        "colab": {}
      },
      "source": [
        "def predict_completion(text):\n",
        "    original_text = text\n",
        "    generated = text\n",
        "    completion = ''\n",
        "    while True:\n",
        "        x = prepare_input(text)\n",
        "        preds = model.predict(x, verbose=0)[0]\n",
        "        next_index = sample(preds, top_n=1)[0]\n",
        "        next_char = indices_char[next_index]\n",
        "        text = text[1:] + next_char\n",
        "        completion += next_char\n",
        "        \n",
        "        if len(original_text + completion) + 2 > len(original_text) and next_char == ' ':\n",
        "            return completion"
      ],
      "execution_count": 0,
      "outputs": []
    },
    {
      "cell_type": "markdown",
      "metadata": {
        "id": "XuGg-5ctZfvo",
        "colab_type": "text"
      },
      "source": [
        "The final piece of the puzzle — `predict_completions` wraps everything and allow us to predict multiple completions:"
      ]
    },
    {
      "cell_type": "code",
      "metadata": {
        "id": "CaZRQz3NZLzm",
        "colab_type": "code",
        "colab": {}
      },
      "source": [
        "def predict_completions(text, n=3):\n",
        "    x = prepare_input(text)\n",
        "    preds = model.predict(x, verbose=0)[0]\n",
        "    next_indices = sample(preds, n)\n",
        "    return [indices_char[idx] + predict_completion(text[1:] + indices_char[idx]) for idx in next_indices]"
      ],
      "execution_count": 0,
      "outputs": []
    },
    {
      "cell_type": "markdown",
      "metadata": {
        "id": "Ueztu070ZuvY",
        "colab_type": "text"
      },
      "source": [
        "Let’s use sequences of 40 characters that we will use as seed for our completions. All of these are quotes from Friedrich Nietzsche himself:"
      ]
    },
    {
      "cell_type": "code",
      "metadata": {
        "id": "JkucGZ1IZpbh",
        "colab_type": "code",
        "colab": {}
      },
      "source": [
        "# actual_text = [\n",
        "#     \"It is not a lack of love, but a lack of friendship that makes unhappy marriages.\",\n",
        "#     \"That which does not kill us makes us stronger.\",\n",
        "#     \"I'm not upset that you lied to me, I'm upset that from now on I can't believe you.\",\n",
        "#     \"And those who were seen dancing were thought to be insane by those who could not hear the music.\",\n",
        "#     \"It is hard enough to remember my opinions, without also remembering my reasons for them!\",\n",
        "#     \"A man lying on a comfortable sofa is listening to his wi\",\n",
        "#     \"Assuming the predictions are probabilistic, novel sequences can be generated from a trai\",\n",
        "#     \"The networks performance is competitive with state-of-the-art language models, and it works almost\",\n",
        "#     \"This document is the initial part of a study to predict next words from a text dataset\"\n",
        "# ]\n",
        "\n",
        "input = [\n",
        "    \"It is not a lack of lov\",\n",
        "    \"That which does not kill us makes us stro\",\n",
        "    \"I'm not upset that you lied to me, I'm upset that from now on I can't bel\",\n",
        "    \"And those who were seen dan\",\n",
        "    \"It is hard enough to remember my opini\",\n",
        "    \"A man lying on a comfortable ch\",\n",
        "    \"Assuming the pre\",\n",
        "    \"The networks performance is competi\",\n",
        "    \"The networks performance is competitive with state-of-the-art lan\",\n",
        "    \"This document is the initial part of a study to pre\",\n",
        "    \"This document is the initial part of a study to pred\",\n",
        "    \"Assuming the prediction\",\n",
        "    \"Assuming the predictions are probabilistic, novel sequences can be gene\",\n",
        "    \"Assuming the predictions are probabilistic, novel sequences can be generat\"\n",
        "]"
      ],
      "execution_count": 0,
      "outputs": []
    },
    {
      "cell_type": "code",
      "metadata": {
        "id": "721JtJkzZxuL",
        "colab_type": "code",
        "colab": {
          "base_uri": "https://localhost:8080/",
          "height": 716
        },
        "outputId": "ef7bcd89-2298-4707-a020-7d0c3b753aef"
      },
      "source": [
        "for i in input:\n",
        "    seq = i.lower()\n",
        "    print(seq)\n",
        "    print(predict_completions(seq, 5))\n",
        "    print()"
      ],
      "execution_count": 92,
      "outputs": [
        {
          "output_type": "stream",
          "text": [
            "it is not a lack of lov\n",
            "['e ', 'ical ', 'ality ', 'oure ', 'uling ']\n",
            "\n",
            "that which does not kill us makes us stro\n",
            "['ng ', 'dger ', 've ', 'gget ', 'w ']\n",
            "\n",
            "i'm not upset that you lied to me, i'm upset that from now on i can't bel\n",
            "['ieve ', 'ong ', 'aes ', 'ess ', 'low ']\n",
            "\n",
            "and those who were seen dan\n",
            "['gerous ', 'king ', 'ders ', 'y ', 'ce ']\n",
            "\n",
            "it is hard enough to remember my opini\n",
            "['on ', 'an ', 'ty ', 'fic ', 's ']\n",
            "\n",
            "a man lying on a comfortable ch\n",
            "['ild ', 'aracteristic ', 'ristian ', 'erristic ', 'omes ']\n",
            "\n",
            "assuming the pre\n",
            "['sent ', 'dication ', 'vious ', 'cisely ', 'jucial ']\n",
            "\n",
            "the networks performance is competi\n",
            "['tion ', 'ce, ', 'ences ', 'sion ', 'ons ']\n",
            "\n",
            "the networks performance is competitive with state-of-the-art lan\n",
            "['ger ', 'ds ', 'k ', 'ce ', 'ture ']\n",
            "\n",
            "this document is the initial part of a study to pre\n",
            "['sent ', 'dicate ', 'cisely ', 'vail ', 'juce ']\n",
            "\n",
            "this document is the initial part of a study to pred\n",
            "['icate ', 'ention ', 'ucate ', 'action ', 'ocation ']\n",
            "\n",
            "assuming the prediction\n",
            "[' of ', ', ', 's ', '. ', 'al ']\n",
            "\n",
            "assuming the predictions are probabilistic, novel sequences can be gene\n",
            "['rally ', 'ution ', 'man ', 'st ', 'dations, ']\n",
            "\n",
            "assuming the predictions are probabilistic, novel sequences can be generat\n",
            "['ions, ', 'ed ', 'on, ', 'y ', 'ure ']\n",
            "\n"
          ],
          "name": "stdout"
        }
      ]
    },
    {
      "cell_type": "markdown",
      "metadata": {
        "id": "nXJ5TiR1aJs-",
        "colab_type": "text"
      },
      "source": [
        "Apart from the fact that the completions look like proper words (remember, we are training our model on characters, not words), they look pretty reasonable as well! Perhaps better model and/or more training will provide even better results?"
      ]
    },
    {
      "cell_type": "markdown",
      "metadata": {
        "id": "l2uOFqWSaOdZ",
        "colab_type": "text"
      },
      "source": [
        "# Conclusion\n",
        "\n",
        "We’ve built a model using just a few lines of code in `Keras` that performs reasonably well after just 20 training epochs. Can you try it with your own text? Why not predict whole sentences? Will it work that well in other languages?"
      ]
    },
    {
      "cell_type": "markdown",
      "metadata": {
        "id": "oU5MHFuEiKSJ",
        "colab_type": "text"
      },
      "source": [
        "# Testing Already Created Models"
      ]
    },
    {
      "cell_type": "markdown",
      "metadata": {
        "id": "TKXljvAujD7y",
        "colab_type": "text"
      },
      "source": [
        "### Load Model from Google Drive"
      ]
    },
    {
      "cell_type": "code",
      "metadata": {
        "id": "bycjqNRjiIid",
        "colab_type": "code",
        "colab": {
          "base_uri": "https://localhost:8080/",
          "height": 53
        },
        "outputId": "9042cba4-3c05-48ce-ea08-315200d335d2"
      },
      "source": [
        "# Mounting Google Drive to Load Data\n",
        "from google.colab import drive\n",
        "drive.mount('/content/drive')"
      ],
      "execution_count": 93,
      "outputs": [
        {
          "output_type": "stream",
          "text": [
            "Drive already mounted at /content/drive; to attempt to forcibly remount, call drive.mount(\"/content/drive\", force_remount=True).\n"
          ],
          "name": "stdout"
        }
      ]
    },
    {
      "cell_type": "code",
      "metadata": {
        "id": "7DDUxE02jHaQ",
        "colab_type": "code",
        "colab": {}
      },
      "source": [
        "model = load_model('./drive/My Drive/ML/Models/word_completion_prediction/word_completion_prediction_keras_model.h5')\n",
        "history = pickle.load(open(\"./drive/My Drive/ML/Models/word_completion_prediction/word_completion_prediction_history.p\", \"rb\"))"
      ],
      "execution_count": 0,
      "outputs": []
    },
    {
      "cell_type": "code",
      "metadata": {
        "id": "tc2bqryXZzyg",
        "colab_type": "code",
        "colab": {}
      },
      "source": [
        "def prepare_input(text):\n",
        "    x = np.zeros((1, len(text), len(chars)))\n",
        "    for t, char in enumerate(text):\n",
        "        x[0, t, char_indices[char]] = 1.\n",
        "        \n",
        "    return x"
      ],
      "execution_count": 0,
      "outputs": []
    },
    {
      "cell_type": "code",
      "metadata": {
        "id": "bFSJJODFihiE",
        "colab_type": "code",
        "colab": {}
      },
      "source": [
        "def sample(preds, top_n=3):\n",
        "    preds = np.asarray(preds).astype('float64')\n",
        "    preds = np.log(preds)\n",
        "    exp_preds = np.exp(preds)\n",
        "    preds = exp_preds / np.sum(exp_preds)\n",
        "    \n",
        "    return heapq.nlargest(top_n, range(len(preds)), preds.take)"
      ],
      "execution_count": 0,
      "outputs": []
    },
    {
      "cell_type": "code",
      "metadata": {
        "id": "3uQTCh9nioeZ",
        "colab_type": "code",
        "colab": {}
      },
      "source": [
        "def predict_completion(text):\n",
        "    original_text = text\n",
        "    generated = text\n",
        "    completion = ''\n",
        "    while True:\n",
        "        x = prepare_input(text)\n",
        "        preds = model.predict(x, verbose=0)[0]\n",
        "        next_index = sample(preds, top_n=1)[0]\n",
        "        next_char = indices_char[next_index]\n",
        "        text = text[1:] + next_char\n",
        "        completion += next_char\n",
        "        \n",
        "        if len(original_text + completion) + 2 > len(original_text) and next_char == ' ':\n",
        "            return completion"
      ],
      "execution_count": 0,
      "outputs": []
    },
    {
      "cell_type": "code",
      "metadata": {
        "id": "oC4jLUdsitKW",
        "colab_type": "code",
        "colab": {}
      },
      "source": [
        "def predict_completions(text, n=3):\n",
        "    x = prepare_input(text)\n",
        "    preds = model.predict(x, verbose=0)[0]\n",
        "    next_indices = sample(preds, n)\n",
        "    return [indices_char[idx] + predict_completion(text[1:] + indices_char[idx]) for idx in next_indices]"
      ],
      "execution_count": 0,
      "outputs": []
    },
    {
      "cell_type": "code",
      "metadata": {
        "id": "MzxwwuRNixKF",
        "colab_type": "code",
        "colab": {}
      },
      "source": [
        "# actual_text = [\n",
        "#     \"It is not a lack of love, but a lack of friendship that makes unhappy marriages.\",\n",
        "#     \"That which does not kill us makes us stronger.\",\n",
        "#     \"I'm not upset that you lied to me, I'm upset that from now on I can't believe you.\",\n",
        "#     \"And those who were seen dancing were thought to be insane by those who could not hear the music.\",\n",
        "#     \"It is hard enough to remember my opinions, without also remembering my reasons for them!\",\n",
        "#     \"A man lying on a comfortable sofa is listening to his wi\",\n",
        "#     \"Assuming the predictions are probabilistic, novel sequences can be generated from a trai\",\n",
        "#     \"The networks performance is competitive with state-of-the-art language models, and it works almost\",\n",
        "#     \"This document is the initial part of a study to predict next words from a text dataset\"\n",
        "# ]\n",
        "\n",
        "input = [\n",
        "    \"It is not a lack of lov\",\n",
        "    \"That which does not kill us makes us stro\",\n",
        "    \"I'm not upset that you lied to me, I'm upset that from now on I can't bel\",\n",
        "    \"And those who were seen dan\",\n",
        "    \"It is hard enough to remember my opini\",\n",
        "    \"A man lying on a comfortable ch\",\n",
        "    \"The networks perf\",\n",
        "    \"The networks performance is competi\",\n",
        "    \"The networks performance is competitive with state-of-the-art lan\",\n",
        "    \"This document is the initial part of a study to pre\",\n",
        "    \"This document is the initial part of a study to pred\",\n",
        "    \"Assuming the prediction\",\n",
        "    \"Assuming the predictions are probabilistic, novel sequences can be gene\",\n",
        "    \"Assuming the predictions are probabilistic, novel sequences can be generat\"\n",
        "]"
      ],
      "execution_count": 0,
      "outputs": []
    },
    {
      "cell_type": "code",
      "metadata": {
        "id": "_sNhloMoi3nl",
        "colab_type": "code",
        "colab": {
          "base_uri": "https://localhost:8080/",
          "height": 716
        },
        "outputId": "5d6cb288-6a48-4085-d10c-6b86b5d299ab"
      },
      "source": [
        "for i in input:\n",
        "    seq = i.lower()\n",
        "    print(seq)\n",
        "    print(predict_completions(seq, 5))\n",
        "    print()"
      ],
      "execution_count": 108,
      "outputs": [
        {
          "output_type": "stream",
          "text": [
            "it is not a lack of lov\n",
            "['e ', 'ical ', 'ality ', 'oure ', 'uling ']\n",
            "\n",
            "that which does not kill us makes us stro\n",
            "['ng ', 'dger ', 've ', 'gget ', 'w ']\n",
            "\n",
            "i'm not upset that you lied to me, i'm upset that from now on i can't bel\n",
            "['ieve ', 'ong ', 'aes ', 'ess ', 'low ']\n",
            "\n",
            "and those who were seen dan\n",
            "['gerous ', 'king ', 'ders ', 'y ', 'ce ']\n",
            "\n",
            "it is hard enough to remember my opini\n",
            "['on ', 'an ', 'ty ', 'fic ', 's ']\n",
            "\n",
            "a man lying on a comfortable ch\n",
            "['ild ', 'aracteristic ', 'ristian ', 'erristic ', 'omes ']\n",
            "\n",
            "the networks perf\n",
            "['ectly ', 'ord ', 'aind, ', 'iced ', 'uch ']\n",
            "\n",
            "the networks performance is competi\n",
            "['tion ', 'ce, ', 'ences ', 'sion ', 'ons ']\n",
            "\n",
            "the networks performance is competitive with state-of-the-art lan\n",
            "['ger ', 'ds ', 'k ', 'ce ', 'ture ']\n",
            "\n",
            "this document is the initial part of a study to pre\n",
            "['sent ', 'dicate ', 'cisely ', 'vail ', 'juce ']\n",
            "\n",
            "this document is the initial part of a study to pred\n",
            "['icate ', 'ention ', 'ucate ', 'action ', 'ocation ']\n",
            "\n",
            "assuming the prediction\n",
            "[' of ', ', ', 's ', '. ', 'al ']\n",
            "\n",
            "assuming the predictions are probabilistic, novel sequences can be gene\n",
            "['rally ', 'ution ', 'man ', 'st ', 'dations, ']\n",
            "\n",
            "assuming the predictions are probabilistic, novel sequences can be generat\n",
            "['ions, ', 'ed ', 'on, ', 'y ', 'ure ']\n",
            "\n"
          ],
          "name": "stdout"
        }
      ]
    },
    {
      "cell_type": "code",
      "metadata": {
        "id": "rKk-brP3i9i0",
        "colab_type": "code",
        "colab": {}
      },
      "source": [
        ""
      ],
      "execution_count": 0,
      "outputs": []
    }
  ]
}