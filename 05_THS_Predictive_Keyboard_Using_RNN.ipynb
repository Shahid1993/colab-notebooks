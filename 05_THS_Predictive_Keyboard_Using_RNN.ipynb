{
  "nbformat": 4,
  "nbformat_minor": 0,
  "metadata": {
    "colab": {
      "name": "05_THS_Predictive_Keyboard_Using_RNN.ipynb",
      "version": "0.3.2",
      "provenance": [],
      "toc_visible": true,
      "include_colab_link": true
    },
    "kernelspec": {
      "name": "python3",
      "display_name": "Python 3"
    },
    "accelerator": "GPU"
  },
  "cells": [
    {
      "cell_type": "markdown",
      "metadata": {
        "id": "view-in-github",
        "colab_type": "text"
      },
      "source": [
        "<a href=\"https://colab.research.google.com/github/Shahid1993/colab-notebooks/blob/master/05_THS_Predictive_Keyboard_Using_RNN.ipynb\" target=\"_parent\"><img src=\"https://colab.research.google.com/assets/colab-badge.svg\" alt=\"Open In Colab\"/></a>"
      ]
    },
    {
      "cell_type": "markdown",
      "metadata": {
        "id": "SYqcrM9LFnEg",
        "colab_type": "text"
      },
      "source": [
        "# [Making a Predictive Keyboard using Recurrent Neural Networks](https://medium.com/@curiousily/making-a-predictive-keyboard-using-recurrent-neural-networks-tensorflow-for-hackers-part-v-3f238d824218)\n",
        "\n",
        "# Recurrent Neural Networks\n",
        "\n",
        "In short, `RNN` models provide a way to not only examine the current input but the one that was provided one step back, as well. If we turn that around, we can say that the decision reached at time step t-1 directly affects the future at step t.\n",
        "\n",
        "![](https://miro.medium.com/max/947/1*K6s4Li0fTl1pSX4-WPBMMA.jpeg)\n",
        "\n",
        "## Definition\n",
        "RNNs define a recurrence relation over time steps which is given by:\n",
        "\n",
        "![](https://miro.medium.com/max/555/1*3giig0Hb58gDrl1dBdAWSw.png)\n",
        "\n",
        "Where St is the state at time step t, Xt an exogenous input at time t, Wrec and Wx are weights parameters. The feedback loops gives memory to the model because it can remember information between time steps.\n",
        "\n",
        "`RNNs` can compute the current state St from the current input Xt and previous state St−1 or predict the next state from St+1 from the current St and current input Xt. Concretely, we will pass a sequence of 40 characters and ask the model to predict the next one. We will append the new character and drop the first one and predict again. This will continue until we complete a whole word.\n",
        "\n",
        "# LSTMs\n",
        "Two major problems torment the `RNNs` — **vanishing** and **exploding gradients**. In traditional `RNNs` the gradient signal can be multiplied a large number of times by the weight matrix. Thus, the magnitude of the weights of the transition matrix can play an important role.\n",
        "\n",
        "If the weights in the matrix are small, the gradient signal becomes smaller at every training step, thus making learning very slow or completely stops it. This is called vanishing gradient. Let’s have a look at applying the sigmoid function multiple times, thus simulating the effect of vanishing gradient:\n",
        "\n",
        "![](https://miro.medium.com/max/552/1*XbVjM9cPb-BkLrWGNujEQg.png)\n",
        "\n",
        "Conversely, the exploding gradient refers to the weights in this matrix being so large that it can cause learning to diverge.\n",
        "\n",
        "\n",
        "`LSTM` model is a special kind of `RNN` that learns long-term dependencies. It introduces new structure — the memory cell that is composed of four elements: input, forget and output gates and a neuron that connects to itself:\n",
        "\n",
        "![](https://miro.medium.com/max/606/1*ZskkUQCNT0i_00shHYSj1A.png)\n",
        "\n",
        "`LSTMs` *fight the gradient vanishing problem by preserving the error that can be backpropagated through time and layers*. By maintaining a more constant error, they allow for learning long-term dependencies. On another hand, *exploding is controlled with **gradient clipping***, that is the gradient is not allowed to go above some predefined value.\n",
        "\n",
        "\n",
        "# Setup\n",
        "Let’s properly seed our random number generator and import all required modules:"
      ]
    },
    {
      "cell_type": "code",
      "metadata": {
        "id": "C4SB6_MxELfi",
        "colab_type": "code",
        "colab": {
          "base_uri": "https://localhost:8080/",
          "height": 35
        },
        "outputId": "8acde7cc-e90f-41f3-d430-1b734f4eddce"
      },
      "source": [
        "import numpy as np\n",
        "np.random.seed(42)\n",
        "import tensorflow as tf\n",
        "tf.set_random_seed(42)\n",
        "from keras.models import Sequential, load_model\n",
        "from keras.layers import Dense, Activation\n",
        "from keras.layers import LSTM, Dropout\n",
        "from keras.layers import TimeDistributed\n",
        "from keras.layers.core import Dense, Activation, Dropout, RepeatVector\n",
        "from keras.optimizers import RMSprop\n",
        "import matplotlib.pyplot as plt\n",
        "import pickle\n",
        "import sys\n",
        "import heapq\n",
        "import seaborn as sns\n",
        "from pylab import rcParams\n",
        "\n",
        "%matplotlib inline\n",
        "\n",
        "sns.set(style='whitegrid', palette='muted', font_scale=1.5)\n",
        "\n",
        "rcParams['figure.figsize'] = 12, 5"
      ],
      "execution_count": 1,
      "outputs": [
        {
          "output_type": "stream",
          "text": [
            "Using TensorFlow backend.\n"
          ],
          "name": "stderr"
        }
      ]
    },
    {
      "cell_type": "markdown",
      "metadata": {
        "id": "F94LTUFTJHLr",
        "colab_type": "text"
      },
      "source": [
        "# Loading the data"
      ]
    },
    {
      "cell_type": "code",
      "metadata": {
        "id": "Thi3UxyFI2q2",
        "colab_type": "code",
        "colab": {
          "base_uri": "https://localhost:8080/",
          "height": 35
        },
        "outputId": "53990cff-99d5-467a-8510-aaee63476345"
      },
      "source": [
        "path = 'nietzsche.txt'\n",
        "text = open(path).read().lower()\n",
        "print('corpus length:', len(text))"
      ],
      "execution_count": 2,
      "outputs": [
        {
          "output_type": "stream",
          "text": [
            "corpus length: 600902\n"
          ],
          "name": "stdout"
        }
      ]
    },
    {
      "cell_type": "markdown",
      "metadata": {
        "id": "wnUkGlwGJcCU",
        "colab_type": "text"
      },
      "source": [
        "# Preprocessing\n",
        "\n",
        "Let’s find all unique chars in the corpus and create char to index and index to char maps:"
      ]
    },
    {
      "cell_type": "code",
      "metadata": {
        "id": "W_QQg92UJQ28",
        "colab_type": "code",
        "colab": {
          "base_uri": "https://localhost:8080/",
          "height": 35
        },
        "outputId": "6daf2f8c-d939-4b20-86c6-dae9d4274d55"
      },
      "source": [
        "chars = sorted(list(set(text)))\n",
        "char_indices = dict((c, i) for i, c in enumerate(chars))\n",
        "indices_char = dict((i, c) for i, c in enumerate(chars))\n",
        "\n",
        "print(f'unique chars: {len(chars)}')"
      ],
      "execution_count": 3,
      "outputs": [
        {
          "output_type": "stream",
          "text": [
            "unique chars: 59\n"
          ],
          "name": "stdout"
        }
      ]
    },
    {
      "cell_type": "markdown",
      "metadata": {
        "id": "0sTHGCQEJubo",
        "colab_type": "text"
      },
      "source": [
        "Next, let’s cut the corpus into chunks of `40` characters, spacing the sequences by `3` characters. Additionally, we will store the next character (the one we need to predict) for every sequence: "
      ]
    },
    {
      "cell_type": "code",
      "metadata": {
        "id": "4IYnDRuGJgBW",
        "colab_type": "code",
        "colab": {
          "base_uri": "https://localhost:8080/",
          "height": 35
        },
        "outputId": "7e279ca6-226e-499f-cb32-aaf636beac38"
      },
      "source": [
        "SEQUENCE_LENGTH = 40\n",
        "step = 3\n",
        "sentences = []\n",
        "next_chars = []\n",
        "for i in range(0, len(text) - SEQUENCE_LENGTH, step):\n",
        "    sentences.append(text[i: i + SEQUENCE_LENGTH])\n",
        "    next_chars.append(text[i + SEQUENCE_LENGTH])\n",
        "print(f'num training examples: {len(sentences)}')"
      ],
      "execution_count": 4,
      "outputs": [
        {
          "output_type": "stream",
          "text": [
            "num training examples: 200288\n"
          ],
          "name": "stdout"
        }
      ]
    },
    {
      "cell_type": "markdown",
      "metadata": {
        "id": "Z5i__Sj2KHT_",
        "colab_type": "text"
      },
      "source": [
        "It is time for generating our features and labels. We will use the previously generated sequences and characters that need to be predicted to create one-hot encoded vectors using the `char_indices` map:"
      ]
    },
    {
      "cell_type": "code",
      "metadata": {
        "id": "TgmXRdsyK4ao",
        "colab_type": "code",
        "colab": {}
      },
      "source": [
        "X = np.zeros((len(sentences), SEQUENCE_LENGTH, len(chars)), dtype=np.bool)\n",
        "y = np.zeros((len(sentences), len(chars)), dtype=np.bool)\n",
        "for i, sentence in enumerate(sentences):\n",
        "    for t, char in enumerate(sentence):\n",
        "        X[i, t, char_indices[char]] = 1\n",
        "    y[i, char_indices[next_chars[i]]] = 1"
      ],
      "execution_count": 0,
      "outputs": []
    },
    {
      "cell_type": "markdown",
      "metadata": {
        "id": "F3ttQt5EK91p",
        "colab_type": "text"
      },
      "source": [
        "Let’s have a look at a single training sequence:"
      ]
    },
    {
      "cell_type": "code",
      "metadata": {
        "id": "2U19YVLEJ1ti",
        "colab_type": "code",
        "colab": {
          "base_uri": "https://localhost:8080/",
          "height": 35
        },
        "outputId": "9f6ca3ba-d09a-4fc0-e83b-4305aa35f041"
      },
      "source": [
        "sentences[10091]"
      ],
      "execution_count": 15,
      "outputs": [
        {
          "output_type": "execute_result",
          "data": {
            "text/plain": [
              "'s!\\nsensualism, therefore, at least as re'"
            ]
          },
          "metadata": {
            "tags": []
          },
          "execution_count": 15
        }
      ]
    },
    {
      "cell_type": "markdown",
      "metadata": {
        "id": "qM2c6xgVKa9u",
        "colab_type": "text"
      },
      "source": [
        "The character that needs to be predicted for it is:"
      ]
    },
    {
      "cell_type": "code",
      "metadata": {
        "id": "xtLc4jlAKSqJ",
        "colab_type": "code",
        "colab": {
          "base_uri": "https://localhost:8080/",
          "height": 35
        },
        "outputId": "b60741f2-6bc9-4d70-e31d-2653935a0056"
      },
      "source": [
        "next_chars[10091]"
      ],
      "execution_count": 16,
      "outputs": [
        {
          "output_type": "execute_result",
          "data": {
            "text/plain": [
              "'g'"
            ]
          },
          "metadata": {
            "tags": []
          },
          "execution_count": 16
        }
      ]
    },
    {
      "cell_type": "markdown",
      "metadata": {
        "id": "MQVj3KPiKuDJ",
        "colab_type": "text"
      },
      "source": [
        "The encoded (one-hot) data looks like this:"
      ]
    },
    {
      "cell_type": "code",
      "metadata": {
        "id": "vlPN9eddKdzd",
        "colab_type": "code",
        "colab": {
          "base_uri": "https://localhost:8080/",
          "height": 143
        },
        "outputId": "70dcb2be-28e6-4568-80ef-1895feaf61a3"
      },
      "source": [
        "X[0][0]"
      ],
      "execution_count": 17,
      "outputs": [
        {
          "output_type": "execute_result",
          "data": {
            "text/plain": [
              "array([False, False, False, False, False, False, False, False, False,\n",
              "       False, False, False, False, False, False, False, False, False,\n",
              "       False, False, False, False, False, False, False, False, False,\n",
              "       False, False, False, False, False, False, False, False, False,\n",
              "       False, False, False, False, False, False,  True, False, False,\n",
              "       False, False, False, False, False, False, False, False, False,\n",
              "       False, False, False, False, False])"
            ]
          },
          "metadata": {
            "tags": []
          },
          "execution_count": 17
        }
      ]
    },
    {
      "cell_type": "code",
      "metadata": {
        "id": "cRzau2Y8Kwce",
        "colab_type": "code",
        "colab": {
          "base_uri": "https://localhost:8080/",
          "height": 143
        },
        "outputId": "43eb78c4-cfa4-40c9-b082-4108e5d178cc"
      },
      "source": [
        "y[0]"
      ],
      "execution_count": 18,
      "outputs": [
        {
          "output_type": "execute_result",
          "data": {
            "text/plain": [
              "array([False, False, False, False, False, False, False, False, False,\n",
              "       False, False, False, False, False, False, False, False, False,\n",
              "       False, False, False, False, False, False, False, False, False,\n",
              "       False, False, False, False, False, False, False, False, False,\n",
              "       False, False, False, False,  True, False, False, False, False,\n",
              "       False, False, False, False, False, False, False, False, False,\n",
              "       False, False, False, False, False])"
            ]
          },
          "metadata": {
            "tags": []
          },
          "execution_count": 18
        }
      ]
    },
    {
      "cell_type": "markdown",
      "metadata": {
        "id": "5OeaK7vKLTPK",
        "colab_type": "text"
      },
      "source": [
        "And for the dimensions:"
      ]
    },
    {
      "cell_type": "code",
      "metadata": {
        "id": "b7Xy5aXdLKSK",
        "colab_type": "code",
        "colab": {
          "base_uri": "https://localhost:8080/",
          "height": 35
        },
        "outputId": "61b23003-b2a0-4fb1-dba6-9180abef054f"
      },
      "source": [
        "X.shape"
      ],
      "execution_count": 19,
      "outputs": [
        {
          "output_type": "execute_result",
          "data": {
            "text/plain": [
              "(200288, 40, 59)"
            ]
          },
          "metadata": {
            "tags": []
          },
          "execution_count": 19
        }
      ]
    },
    {
      "cell_type": "code",
      "metadata": {
        "id": "ddGXaBPXLU6r",
        "colab_type": "code",
        "colab": {
          "base_uri": "https://localhost:8080/",
          "height": 35
        },
        "outputId": "798442d1-21b5-4654-81ee-8001d115c285"
      },
      "source": [
        "y.shape"
      ],
      "execution_count": 20,
      "outputs": [
        {
          "output_type": "execute_result",
          "data": {
            "text/plain": [
              "(200288, 59)"
            ]
          },
          "metadata": {
            "tags": []
          },
          "execution_count": 20
        }
      ]
    },
    {
      "cell_type": "markdown",
      "metadata": {
        "id": "SHyGIHhQLb0V",
        "colab_type": "text"
      },
      "source": [
        "We have `200285` training examples, each sequence has length of `40` with `57` unique chars.\n",
        "\n",
        "# Building the model\n",
        "\n",
        "The model we’re going to train is pretty straight forward. Single `LSTM` layer with `128` neurons which accepts input of shape (`40` — the length of a sequence, `57` — the number of unique characters in our dataset). A fully connected layer (for our output) is added after that. It has `57` neurons and softmax for activation function:"
      ]
    },
    {
      "cell_type": "code",
      "metadata": {
        "id": "pLOtj1QiLXzM",
        "colab_type": "code",
        "colab": {
          "base_uri": "https://localhost:8080/",
          "height": 145
        },
        "outputId": "a1d26f43-0184-4907-c46e-454c249fa558"
      },
      "source": [
        "model = Sequential()\n",
        "model.add(LSTM(128, input_shape=(SEQUENCE_LENGTH, len(chars))))\n",
        "model.add(Dense(len(chars)))\n",
        "model.add(Activation('softmax'))"
      ],
      "execution_count": 21,
      "outputs": [
        {
          "output_type": "stream",
          "text": [
            "WARNING:tensorflow:From /usr/local/lib/python3.6/dist-packages/keras/backend/tensorflow_backend.py:66: The name tf.get_default_graph is deprecated. Please use tf.compat.v1.get_default_graph instead.\n",
            "\n",
            "WARNING:tensorflow:From /usr/local/lib/python3.6/dist-packages/keras/backend/tensorflow_backend.py:541: The name tf.placeholder is deprecated. Please use tf.compat.v1.placeholder instead.\n",
            "\n",
            "WARNING:tensorflow:From /usr/local/lib/python3.6/dist-packages/keras/backend/tensorflow_backend.py:4432: The name tf.random_uniform is deprecated. Please use tf.random.uniform instead.\n",
            "\n"
          ],
          "name": "stdout"
        }
      ]
    },
    {
      "cell_type": "markdown",
      "metadata": {
        "id": "eg3LQ-cCMOLS",
        "colab_type": "text"
      },
      "source": [
        "# Training\n",
        "\n",
        "Our model is trained for `20` epochs using `RMSProp` optimizer and uses `5%` of the data for validation:"
      ]
    },
    {
      "cell_type": "code",
      "metadata": {
        "id": "g0tbA0Z8MFeR",
        "colab_type": "code",
        "colab": {
          "base_uri": "https://localhost:8080/",
          "height": 937
        },
        "outputId": "19ddef11-1d8b-4324-add3-da0c5e67c4b3"
      },
      "source": [
        "optimizer = RMSprop(lr=0.01)\n",
        "model.compile(loss='categorical_crossentropy', optimizer=optimizer, metrics=['accuracy'])\n",
        "history = model.fit(X, y, validation_split=0.05, batch_size=128, epochs=20, shuffle=True).history"
      ],
      "execution_count": 22,
      "outputs": [
        {
          "output_type": "stream",
          "text": [
            "WARNING:tensorflow:From /usr/local/lib/python3.6/dist-packages/keras/optimizers.py:793: The name tf.train.Optimizer is deprecated. Please use tf.compat.v1.train.Optimizer instead.\n",
            "\n",
            "WARNING:tensorflow:From /usr/local/lib/python3.6/dist-packages/keras/backend/tensorflow_backend.py:3576: The name tf.log is deprecated. Please use tf.math.log instead.\n",
            "\n",
            "WARNING:tensorflow:From /usr/local/lib/python3.6/dist-packages/tensorflow/python/ops/math_grad.py:1250: add_dispatch_support.<locals>.wrapper (from tensorflow.python.ops.array_ops) is deprecated and will be removed in a future version.\n",
            "Instructions for updating:\n",
            "Use tf.where in 2.0, which has the same broadcast rule as np.where\n",
            "WARNING:tensorflow:From /usr/local/lib/python3.6/dist-packages/keras/backend/tensorflow_backend.py:1033: The name tf.assign_add is deprecated. Please use tf.compat.v1.assign_add instead.\n",
            "\n",
            "Train on 190273 samples, validate on 10015 samples\n",
            "Epoch 1/20\n",
            "190273/190273 [==============================] - 132s 693us/step - loss: 2.0099 - acc: 0.4142 - val_loss: 1.6949 - val_acc: 0.4992\n",
            "Epoch 2/20\n",
            "190273/190273 [==============================] - 127s 669us/step - loss: 1.6493 - acc: 0.5113 - val_loss: 1.5765 - val_acc: 0.5283\n",
            "Epoch 3/20\n",
            "190273/190273 [==============================] - 127s 666us/step - loss: 1.5557 - acc: 0.5364 - val_loss: 1.5251 - val_acc: 0.5419\n",
            "Epoch 4/20\n",
            "190273/190273 [==============================] - 127s 665us/step - loss: 1.5076 - acc: 0.5488 - val_loss: 1.5193 - val_acc: 0.5463\n",
            "Epoch 5/20\n",
            "190273/190273 [==============================] - 127s 669us/step - loss: 1.4763 - acc: 0.5575 - val_loss: 1.4978 - val_acc: 0.5540\n",
            "Epoch 6/20\n",
            "190273/190273 [==============================] - 127s 666us/step - loss: 1.4561 - acc: 0.5623 - val_loss: 1.4846 - val_acc: 0.5543\n",
            "Epoch 7/20\n",
            "190273/190273 [==============================] - 127s 667us/step - loss: 1.4366 - acc: 0.5682 - val_loss: 1.4858 - val_acc: 0.5574\n",
            "Epoch 8/20\n",
            "190273/190273 [==============================] - 127s 665us/step - loss: 1.4216 - acc: 0.5721 - val_loss: 1.4803 - val_acc: 0.5606\n",
            "Epoch 9/20\n",
            "190273/190273 [==============================] - 127s 667us/step - loss: 1.4097 - acc: 0.5740 - val_loss: 1.4668 - val_acc: 0.5656\n",
            "Epoch 10/20\n",
            "190273/190273 [==============================] - 127s 667us/step - loss: 1.4002 - acc: 0.5772 - val_loss: 1.4670 - val_acc: 0.5625\n",
            "Epoch 11/20\n",
            "190273/190273 [==============================] - 126s 664us/step - loss: 1.3929 - acc: 0.5789 - val_loss: 1.4808 - val_acc: 0.5559\n",
            "Epoch 12/20\n",
            "190273/190273 [==============================] - 127s 667us/step - loss: 1.3829 - acc: 0.5815 - val_loss: 1.4750 - val_acc: 0.5597\n",
            "Epoch 13/20\n",
            "190273/190273 [==============================] - 126s 664us/step - loss: 1.3760 - acc: 0.5829 - val_loss: 1.4794 - val_acc: 0.5637\n",
            "Epoch 14/20\n",
            "190273/190273 [==============================] - 126s 663us/step - loss: 1.3713 - acc: 0.5844 - val_loss: 1.4582 - val_acc: 0.5663\n",
            "Epoch 15/20\n",
            "190273/190273 [==============================] - 126s 662us/step - loss: 1.3642 - acc: 0.5864 - val_loss: 1.4649 - val_acc: 0.5650\n",
            "Epoch 16/20\n",
            "190273/190273 [==============================] - 126s 662us/step - loss: 1.3610 - acc: 0.5869 - val_loss: 1.4629 - val_acc: 0.5687\n",
            "Epoch 17/20\n",
            "190273/190273 [==============================] - 126s 663us/step - loss: 1.3556 - acc: 0.5882 - val_loss: 1.4592 - val_acc: 0.5644\n",
            "Epoch 18/20\n",
            "190273/190273 [==============================] - 126s 662us/step - loss: 1.3521 - acc: 0.5897 - val_loss: 1.4746 - val_acc: 0.5562\n",
            "Epoch 19/20\n",
            "190273/190273 [==============================] - 126s 663us/step - loss: 1.3481 - acc: 0.5905 - val_loss: 1.4674 - val_acc: 0.5647\n",
            "Epoch 20/20\n",
            "190273/190273 [==============================] - 126s 663us/step - loss: 1.3446 - acc: 0.5917 - val_loss: 1.4568 - val_acc: 0.5638\n"
          ],
          "name": "stdout"
        }
      ]
    },
    {
      "cell_type": "markdown",
      "metadata": {
        "id": "Ac2c5RFFWRu-",
        "colab_type": "text"
      },
      "source": [
        "# Saving"
      ]
    },
    {
      "cell_type": "code",
      "metadata": {
        "id": "FZPaw3KcMZCc",
        "colab_type": "code",
        "colab": {}
      },
      "source": [
        "model.save('predictive_keyboard_keras_model.h5')\n",
        "pickle.dump(history, open(\"predictive_keyboard_history.p\", \"wb\"))"
      ],
      "execution_count": 0,
      "outputs": []
    },
    {
      "cell_type": "markdown",
      "metadata": {
        "id": "BNfAucCFXRU5",
        "colab_type": "text"
      },
      "source": [
        "And load it back, just to make sure it works:"
      ]
    },
    {
      "cell_type": "code",
      "metadata": {
        "id": "Hvqx5bJAWV7X",
        "colab_type": "code",
        "colab": {}
      },
      "source": [
        "model = load_model('predictive_keyboard_keras_model.h5')\n",
        "history = pickle.load(open(\"predictive_keyboard_history.p\", \"rb\"))"
      ],
      "execution_count": 0,
      "outputs": []
    },
    {
      "cell_type": "markdown",
      "metadata": {
        "id": "v2Wz70QJXfi3",
        "colab_type": "text"
      },
      "source": [
        "# Evaluation\n",
        "\n",
        "Let’s have a look at how our accuracy and loss change over training epochs:"
      ]
    },
    {
      "cell_type": "code",
      "metadata": {
        "id": "zUKBad_OXbrP",
        "colab_type": "code",
        "colab": {
          "base_uri": "https://localhost:8080/",
          "height": 372
        },
        "outputId": "d35be3e2-f900-494b-c149-50ccfd6fad34"
      },
      "source": [
        "plt.plot(history['acc'])\n",
        "plt.plot(history['val_acc'])\n",
        "plt.title('model accuracy')\n",
        "plt.ylabel('accuracy')\n",
        "plt.xlabel('epoch')\n",
        "plt.legend(['train', 'test'], loc='upper left');"
      ],
      "execution_count": 26,
      "outputs": [
        {
          "output_type": "display_data",
          "data": {
            "image/png": "[encoded data removed]",
            "text/plain": [
              "<Figure size 864x360 with 1 Axes>"
            ]
          },
          "metadata": {
            "tags": []
          }
        }
      ]
    },
    {
      "cell_type": "code",
      "metadata": {
        "id": "6w00E0MZX6Yf",
        "colab_type": "code",
        "colab": {
          "base_uri": "https://localhost:8080/",
          "height": 372
        },
        "outputId": "92ffac34-072b-485b-8046-d6a3693c9a64"
      },
      "source": [
        "plt.plot(history['loss'])\n",
        "plt.plot(history['val_loss'])\n",
        "plt.title('model loss')\n",
        "plt.ylabel('loss')\n",
        "plt.xlabel('epoch')\n",
        "plt.legend(['train', 'test'], loc='upper left');"
      ],
      "execution_count": 27,
      "outputs": [
        {
          "output_type": "display_data",
          "data": {
            "image/png": "[encoded data removed]",
            "text/plain": [
              "<Figure size 864x360 with 1 Axes>"
            ]
          },
          "metadata": {
            "tags": []
          }
        }
      ]
    },
    {
      "cell_type": "markdown",
      "metadata": {
        "id": "1d-bs7HpYG02",
        "colab_type": "text"
      },
      "source": [
        "# Let’s put our model to the test"
      ]
    },
    {
      "cell_type": "code",
      "metadata": {
        "id": "zkdIoEh7YACD",
        "colab_type": "code",
        "colab": {}
      },
      "source": [
        "def prepare_input(text):\n",
        "    x = np.zeros((1, SEQUENCE_LENGTH, len(chars)))\n",
        "    for t, char in enumerate(text):\n",
        "        x[0, t, char_indices[char]] = 1.\n",
        "        \n",
        "    return x"
      ],
      "execution_count": 0,
      "outputs": []
    },
    {
      "cell_type": "markdown",
      "metadata": {
        "id": "-DxkTnofYfLE",
        "colab_type": "text"
      },
      "source": [
        "Remember that our sequences must be `40` characters long. So we make a tensor with shape `(1, 40, 59)`, initialized with zeros. Then, a value of 1 is placed for each character in the passed text. We must not forget to use the lowercase version of the text:"
      ]
    },
    {
      "cell_type": "code",
      "metadata": {
        "id": "qsGnD5L_YLDt",
        "colab_type": "code",
        "colab": {
          "base_uri": "https://localhost:8080/",
          "height": 143
        },
        "outputId": "e71fb062-15a5-4446-b964-d1c2b5782346"
      },
      "source": [
        "prepare_input(\"This is an example of input for our LSTM\".lower())"
      ],
      "execution_count": 29,
      "outputs": [
        {
          "output_type": "execute_result",
          "data": {
            "text/plain": [
              "array([[[0., 0., 0., ..., 0., 0., 0.],\n",
              "        [0., 0., 0., ..., 0., 0., 0.],\n",
              "        [0., 0., 0., ..., 0., 0., 0.],\n",
              "        ...,\n",
              "        [0., 0., 0., ..., 0., 0., 0.],\n",
              "        [0., 0., 0., ..., 0., 0., 0.],\n",
              "        [0., 0., 0., ..., 0., 0., 0.]]])"
            ]
          },
          "metadata": {
            "tags": []
          },
          "execution_count": 29
        }
      ]
    },
    {
      "cell_type": "markdown",
      "metadata": {
        "id": "KpCVMdbPY0c1",
        "colab_type": "text"
      },
      "source": [
        "#### Next up, the sample function:\n",
        "\n",
        "This function allows us to ask our model what are the next `n` most probable characters."
      ]
    },
    {
      "cell_type": "code",
      "metadata": {
        "id": "3q8iomTuYqC2",
        "colab_type": "code",
        "colab": {}
      },
      "source": [
        "def sample(preds, top_n=3):\n",
        "    preds = np.asarray(preds).astype('float64')\n",
        "    preds = np.log(preds)\n",
        "    exp_preds = np.exp(preds)\n",
        "    preds = exp_preds / np.sum(exp_preds)\n",
        "    \n",
        "    return heapq.nlargest(top_n, range(len(preds)), preds.take)"
      ],
      "execution_count": 0,
      "outputs": []
    },
    {
      "cell_type": "markdown",
      "metadata": {
        "id": "oM-cfTlcZBbp",
        "colab_type": "text"
      },
      "source": [
        "Now for the **prediction functions** themselves:\n",
        "\n",
        "This function predicts next character until space is predicted (you can extend that to punctuation symbols, right?). It does so by repeatedly preparing input, asking our model for predictions and sampling from them."
      ]
    },
    {
      "cell_type": "code",
      "metadata": {
        "id": "DxYlmesxY5lt",
        "colab_type": "code",
        "colab": {}
      },
      "source": [
        "def predict_completion(text):\n",
        "    original_text = text\n",
        "    generated = text\n",
        "    completion = ''\n",
        "    while True:\n",
        "        x = prepare_input(text)\n",
        "        preds = model.predict(x, verbose=0)[0]\n",
        "        next_index = sample(preds, top_n=1)[0]\n",
        "        next_char = indices_char[next_index]\n",
        "        text = text[1:] + next_char\n",
        "        completion += next_char\n",
        "        \n",
        "        if len(original_text + completion) + 2 > len(original_text) and next_char == ' ':\n",
        "            return completion"
      ],
      "execution_count": 0,
      "outputs": []
    },
    {
      "cell_type": "markdown",
      "metadata": {
        "id": "XuGg-5ctZfvo",
        "colab_type": "text"
      },
      "source": [
        "The final piece of the puzzle — `predict_completions` wraps everything and allow us to predict multiple completions:"
      ]
    },
    {
      "cell_type": "code",
      "metadata": {
        "id": "CaZRQz3NZLzm",
        "colab_type": "code",
        "colab": {}
      },
      "source": [
        "def predict_completions(text, n=3):\n",
        "    x = prepare_input(text)\n",
        "    preds = model.predict(x, verbose=0)[0]\n",
        "    next_indices = sample(preds, n)\n",
        "    return [indices_char[idx] + predict_completion(text[1:] + indices_char[idx]) for idx in next_indices]"
      ],
      "execution_count": 0,
      "outputs": []
    },
    {
      "cell_type": "markdown",
      "metadata": {
        "id": "Ueztu070ZuvY",
        "colab_type": "text"
      },
      "source": [
        "Let’s use sequences of 40 characters that we will use as seed for our completions. All of these are quotes from Friedrich Nietzsche himself:"
      ]
    },
    {
      "cell_type": "code",
      "metadata": {
        "id": "JkucGZ1IZpbh",
        "colab_type": "code",
        "colab": {}
      },
      "source": [
        "quotes = [\n",
        "    \"It is not a lack of love, but a lack of friendship that makes unhappy marriages.\",\n",
        "    \"That which does not kill us makes us stronger.\",\n",
        "    \"I'm not upset that you lied to me, I'm upset that from now on I can't believe you.\",\n",
        "    \"And those who were seen dancing were thought to be insane by those who could not hear the music.\",\n",
        "    \"It is hard enough to remember my opinions, without also remembering my reasons for them!\",\n",
        "    \"A man lying on a comfortable sofa is listening to his wi\"\n",
        "]"
      ],
      "execution_count": 0,
      "outputs": []
    },
    {
      "cell_type": "code",
      "metadata": {
        "id": "721JtJkzZxuL",
        "colab_type": "code",
        "colab": {
          "base_uri": "https://localhost:8080/",
          "height": 341
        },
        "outputId": "04254fb2-068c-43ad-b348-acde8284f79a"
      },
      "source": [
        "for q in quotes:\n",
        "    seq = q[:40].lower()\n",
        "    print(seq)\n",
        "    print(predict_completions(seq, 5))\n",
        "    print()"
      ],
      "execution_count": 43,
      "outputs": [
        {
          "output_type": "stream",
          "text": [
            "it is not a lack of love, but a lack of \n",
            "['the ', 'a ', 'problem ', 'subject ', 'which ']\n",
            "\n",
            "that which does not kill us makes us str\n",
            "['ong ', 'ange ', 'uggle ', 'ength ', 'ictly ']\n",
            "\n",
            "i'm not upset that you lied to me, i'm u\n",
            "['nder ', 's ', 'ltimatic ', 't ', 'ible ']\n",
            "\n",
            "and those who were seen dancing were tho\n",
            "['u ', 'se ', 'mse ', 'roughly ', ' operate ']\n",
            "\n",
            "it is hard enough to remember my opinion\n",
            "[' of ', 's ', ', ', 'al ', 'ing ']\n",
            "\n",
            "a man lying on a comfortable sofa is lis\n",
            "['ter ', 'e ', 'k ', 'hes ', 'ple ']\n",
            "\n"
          ],
          "name": "stdout"
        }
      ]
    },
    {
      "cell_type": "markdown",
      "metadata": {
        "id": "nXJ5TiR1aJs-",
        "colab_type": "text"
      },
      "source": [
        "Apart from the fact that the completions look like proper words (remember, we are training our model on characters, not words), they look pretty reasonable as well! Perhaps better model and/or more training will provide even better results?"
      ]
    },
    {
      "cell_type": "markdown",
      "metadata": {
        "id": "l2uOFqWSaOdZ",
        "colab_type": "text"
      },
      "source": [
        "# Conclusion\n",
        "\n",
        "We’ve built a model using just a few lines of code in `Keras` that performs reasonably well after just 20 training epochs. Can you try it with your own text? Why not predict whole sentences? Will it work that well in other languages?"
      ]
    },
    {
      "cell_type": "code",
      "metadata": {
        "id": "tc2bqryXZzyg",
        "colab_type": "code",
        "colab": {}
      },
      "source": [
        ""
      ],
      "execution_count": 0,
      "outputs": []
    }
  ]
}