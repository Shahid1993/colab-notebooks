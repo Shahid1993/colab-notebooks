{
  "nbformat": 4,
  "nbformat_minor": 0,
  "metadata": {
    "colab": {
      "name": "05_THS_Predictive_Keyboard_Using_RNN.ipynb",
      "version": "0.3.2",
      "provenance": [],
      "collapsed_sections": [],
      "toc_visible": true,
      "include_colab_link": true
    },
    "kernelspec": {
      "name": "python3",
      "display_name": "Python 3"
    },
    "accelerator": "GPU"
  },
  "cells": [
    {
      "cell_type": "markdown",
      "metadata": {
        "id": "view-in-github",
        "colab_type": "text"
      },
      "source": [
        "<a href=\"https://colab.research.google.com/github/Shahid1993/colab-notebooks/blob/master/05_THS_Predictive_Keyboard_Using_RNN.ipynb\" target=\"_parent\"><img src=\"https://colab.research.google.com/assets/colab-badge.svg\" alt=\"Open In Colab\"/></a>"
      ]
    },
    {
      "cell_type": "markdown",
      "metadata": {
        "id": "SYqcrM9LFnEg",
        "colab_type": "text"
      },
      "source": [
        "# [Making a Predictive Keyboard using Recurrent Neural Networks](https://medium.com/@curiousily/making-a-predictive-keyboard-using-recurrent-neural-networks-tensorflow-for-hackers-part-v-3f238d824218)\n",
        "\n",
        "# Recurrent Neural Networks\n",
        "\n",
        "In short, `RNN` models provide a way to not only examine the current input but the one that was provided one step back, as well. If we turn that around, we can say that the decision reached at time step t-1 directly affects the future at step t.\n",
        "\n",
        "![](https://miro.medium.com/max/947/1*K6s4Li0fTl1pSX4-WPBMMA.jpeg)\n",
        "\n",
        "## Definition\n",
        "RNNs define a recurrence relation over time steps which is given by:\n",
        "\n",
        "![](https://miro.medium.com/max/555/1*3giig0Hb58gDrl1dBdAWSw.png)\n",
        "\n",
        "Where St is the state at time step t, Xt an exogenous input at time t, Wrec and Wx are weights parameters. The feedback loops gives memory to the model because it can remember information between time steps.\n",
        "\n",
        "`RNNs` can compute the current state St from the current input Xt and previous state St−1 or predict the next state from St+1 from the current St and current input Xt. Concretely, we will pass a sequence of 40 characters and ask the model to predict the next one. We will append the new character and drop the first one and predict again. This will continue until we complete a whole word.\n",
        "\n",
        "# LSTMs\n",
        "Two major problems torment the `RNNs` — **vanishing** and **exploding gradients**. In traditional `RNNs` the gradient signal can be multiplied a large number of times by the weight matrix. Thus, the magnitude of the weights of the transition matrix can play an important role.\n",
        "\n",
        "If the weights in the matrix are small, the gradient signal becomes smaller at every training step, thus making learning very slow or completely stops it. This is called vanishing gradient. Let’s have a look at applying the sigmoid function multiple times, thus simulating the effect of vanishing gradient:\n",
        "\n",
        "![](https://miro.medium.com/max/552/1*XbVjM9cPb-BkLrWGNujEQg.png)\n",
        "\n",
        "Conversely, the exploding gradient refers to the weights in this matrix being so large that it can cause learning to diverge.\n",
        "\n",
        "\n",
        "`LSTM` model is a special kind of `RNN` that learns long-term dependencies. It introduces new structure — the memory cell that is composed of four elements: input, forget and output gates and a neuron that connects to itself:\n",
        "\n",
        "![](https://miro.medium.com/max/606/1*ZskkUQCNT0i_00shHYSj1A.png)\n",
        "\n",
        "`LSTMs` *fight the gradient vanishing problem by preserving the error that can be backpropagated through time and layers*. By maintaining a more constant error, they allow for learning long-term dependencies. On another hand, *exploding is controlled with **gradient clipping***, that is the gradient is not allowed to go above some predefined value.\n",
        "\n",
        "\n",
        "# Setup\n",
        "Let’s properly seed our random number generator and import all required modules:"
      ]
    },
    {
      "cell_type": "code",
      "metadata": {
        "id": "C4SB6_MxELfi",
        "colab_type": "code",
        "colab": {
          "base_uri": "https://localhost:8080/",
          "height": 33
        },
        "outputId": "7ca8d6cd-7a65-4b10-9975-ef80ee937dcc"
      },
      "source": [
        "import numpy as np\n",
        "np.random.seed(42)\n",
        "import tensorflow as tf\n",
        "tf.set_random_seed(42)\n",
        "from keras.models import Sequential, load_model\n",
        "from keras.layers import Dense, Activation\n",
        "from keras.layers import LSTM, Dropout, CuDNNLSTM\n",
        "from keras.layers import TimeDistributed\n",
        "from keras.layers.core import Dense, Activation, Dropout, RepeatVector\n",
        "from keras.optimizers import RMSprop\n",
        "import matplotlib.pyplot as plt\n",
        "import pickle\n",
        "import sys\n",
        "import heapq\n",
        "import seaborn as sns\n",
        "from pylab import rcParams\n",
        "\n",
        "%matplotlib inline\n",
        "\n",
        "sns.set(style='whitegrid', palette='muted', font_scale=1.5)\n",
        "\n",
        "rcParams['figure.figsize'] = 12, 5"
      ],
      "execution_count": 1,
      "outputs": [
        {
          "output_type": "stream",
          "text": [
            "Using TensorFlow backend.\n"
          ],
          "name": "stderr"
        }
      ]
    },
    {
      "cell_type": "markdown",
      "metadata": {
        "id": "F94LTUFTJHLr",
        "colab_type": "text"
      },
      "source": [
        "# Loading the data"
      ]
    },
    {
      "cell_type": "code",
      "metadata": {
        "id": "Thi3UxyFI2q2",
        "colab_type": "code",
        "colab": {
          "base_uri": "https://localhost:8080/",
          "height": 33
        },
        "outputId": "de8d11d3-3fdf-4551-ead5-21ada7a57c57"
      },
      "source": [
        "path = 'nietzsche.txt'\n",
        "text = open(path).read().lower()\n",
        "print('corpus length:', len(text))"
      ],
      "execution_count": 3,
      "outputs": [
        {
          "output_type": "stream",
          "text": [
            "corpus length: 600902\n"
          ],
          "name": "stdout"
        }
      ]
    },
    {
      "cell_type": "markdown",
      "metadata": {
        "id": "wnUkGlwGJcCU",
        "colab_type": "text"
      },
      "source": [
        "# Preprocessing\n",
        "\n",
        "Let’s find all unique chars in the corpus and create char to index and index to char maps:"
      ]
    },
    {
      "cell_type": "code",
      "metadata": {
        "id": "W_QQg92UJQ28",
        "colab_type": "code",
        "colab": {
          "base_uri": "https://localhost:8080/",
          "height": 33
        },
        "outputId": "ab698133-3214-4c1e-a2b0-042132481236"
      },
      "source": [
        "chars = sorted(list(set(text)))\n",
        "char_indices = dict((c, i) for i, c in enumerate(chars))\n",
        "indices_char = dict((i, c) for i, c in enumerate(chars))\n",
        "\n",
        "print(f'unique chars: {len(chars)}')"
      ],
      "execution_count": 4,
      "outputs": [
        {
          "output_type": "stream",
          "text": [
            "unique chars: 59\n"
          ],
          "name": "stdout"
        }
      ]
    },
    {
      "cell_type": "markdown",
      "metadata": {
        "id": "0sTHGCQEJubo",
        "colab_type": "text"
      },
      "source": [
        "Next, let’s cut the corpus into chunks of `40` characters, spacing the sequences by `3` characters. Additionally, we will store the next character (the one we need to predict) for every sequence: "
      ]
    },
    {
      "cell_type": "code",
      "metadata": {
        "id": "4IYnDRuGJgBW",
        "colab_type": "code",
        "colab": {
          "base_uri": "https://localhost:8080/",
          "height": 33
        },
        "outputId": "2ad81081-9979-4fa3-924b-b3b1331c68be"
      },
      "source": [
        "SEQUENCE_LENGTH = 40\n",
        "step = 1\n",
        "sentences = []\n",
        "next_chars = []\n",
        "for i in range(0, len(text) - SEQUENCE_LENGTH, step):\n",
        "    sentences.append(text[i: i + SEQUENCE_LENGTH])\n",
        "    next_chars.append(text[i + SEQUENCE_LENGTH])\n",
        "print(f'num training examples: {len(sentences)}')"
      ],
      "execution_count": 103,
      "outputs": [
        {
          "output_type": "stream",
          "text": [
            "num training examples: 600862\n"
          ],
          "name": "stdout"
        }
      ]
    },
    {
      "cell_type": "markdown",
      "metadata": {
        "id": "Z5i__Sj2KHT_",
        "colab_type": "text"
      },
      "source": [
        "It is time for generating our features and labels. We will use the previously generated sequences and characters that need to be predicted to create one-hot encoded vectors using the `char_indices` map:"
      ]
    },
    {
      "cell_type": "code",
      "metadata": {
        "id": "TgmXRdsyK4ao",
        "colab_type": "code",
        "colab": {}
      },
      "source": [
        "X = np.zeros((len(sentences), SEQUENCE_LENGTH, len(chars)), dtype=np.bool)\n",
        "y = np.zeros((len(sentences), len(chars)), dtype=np.bool)\n",
        "for i, sentence in enumerate(sentences):\n",
        "    for t, char in enumerate(sentence):\n",
        "        X[i, t, char_indices[char]] = 1\n",
        "    y[i, char_indices[next_chars[i]]] = 1"
      ],
      "execution_count": 0,
      "outputs": []
    },
    {
      "cell_type": "markdown",
      "metadata": {
        "id": "F3ttQt5EK91p",
        "colab_type": "text"
      },
      "source": [
        "Let’s have a look at a single training sequence:"
      ]
    },
    {
      "cell_type": "code",
      "metadata": {
        "id": "2U19YVLEJ1ti",
        "colab_type": "code",
        "colab": {
          "base_uri": "https://localhost:8080/",
          "height": 33
        },
        "outputId": "f597ce89-efa2-432b-e8a8-ab306eb95a56"
      },
      "source": [
        "sentences[1091]"
      ],
      "execution_count": 105,
      "outputs": [
        {
          "output_type": "execute_result",
          "data": {
            "text/plain": [
              "'perstition of immemorial time\\n(such as t'"
            ]
          },
          "metadata": {
            "tags": []
          },
          "execution_count": 105
        }
      ]
    },
    {
      "cell_type": "markdown",
      "metadata": {
        "id": "qM2c6xgVKa9u",
        "colab_type": "text"
      },
      "source": [
        "The character that needs to be predicted for it is:"
      ]
    },
    {
      "cell_type": "code",
      "metadata": {
        "id": "xtLc4jlAKSqJ",
        "colab_type": "code",
        "colab": {
          "base_uri": "https://localhost:8080/",
          "height": 33
        },
        "outputId": "3e021800-53e5-4dca-9c37-913f74c9de93"
      },
      "source": [
        "next_chars[1091]"
      ],
      "execution_count": 106,
      "outputs": [
        {
          "output_type": "execute_result",
          "data": {
            "text/plain": [
              "'h'"
            ]
          },
          "metadata": {
            "tags": []
          },
          "execution_count": 106
        }
      ]
    },
    {
      "cell_type": "markdown",
      "metadata": {
        "id": "MQVj3KPiKuDJ",
        "colab_type": "text"
      },
      "source": [
        "The encoded (one-hot) data looks like this:"
      ]
    },
    {
      "cell_type": "code",
      "metadata": {
        "id": "vlPN9eddKdzd",
        "colab_type": "code",
        "colab": {
          "base_uri": "https://localhost:8080/",
          "height": 133
        },
        "outputId": "fc32fe77-89cb-4ab9-aa2f-2782c71d22b1"
      },
      "source": [
        "X[0]"
      ],
      "execution_count": 107,
      "outputs": [
        {
          "output_type": "execute_result",
          "data": {
            "text/plain": [
              "array([[False, False, False, ..., False, False, False],\n",
              "       [False, False, False, ..., False, False, False],\n",
              "       [False, False, False, ..., False, False, False],\n",
              "       ...,\n",
              "       [False, False, False, ..., False, False, False],\n",
              "       [False, False, False, ..., False, False, False],\n",
              "       [False, False, False, ..., False, False, False]])"
            ]
          },
          "metadata": {
            "tags": []
          },
          "execution_count": 107
        }
      ]
    },
    {
      "cell_type": "code",
      "metadata": {
        "id": "cRzau2Y8Kwce",
        "colab_type": "code",
        "colab": {
          "base_uri": "https://localhost:8080/",
          "height": 133
        },
        "outputId": "50660320-de2d-404e-cb1a-0089ac33827f"
      },
      "source": [
        "y[0]"
      ],
      "execution_count": 108,
      "outputs": [
        {
          "output_type": "execute_result",
          "data": {
            "text/plain": [
              "array([False, False, False, False, False, False, False, False, False,\n",
              "       False, False, False, False, False, False, False, False, False,\n",
              "       False, False, False, False, False, False, False, False, False,\n",
              "       False, False, False, False, False, False, False, False, False,\n",
              "       False, False, False, False,  True, False, False, False, False,\n",
              "       False, False, False, False, False, False, False, False, False,\n",
              "       False, False, False, False, False])"
            ]
          },
          "metadata": {
            "tags": []
          },
          "execution_count": 108
        }
      ]
    },
    {
      "cell_type": "markdown",
      "metadata": {
        "id": "5OeaK7vKLTPK",
        "colab_type": "text"
      },
      "source": [
        "And for the dimensions:"
      ]
    },
    {
      "cell_type": "code",
      "metadata": {
        "id": "b7Xy5aXdLKSK",
        "colab_type": "code",
        "colab": {
          "base_uri": "https://localhost:8080/",
          "height": 33
        },
        "outputId": "e6f4ab92-7ea4-4d5d-950a-d45a34041f0c"
      },
      "source": [
        "X.shape"
      ],
      "execution_count": 109,
      "outputs": [
        {
          "output_type": "execute_result",
          "data": {
            "text/plain": [
              "(600862, 40, 59)"
            ]
          },
          "metadata": {
            "tags": []
          },
          "execution_count": 109
        }
      ]
    },
    {
      "cell_type": "code",
      "metadata": {
        "id": "ddGXaBPXLU6r",
        "colab_type": "code",
        "colab": {
          "base_uri": "https://localhost:8080/",
          "height": 33
        },
        "outputId": "427f4b6e-6cd7-405e-fa57-f072bdf40bc1"
      },
      "source": [
        "y.shape"
      ],
      "execution_count": 110,
      "outputs": [
        {
          "output_type": "execute_result",
          "data": {
            "text/plain": [
              "(600862, 59)"
            ]
          },
          "metadata": {
            "tags": []
          },
          "execution_count": 110
        }
      ]
    },
    {
      "cell_type": "markdown",
      "metadata": {
        "id": "SHyGIHhQLb0V",
        "colab_type": "text"
      },
      "source": [
        "We have `200285` training examples, each sequence has length of `40` with `57` unique chars.\n",
        "\n",
        "# Building the model\n",
        "\n",
        "The model we’re going to train is pretty straight forward. Single `LSTM` layer with `128` neurons which accepts input of shape (`40` — the length of a sequence, `57` — the number of unique characters in our dataset). A fully connected layer (for our output) is added after that. It has `57` neurons and softmax for activation function:"
      ]
    },
    {
      "cell_type": "code",
      "metadata": {
        "id": "pLOtj1QiLXzM",
        "colab_type": "code",
        "colab": {}
      },
      "source": [
        "model = Sequential()\n",
        "#model.add(LSTM(128, input_shape=(SEQUENCE_LENGTH, len(chars))))\n",
        "\n",
        "#model.add(CuDNNLSTM(128, input_shape=(None, len(chars))))\n",
        "\n",
        "model.add(CuDNNLSTM(128, input_shape=(None, len(chars)), return_sequences=True))\n",
        "model.add(CuDNNLSTM(128, return_sequences=True))\n",
        "model.add(CuDNNLSTM(128))\n",
        "\n",
        "#Dropout added to avoid overfitting\n",
        "model.add(Dropout(rate = 0.2))\n",
        "\n",
        "# build model using keras documentation recommended optimizer initialization\n",
        "optimizer = RMSprop(lr=0.001, rho=0.9, epsilon=1e-08, decay=0.0)\n",
        "\n",
        "model.add(Dense(len(chars)))\n",
        "model.add(Activation('softmax'))"
      ],
      "execution_count": 0,
      "outputs": []
    },
    {
      "cell_type": "markdown",
      "metadata": {
        "id": "eg3LQ-cCMOLS",
        "colab_type": "text"
      },
      "source": [
        "# Training\n",
        "\n",
        "Our model is trained for `20` epochs using `RMSProp` optimizer and uses `5%` of the data for validation:"
      ]
    },
    {
      "cell_type": "code",
      "metadata": {
        "id": "g0tbA0Z8MFeR",
        "colab_type": "code",
        "colab": {
          "base_uri": "https://localhost:8080/",
          "height": 720
        },
        "outputId": "7992582f-4fd4-42e1-9232-526f6d8e20e6"
      },
      "source": [
        "#optimizer = RMSprop(lr=0.01)\n",
        "model.compile(loss='categorical_crossentropy', optimizer=optimizer, metrics=['accuracy'])\n",
        "history = model.fit(X, y, validation_split=0.05, batch_size=128, epochs=20, shuffle=True).history"
      ],
      "execution_count": 112,
      "outputs": [
        {
          "output_type": "stream",
          "text": [
            "Train on 570818 samples, validate on 30044 samples\n",
            "Epoch 1/20\n",
            "570818/570818 [==============================] - 152s 266us/step - loss: 2.1675 - acc: 0.3706 - val_loss: 1.7469 - val_acc: 0.4763\n",
            "Epoch 2/20\n",
            "570818/570818 [==============================] - 149s 262us/step - loss: 1.7276 - acc: 0.4909 - val_loss: 1.5522 - val_acc: 0.5325\n",
            "Epoch 3/20\n",
            "570818/570818 [==============================] - 150s 263us/step - loss: 1.5892 - acc: 0.5295 - val_loss: 1.4639 - val_acc: 0.5569\n",
            "Epoch 4/20\n",
            "570818/570818 [==============================] - 150s 262us/step - loss: 1.5115 - acc: 0.5507 - val_loss: 1.4145 - val_acc: 0.5713\n",
            "Epoch 5/20\n",
            "570818/570818 [==============================] - 149s 262us/step - loss: 1.4639 - acc: 0.5646 - val_loss: 1.3881 - val_acc: 0.5803\n",
            "Epoch 6/20\n",
            "570818/570818 [==============================] - 150s 262us/step - loss: 1.4295 - acc: 0.5731 - val_loss: 1.3561 - val_acc: 0.5875\n",
            "Epoch 7/20\n",
            "570818/570818 [==============================] - 152s 266us/step - loss: 1.4038 - acc: 0.5801 - val_loss: 1.3405 - val_acc: 0.5908\n",
            "Epoch 8/20\n",
            "570818/570818 [==============================] - 152s 266us/step - loss: 1.3830 - acc: 0.5852 - val_loss: 1.3317 - val_acc: 0.5938\n",
            "Epoch 9/20\n",
            "570818/570818 [==============================] - 152s 266us/step - loss: 1.3662 - acc: 0.5898 - val_loss: 1.3353 - val_acc: 0.5963\n",
            "Epoch 10/20\n",
            "570818/570818 [==============================] - 151s 265us/step - loss: 1.3529 - acc: 0.5935 - val_loss: 1.3313 - val_acc: 0.5960\n",
            "Epoch 11/20\n",
            "570818/570818 [==============================] - 152s 266us/step - loss: 1.3418 - acc: 0.5969 - val_loss: 1.3287 - val_acc: 0.5977\n",
            "Epoch 12/20\n",
            "570818/570818 [==============================] - 151s 265us/step - loss: 1.3307 - acc: 0.5994 - val_loss: 1.3175 - val_acc: 0.6020\n",
            "Epoch 13/20\n",
            "570818/570818 [==============================] - 152s 267us/step - loss: 1.3227 - acc: 0.6019 - val_loss: 1.3192 - val_acc: 0.6012\n",
            "Epoch 14/20\n",
            "570818/570818 [==============================] - 151s 265us/step - loss: 1.3143 - acc: 0.6051 - val_loss: 1.3153 - val_acc: 0.6020\n",
            "Epoch 15/20\n",
            "570818/570818 [==============================] - 153s 268us/step - loss: 1.3103 - acc: 0.6070 - val_loss: 1.3218 - val_acc: 0.6021\n",
            "Epoch 16/20\n",
            "570818/570818 [==============================] - 152s 267us/step - loss: 1.3056 - acc: 0.6076 - val_loss: 1.3166 - val_acc: 0.6034\n",
            "Epoch 17/20\n",
            "570818/570818 [==============================] - 152s 266us/step - loss: 1.3009 - acc: 0.6088 - val_loss: 1.3223 - val_acc: 0.6048\n",
            "Epoch 18/20\n",
            "570818/570818 [==============================] - 151s 265us/step - loss: 1.2959 - acc: 0.6098 - val_loss: 1.3234 - val_acc: 0.6057\n",
            "Epoch 19/20\n",
            "570818/570818 [==============================] - 152s 266us/step - loss: 1.2940 - acc: 0.6114 - val_loss: 1.3176 - val_acc: 0.6073\n",
            "Epoch 20/20\n",
            "570818/570818 [==============================] - 151s 264us/step - loss: 1.2887 - acc: 0.6117 - val_loss: 1.3307 - val_acc: 0.6066\n"
          ],
          "name": "stdout"
        }
      ]
    },
    {
      "cell_type": "markdown",
      "metadata": {
        "id": "Ac2c5RFFWRu-",
        "colab_type": "text"
      },
      "source": [
        "# Saving"
      ]
    },
    {
      "cell_type": "code",
      "metadata": {
        "id": "FZPaw3KcMZCc",
        "colab_type": "code",
        "colab": {}
      },
      "source": [
        "model.save('predictive_keyboard_keras_model.h5')\n",
        "pickle.dump(history, open(\"predictive_keyboard_history.p\", \"wb\"))"
      ],
      "execution_count": 0,
      "outputs": []
    },
    {
      "cell_type": "markdown",
      "metadata": {
        "id": "BNfAucCFXRU5",
        "colab_type": "text"
      },
      "source": [
        "And load it back, just to make sure it works:"
      ]
    },
    {
      "cell_type": "code",
      "metadata": {
        "id": "Hvqx5bJAWV7X",
        "colab_type": "code",
        "colab": {}
      },
      "source": [
        "model = load_model('predictive_keyboard_keras_model.h5')\n",
        "history = pickle.load(open(\"predictive_keyboard_history.p\", \"rb\"))"
      ],
      "execution_count": 0,
      "outputs": []
    },
    {
      "cell_type": "markdown",
      "metadata": {
        "id": "v2Wz70QJXfi3",
        "colab_type": "text"
      },
      "source": [
        "# Evaluation\n",
        "\n",
        "Let’s have a look at how our accuracy and loss change over training epochs:"
      ]
    },
    {
      "cell_type": "code",
      "metadata": {
        "id": "zUKBad_OXbrP",
        "colab_type": "code",
        "colab": {
          "base_uri": "https://localhost:8080/",
          "height": 372
        },
        "outputId": "434c52ad-bce4-4d48-8192-56a919619602"
      },
      "source": [
        "plt.plot(history['acc'])\n",
        "plt.plot(history['val_acc'])\n",
        "plt.title('model accuracy')\n",
        "plt.ylabel('accuracy')\n",
        "plt.xlabel('epoch')\n",
        "plt.legend(['train', 'test'], loc='upper left');"
      ],
      "execution_count": 115,
      "outputs": [
        {
          "output_type": "display_data",
          "data": {
            "image/png": "[encoded data removed]",
            "text/plain": [
              "<Figure size 864x360 with 1 Axes>"
            ]
          },
          "metadata": {
            "tags": []
          }
        }
      ]
    },
    {
      "cell_type": "code",
      "metadata": {
        "id": "6w00E0MZX6Yf",
        "colab_type": "code",
        "colab": {
          "base_uri": "https://localhost:8080/",
          "height": 372
        },
        "outputId": "e068aa33-497c-4da3-ae13-c1cb68573894"
      },
      "source": [
        "plt.plot(history['loss'])\n",
        "plt.plot(history['val_loss'])\n",
        "plt.title('model loss')\n",
        "plt.ylabel('loss')\n",
        "plt.xlabel('epoch')\n",
        "plt.legend(['train', 'test'], loc='upper left');"
      ],
      "execution_count": 116,
      "outputs": [
        {
          "output_type": "display_data",
          "data": {
            "image/png": "[encoded data removed]",
            "text/plain": [
              "<Figure size 864x360 with 1 Axes>"
            ]
          },
          "metadata": {
            "tags": []
          }
        }
      ]
    },
    {
      "cell_type": "markdown",
      "metadata": {
        "id": "1d-bs7HpYG02",
        "colab_type": "text"
      },
      "source": [
        "# Let’s put our model to the test"
      ]
    },
    {
      "cell_type": "code",
      "metadata": {
        "id": "zkdIoEh7YACD",
        "colab_type": "code",
        "colab": {}
      },
      "source": [
        "# def prepare_input(text):\n",
        "#     x = np.zeros((1, SEQUENCE_LENGTH, len(chars)))\n",
        "#     for t, char in enumerate(text):\n",
        "#         x[0, t, char_indices[char]] = 1.\n",
        "        \n",
        "#     return x\n",
        "  \n",
        "def prepare_input(text):\n",
        "    x = np.zeros((1, len(text), len(chars)))\n",
        "    for t, char in enumerate(text):\n",
        "        x[0, t, char_indices[char]] = 1.\n",
        "        \n",
        "    return x"
      ],
      "execution_count": 0,
      "outputs": []
    },
    {
      "cell_type": "markdown",
      "metadata": {
        "id": "-DxkTnofYfLE",
        "colab_type": "text"
      },
      "source": [
        "Remember that our sequences must be `40` characters long. So we make a tensor with shape `(1, 40, 59)`, initialized with zeros. Then, a value of 1 is placed for each character in the passed text. We must not forget to use the lowercase version of the text:"
      ]
    },
    {
      "cell_type": "code",
      "metadata": {
        "id": "qsGnD5L_YLDt",
        "colab_type": "code",
        "colab": {
          "base_uri": "https://localhost:8080/",
          "height": 133
        },
        "outputId": "e3820c5a-0217-4455-e47f-5c91ebb57185"
      },
      "source": [
        "prepare_input(\"This is an example of input for our LSTM\".lower())\n",
        "#prepare_input(\"Tests\".lower())"
      ],
      "execution_count": 118,
      "outputs": [
        {
          "output_type": "execute_result",
          "data": {
            "text/plain": [
              "array([[[0., 0., 0., ..., 0., 0., 0.],\n",
              "        [0., 0., 0., ..., 0., 0., 0.],\n",
              "        [0., 0., 0., ..., 0., 0., 0.],\n",
              "        ...,\n",
              "        [0., 0., 0., ..., 0., 0., 0.],\n",
              "        [0., 0., 0., ..., 0., 0., 0.],\n",
              "        [0., 0., 0., ..., 0., 0., 0.]]])"
            ]
          },
          "metadata": {
            "tags": []
          },
          "execution_count": 118
        }
      ]
    },
    {
      "cell_type": "markdown",
      "metadata": {
        "id": "KpCVMdbPY0c1",
        "colab_type": "text"
      },
      "source": [
        "#### Next up, the sample function:\n",
        "\n",
        "This function allows us to ask our model what are the next `n` most probable characters."
      ]
    },
    {
      "cell_type": "code",
      "metadata": {
        "id": "3q8iomTuYqC2",
        "colab_type": "code",
        "colab": {}
      },
      "source": [
        "def sample(preds, top_n=3):\n",
        "    preds = np.asarray(preds).astype('float64')\n",
        "    preds = np.log(preds)\n",
        "    exp_preds = np.exp(preds)\n",
        "    preds = exp_preds / np.sum(exp_preds)\n",
        "    \n",
        "    return heapq.nlargest(top_n, range(len(preds)), preds.take)"
      ],
      "execution_count": 0,
      "outputs": []
    },
    {
      "cell_type": "markdown",
      "metadata": {
        "id": "oM-cfTlcZBbp",
        "colab_type": "text"
      },
      "source": [
        "Now for the **prediction functions** themselves:\n",
        "\n",
        "This function predicts next character until space is predicted (you can extend that to punctuation symbols, right?). It does so by repeatedly preparing input, asking our model for predictions and sampling from them."
      ]
    },
    {
      "cell_type": "code",
      "metadata": {
        "id": "DxYlmesxY5lt",
        "colab_type": "code",
        "colab": {}
      },
      "source": [
        "def predict_completion(text):\n",
        "    original_text = text\n",
        "    generated = text\n",
        "    completion = ''\n",
        "    while True:\n",
        "        x = prepare_input(text)\n",
        "        preds = model.predict(x, verbose=0)[0]\n",
        "        next_index = sample(preds, top_n=1)[0]\n",
        "        next_char = indices_char[next_index]\n",
        "        text = text[1:] + next_char\n",
        "        completion += next_char\n",
        "        \n",
        "        if len(original_text + completion) + 2 > len(original_text) and next_char == ' ':\n",
        "            return completion"
      ],
      "execution_count": 0,
      "outputs": []
    },
    {
      "cell_type": "markdown",
      "metadata": {
        "id": "XuGg-5ctZfvo",
        "colab_type": "text"
      },
      "source": [
        "The final piece of the puzzle — `predict_completions` wraps everything and allow us to predict multiple completions:"
      ]
    },
    {
      "cell_type": "code",
      "metadata": {
        "id": "CaZRQz3NZLzm",
        "colab_type": "code",
        "colab": {}
      },
      "source": [
        "def predict_completions(text, n=3):\n",
        "    x = prepare_input(text)\n",
        "    preds = model.predict(x, verbose=0)[0]\n",
        "    next_indices = sample(preds, n)\n",
        "    return [indices_char[idx] + predict_completion(text[1:] + indices_char[idx]) for idx in next_indices]"
      ],
      "execution_count": 0,
      "outputs": []
    },
    {
      "cell_type": "markdown",
      "metadata": {
        "id": "Ueztu070ZuvY",
        "colab_type": "text"
      },
      "source": [
        "Let’s use sequences of 40 characters that we will use as seed for our completions. All of these are quotes from Friedrich Nietzsche himself:"
      ]
    },
    {
      "cell_type": "code",
      "metadata": {
        "id": "JkucGZ1IZpbh",
        "colab_type": "code",
        "colab": {}
      },
      "source": [
        "# quotes = [\n",
        "#     \"It is not a lack of love, but a lack of friendship that makes unhappy marriages.\",\n",
        "#     \"That which does not kill us makes us stronger.\",\n",
        "#     \"I'm not upset that you lied to me, I'm upset that from now on I can't believe you.\",\n",
        "#     \"And those who were seen dancing were thought to be insane by those who could not hear the music.\",\n",
        "#     \"It is hard enough to remember my opinions, without also remembering my reasons for them!\",\n",
        "#     \"A man lying on a comfortable sofa is listening to his wi\",\n",
        "#     \"Assuming the predictions are probabilistic, novel sequences can be generated from a trai\",\n",
        "#     \"The networks performance is competitive with state-of-the-art language models, and it works almost\",\n",
        "#     \"Assump\"\n",
        "# ]\n",
        "\n",
        "quotes = [\n",
        "    \"It is not a lack of lov\",\n",
        "    \"That which does not kill us makes us stro\",\n",
        "    \"I'm not ups\",\n",
        "    \"And those who were seen dan\",\n",
        "    \"It is hard enough to remember my opini\",\n",
        "    \"A man lying on a com\",\n",
        "    \"Assuming the pre\",\n",
        "    \"The networks performance is compe\",\n",
        "    \"Assump\",\n",
        "    \"Assuming the prediction\",\n",
        "    \"Assuming the predictions are probabilistic, novel sequences can\",\n",
        "    \"Assuming the predictions are probabilistic, novel sequences can be gene\",\n",
        "    \"Assuming the predictions are probabilistic, novel sequences can be generat\"\n",
        "]"
      ],
      "execution_count": 0,
      "outputs": []
    },
    {
      "cell_type": "code",
      "metadata": {
        "id": "721JtJkzZxuL",
        "colab_type": "code",
        "colab": {
          "base_uri": "https://localhost:8080/",
          "height": 700
        },
        "outputId": "7a157365-9947-48bb-d68a-ee80cb3e77af"
      },
      "source": [
        "for q in quotes:\n",
        "    seq = q.lower()\n",
        "    print(seq)\n",
        "    print(predict_completions(seq, 5))\n",
        "    print()"
      ],
      "execution_count": 123,
      "outputs": [
        {
          "output_type": "stream",
          "text": [
            "it is not a lack of lov\n",
            "['e ', 'ation ', 'ing ', 'om ', 'y ']\n",
            "\n",
            "that which does not kill us makes us stro\n",
            "['nger ', 'ught ', 'ke ', 'lled ', 'te ']\n",
            "\n",
            "i'm not ups\n",
            "['oul ', 'es ', ' the ', 'terestant(in ', 'urlityce ']\n",
            "\n",
            "and those who were seen dan\n",
            "['gerous ', 'k ', 'cing ', ' in ', 'est ']\n",
            "\n",
            "it is hard enough to remember my opini\n"
          ],
          "name": "stdout"
        },
        {
          "output_type": "stream",
          "text": [
            "/usr/local/lib/python3.6/dist-packages/ipykernel_launcher.py:3: RuntimeWarning: divide by zero encountered in log\n",
            "  This is separate from the ipykernel package so we can avoid doing imports until\n"
          ],
          "name": "stderr"
        },
        {
          "output_type": "stream",
          "text": [
            "['on ', 'ty ', 've ', 'ance ', 'sed ']\n",
            "\n",
            "a man lying on a com\n",
            "['paring ', 'mon ', 'ing ', 'e ', 'on ']\n",
            "\n",
            "assuming the pre\n",
            "['sent ', 'paration ', 'dicate ', 'vails ', 'ferinces ']\n",
            "\n",
            "the networks performance is compe\n",
            "['lled ', 'rition ', 'table ', 'ssed ', 'nsated ']\n",
            "\n",
            "assump\n",
            "['tesons ', 'e ', 'oneoustwhile ', 'le ', 'al ']\n",
            "\n",
            "assuming the prediction\n",
            "[' of ', ', ', '. ', '\\nof ', '--the ']\n",
            "\n",
            "assuming the predictions are probabilistic, novel sequences can\n",
            "[' be ', 'not ', '\\nbe ', 'sorated ', 'tured ']\n",
            "\n",
            "assuming the predictions are probabilistic, novel sequences can be gene\n",
            "['rally ', 'st ', 'lally ', 'usned ', 'nal ']\n",
            "\n",
            "assuming the predictions are probabilistic, novel sequences can be generat\n",
            "['ion ', 'ed ', 'ors ', 'y ', 'able ']\n",
            "\n"
          ],
          "name": "stdout"
        }
      ]
    },
    {
      "cell_type": "markdown",
      "metadata": {
        "id": "nXJ5TiR1aJs-",
        "colab_type": "text"
      },
      "source": [
        "Apart from the fact that the completions look like proper words (remember, we are training our model on characters, not words), they look pretty reasonable as well! Perhaps better model and/or more training will provide even better results?"
      ]
    },
    {
      "cell_type": "markdown",
      "metadata": {
        "id": "l2uOFqWSaOdZ",
        "colab_type": "text"
      },
      "source": [
        "# Conclusion\n",
        "\n",
        "We’ve built a model using just a few lines of code in `Keras` that performs reasonably well after just 20 training epochs. Can you try it with your own text? Why not predict whole sentences? Will it work that well in other languages?"
      ]
    },
    {
      "cell_type": "code",
      "metadata": {
        "id": "tc2bqryXZzyg",
        "colab_type": "code",
        "colab": {}
      },
      "source": [
        ""
      ],
      "execution_count": 0,
      "outputs": []
    }
  ]
}